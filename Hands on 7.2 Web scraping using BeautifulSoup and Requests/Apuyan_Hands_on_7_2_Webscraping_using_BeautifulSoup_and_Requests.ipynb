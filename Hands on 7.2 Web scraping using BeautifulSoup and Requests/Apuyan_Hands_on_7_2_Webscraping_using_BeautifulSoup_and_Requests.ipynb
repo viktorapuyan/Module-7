{
 "cells": [
  {
   "cell_type": "markdown",
   "metadata": {
    "id": "RwFtr8NWWpJ4"
   },
   "source": [
    "**Data Gathering**"
   ]
  },
  {
   "cell_type": "markdown",
   "metadata": {
    "id": "1HWR3jFYWtyA"
   },
   "source": [
    "**Example of gathering image data using webcam**"
   ]
  },
  {
   "cell_type": "markdown",
   "metadata": {
    "id": "lPbRDs8iWzsZ"
   },
   "source": [
    "Note: Run this snippet using local jupyter notebook"
   ]
  },
  {
   "cell_type": "code",
   "execution_count": 2,
   "metadata": {
    "colab": {
     "base_uri": "https://localhost:8080/",
     "height": 453
    },
    "id": "6GFEjje7WE8h",
    "outputId": "809b4812-e8f1-4fd0-8e89-fb3d5fc10499"
   },
   "outputs": [
    {
     "ename": "ModuleNotFoundError",
     "evalue": "No module named 'cv2'",
     "output_type": "error",
     "traceback": [
      "\u001b[1;31m---------------------------------------------------------------------------\u001b[0m",
      "\u001b[1;31mModuleNotFoundError\u001b[0m                       Traceback (most recent call last)",
      "Cell \u001b[1;32mIn[2], line 1\u001b[0m\n\u001b[1;32m----> 1\u001b[0m \u001b[38;5;28;01mimport\u001b[39;00m \u001b[38;5;21;01mcv2\u001b[39;00m\n\u001b[0;32m      2\u001b[0m \u001b[38;5;28;01mfrom\u001b[39;00m \u001b[38;5;21;01mgoogle\u001b[39;00m\u001b[38;5;21;01m.\u001b[39;00m\u001b[38;5;21;01mcolab\u001b[39;00m\u001b[38;5;21;01m.\u001b[39;00m\u001b[38;5;21;01mpatches\u001b[39;00m \u001b[38;5;28;01mimport\u001b[39;00m cv2_imshow\n\u001b[0;32m      3\u001b[0m key \u001b[38;5;241m=\u001b[39m cv2\u001b[38;5;241m.\u001b[39m waitKey(\u001b[38;5;241m1\u001b[39m)\n",
      "\u001b[1;31mModuleNotFoundError\u001b[0m: No module named 'cv2'"
     ]
    }
   ],
   "source": [
    "import cv2\n",
    "from google.colab.patches import cv2_imshow\n",
    "key = cv2. waitKey(1)\n",
    "webcam = cv2.VideoCapture(0)\n",
    "while True:\n",
    "    try:\n",
    "        check, frame = webcam.read()\n",
    "        print(check) #prints true as long as the webcam is running\n",
    "        print(frame) #prints matrix values of each framecd\n",
    "        cv2.imshow(\"Capturing\", frame)\n",
    "        key = cv2.waitKey(1)\n",
    "        if key == ord('s'):\n",
    "            cv2.imwrite(filename='saved_img.jpg', img=frame)\n",
    "            webcam.release()\n",
    "            img_new = cv2.imread('saved_img.jpg', cv2.IMREAD_GRAYSCALE)\n",
    "            img_new = cv2.imshow(\"Captured Image\", img_new)\n",
    "            cv2.waitKey(1650)\n",
    "            cv2.destroyAllWindows()\n",
    "            print(\"Processing image...\")\n",
    "            img_ = cv2.imread('saved_img.jpg', cv2.IMREAD_ANYCOLOR)\n",
    "            print(\"Converting RGB image to grayscale...\")\n",
    "            gray = cv2.cvtColor(img_, cv2.COLOR_BGR2GRAY)\n",
    "            print(\"Converted RGB image to grayscale...\")\n",
    "            print(\"Resizing image to 28x28 scale...\")\n",
    "            img_ = cv2.resize(gray,(28,28))\n",
    "            print(\"Resized...\")\n",
    "            img_resized = cv2.imwrite(filename='saved_img-final.jpg', img=img_)\n",
    "            print(\"Image saved!\")\n",
    "\n",
    "            break\n",
    "        elif key == ord('q'):\n",
    "            print(\"Turning off camera.\")\n",
    "            webcam.release()\n",
    "            print(\"Camera off.\")\n",
    "            print(\"Program ended.\")\n",
    "            cv2.destroyAllWindows()\n",
    "            break\n",
    "\n",
    "    except(KeyboardInterrupt):\n",
    "        print(\"Turning off camera.\")\n",
    "        webcam.release()\n",
    "        print(\"Camera off.\")\n",
    "        print(\"Program ended.\")\n",
    "        cv2.destroyAllWindows()"
   ]
  },
  {
   "cell_type": "markdown",
   "metadata": {
    "id": "1Bm2c4tTZ2Ij"
   },
   "source": [
    "**Example of gathering voice data using microphone**"
   ]
  },
  {
   "cell_type": "code",
   "execution_count": 3,
   "metadata": {
    "colab": {
     "base_uri": "https://localhost:8080/"
    },
    "id": "pR3Tcy5BZ1YG",
    "outputId": "b7e29d23-b85a-4ad6-cfd9-1bb2daceeda2"
   },
   "outputs": [
    {
     "name": "stdout",
     "output_type": "stream",
     "text": [
      "Requirement already satisfied: sounddevice in c:\\users\\apuyan\\anaconda3\\lib\\site-packages (0.4.6)\n",
      "Requirement already satisfied: CFFI>=1.0 in c:\\users\\apuyan\\anaconda3\\lib\\site-packages (from sounddevice) (1.16.0)\n",
      "Requirement already satisfied: pycparser in c:\\users\\apuyan\\anaconda3\\lib\\site-packages (from CFFI>=1.0->sounddevice) (2.21)\n"
     ]
    }
   ],
   "source": [
    "!pip3 install sounddevice"
   ]
  },
  {
   "cell_type": "code",
   "execution_count": 4,
   "metadata": {
    "colab": {
     "base_uri": "https://localhost:8080/"
    },
    "id": "o8fYXbXOZ_gc",
    "outputId": "b654495e-26eb-4fd3-b38a-8830dac5b5de"
   },
   "outputs": [
    {
     "name": "stdout",
     "output_type": "stream",
     "text": [
      "Requirement already satisfied: wavio in c:\\users\\apuyan\\anaconda3\\lib\\site-packages (0.0.8)\n",
      "Requirement already satisfied: numpy>=1.19.0 in c:\\users\\apuyan\\anaconda3\\lib\\site-packages (from wavio) (1.26.4)\n"
     ]
    }
   ],
   "source": [
    "!pip3 install wavio"
   ]
  },
  {
   "cell_type": "code",
   "execution_count": 5,
   "metadata": {
    "colab": {
     "base_uri": "https://localhost:8080/"
    },
    "id": "iJ5Uw2QLaDPa",
    "outputId": "7e119fef-7c16-41f4-c297-6156ddd4779f"
   },
   "outputs": [
    {
     "name": "stdout",
     "output_type": "stream",
     "text": [
      "Requirement already satisfied: scipy in c:\\users\\apuyan\\anaconda3\\lib\\site-packages (1.11.4)\n",
      "Requirement already satisfied: numpy<1.28.0,>=1.21.6 in c:\\users\\apuyan\\anaconda3\\lib\\site-packages (from scipy) (1.26.4)\n"
     ]
    }
   ],
   "source": [
    "!pip3 install scipy"
   ]
  },
  {
   "cell_type": "code",
   "execution_count": 6,
   "metadata": {
    "colab": {
     "base_uri": "https://localhost:8080/"
    },
    "id": "KXMsPv1QaKVp",
    "outputId": "7124d81b-9612-4d2d-d1ef-2fda59893442"
   },
   "outputs": [
    {
     "name": "stderr",
     "output_type": "stream",
     "text": [
      "'apt-get' is not recognized as an internal or external command,\n",
      "operable program or batch file.\n"
     ]
    }
   ],
   "source": [
    "!apt-get install libportaudio2"
   ]
  },
  {
   "cell_type": "code",
   "execution_count": 7,
   "metadata": {
    "colab": {
     "base_uri": "https://localhost:8080/",
     "height": 356
    },
    "id": "GVd7RIqnaRFR",
    "outputId": "4cf175e8-7097-42a2-88b4-282d30a3a26e"
   },
   "outputs": [],
   "source": [
    "# import required libraries\n",
    "import sounddevice as sd\n",
    "from scipy.io.wavfile import write\n",
    "import wavio as wv\n",
    "\n",
    "# Sampling frequency\n",
    "freq = 44100\n",
    "\n",
    "# Recording duration\n",
    "duration = 5\n",
    "\n",
    "# Start recorder with the given values\n",
    "# of duration and sample frequency\n",
    "recording = sd.rec(int(duration * freq),\n",
    "                   samplerate=freq, channels=2)\n",
    "\n",
    "# Record audio for the given number of seconds\n",
    "sd.wait()\n",
    "\n",
    "# This will convert the NumPy array to an audio\n",
    "# file with the given sampling frequency\n",
    "write(\"recording0.wav\", freq, recording)\n",
    "\n",
    "# Convert the NumPy array to audio file\n",
    "wv.write(\"recording1.wav\", recording, freq, sampwidth=2)"
   ]
  },
  {
   "cell_type": "markdown",
   "metadata": {
    "id": "2IKS1YQCajlq"
   },
   "source": [
    "**Web Scraping**"
   ]
  },
  {
   "cell_type": "markdown",
   "metadata": {
    "id": "3KlXXN7iamcn"
   },
   "source": [
    "Web scraping, web harvesting, or web data extraction is data scraping used for extracting data from websites. The web scraping software may directly access the World\n",
    "Wide Web using the Hypertext Transfer Protocol or a web browser. While web scraping can be done manually by a software user, the term typically refers to automated\n",
    "processes implemented using a bot or web crawler. It is a form of copying in which specific data is gathered and copied from the web, typically into a central local database or\n",
    "spreadsheet, for later retrieval or analysis."
   ]
  },
  {
   "cell_type": "markdown",
   "metadata": {
    "id": "tEAUGNdZansi"
   },
   "source": [
    "**Image Scraping using BeautifulSoup and Request**"
   ]
  },
  {
   "cell_type": "code",
   "execution_count": 8,
   "metadata": {
    "colab": {
     "base_uri": "https://localhost:8080/"
    },
    "id": "pryDn1IyasTL",
    "outputId": "1ae43ec1-0bc3-41ba-ebe3-f3e28c74e337"
   },
   "outputs": [
    {
     "name": "stdout",
     "output_type": "stream",
     "text": [
      "Requirement already satisfied: bs4 in c:\\users\\apuyan\\anaconda3\\lib\\site-packages (0.0.2)\n",
      "Requirement already satisfied: beautifulsoup4 in c:\\users\\apuyan\\anaconda3\\lib\\site-packages (from bs4) (4.12.2)\n",
      "Requirement already satisfied: soupsieve>1.2 in c:\\users\\apuyan\\anaconda3\\lib\\site-packages (from beautifulsoup4->bs4) (2.5)\n"
     ]
    }
   ],
   "source": [
    "!pip install bs4"
   ]
  },
  {
   "cell_type": "code",
   "execution_count": 9,
   "metadata": {
    "colab": {
     "base_uri": "https://localhost:8080/"
    },
    "id": "OplKLkcwazo8",
    "outputId": "db31b07d-50d8-4ad6-9d01-bd19908cdadf"
   },
   "outputs": [
    {
     "name": "stdout",
     "output_type": "stream",
     "text": [
      "Requirement already satisfied: requests in c:\\users\\apuyan\\anaconda3\\lib\\site-packages (2.31.0)\n",
      "Requirement already satisfied: charset-normalizer<4,>=2 in c:\\users\\apuyan\\anaconda3\\lib\\site-packages (from requests) (2.0.4)\n",
      "Requirement already satisfied: idna<4,>=2.5 in c:\\users\\apuyan\\anaconda3\\lib\\site-packages (from requests) (3.4)\n",
      "Requirement already satisfied: urllib3<3,>=1.21.1 in c:\\users\\apuyan\\anaconda3\\lib\\site-packages (from requests) (2.0.7)\n",
      "Requirement already satisfied: certifi>=2017.4.17 in c:\\users\\apuyan\\anaconda3\\lib\\site-packages (from requests) (2024.2.2)\n",
      "Note: you may need to restart the kernel to use updated packages.\n"
     ]
    }
   ],
   "source": [
    "pip install requests"
   ]
  },
  {
   "cell_type": "code",
   "execution_count": 10,
   "metadata": {
    "colab": {
     "base_uri": "https://localhost:8080/"
    },
    "id": "f7qzF12aa4I8",
    "outputId": "5af812fb-57db-4e38-ba5f-cad9591e2e71"
   },
   "outputs": [
    {
     "name": "stdout",
     "output_type": "stream",
     "text": [
      "/images/branding/googlelogo/1x/googlelogo_white_background_color_272x92dp.png\n"
     ]
    }
   ],
   "source": [
    "import requests\n",
    "from bs4 import BeautifulSoup\n",
    "\n",
    "def getdata(url):\n",
    "  r = requests.get(url)\n",
    "  return r.text\n",
    "\n",
    "htmldata = getdata(\"https://www.google.com/\")\n",
    "soup = BeautifulSoup(htmldata, 'html.parser')\n",
    "for item in soup.find_all('img'):\n",
    "  print(item['src'])"
   ]
  },
  {
   "cell_type": "code",
   "execution_count": 11,
   "metadata": {
    "colab": {
     "base_uri": "https://localhost:8080/"
    },
    "id": "k0JGNpSOa-hC",
    "outputId": "1c4b1885-241c-4fbd-fcbe-3fa99d8b9b8c"
   },
   "outputs": [
    {
     "name": "stdout",
     "output_type": "stream",
     "text": [
      "Requirement already satisfied: selenium in c:\\users\\apuyan\\anaconda3\\lib\\site-packages (4.18.1)\n",
      "Requirement already satisfied: urllib3<3,>=1.26 in c:\\users\\apuyan\\anaconda3\\lib\\site-packages (from urllib3[socks]<3,>=1.26->selenium) (2.0.7)\n",
      "Requirement already satisfied: trio~=0.17 in c:\\users\\apuyan\\anaconda3\\lib\\site-packages (from selenium) (0.25.0)\n",
      "Requirement already satisfied: trio-websocket~=0.9 in c:\\users\\apuyan\\anaconda3\\lib\\site-packages (from selenium) (0.11.1)\n",
      "Requirement already satisfied: certifi>=2021.10.8 in c:\\users\\apuyan\\anaconda3\\lib\\site-packages (from selenium) (2024.2.2)\n",
      "Requirement already satisfied: typing_extensions>=4.9.0 in c:\\users\\apuyan\\anaconda3\\lib\\site-packages (from selenium) (4.9.0)\n",
      "Requirement already satisfied: attrs>=23.2.0 in c:\\users\\apuyan\\anaconda3\\lib\\site-packages (from trio~=0.17->selenium) (23.2.0)\n",
      "Requirement already satisfied: sortedcontainers in c:\\users\\apuyan\\anaconda3\\lib\\site-packages (from trio~=0.17->selenium) (2.4.0)\n",
      "Requirement already satisfied: idna in c:\\users\\apuyan\\anaconda3\\lib\\site-packages (from trio~=0.17->selenium) (3.4)\n",
      "Requirement already satisfied: outcome in c:\\users\\apuyan\\anaconda3\\lib\\site-packages (from trio~=0.17->selenium) (1.3.0.post0)\n",
      "Requirement already satisfied: sniffio>=1.3.0 in c:\\users\\apuyan\\anaconda3\\lib\\site-packages (from trio~=0.17->selenium) (1.3.0)\n",
      "Requirement already satisfied: cffi>=1.14 in c:\\users\\apuyan\\anaconda3\\lib\\site-packages (from trio~=0.17->selenium) (1.16.0)\n",
      "Requirement already satisfied: wsproto>=0.14 in c:\\users\\apuyan\\anaconda3\\lib\\site-packages (from trio-websocket~=0.9->selenium) (1.2.0)\n",
      "Requirement already satisfied: pysocks!=1.5.7,<2.0,>=1.5.6 in c:\\users\\apuyan\\anaconda3\\lib\\site-packages (from urllib3[socks]<3,>=1.26->selenium) (1.7.1)\n",
      "Requirement already satisfied: pycparser in c:\\users\\apuyan\\anaconda3\\lib\\site-packages (from cffi>=1.14->trio~=0.17->selenium) (2.21)\n",
      "Requirement already satisfied: h11<1,>=0.9.0 in c:\\users\\apuyan\\anaconda3\\lib\\site-packages (from wsproto>=0.14->trio-websocket~=0.9->selenium) (0.14.0)\n",
      "Note: you may need to restart the kernel to use updated packages.\n"
     ]
    }
   ],
   "source": [
    "pip install selenium"
   ]
  },
  {
   "cell_type": "markdown",
   "metadata": {
    "id": "ccEvTUzTbDQE"
   },
   "source": [
    "**Image Scraping using Selenium**"
   ]
  },
  {
   "cell_type": "code",
   "execution_count": 115,
   "metadata": {
    "colab": {
     "base_uri": "https://localhost:8080/",
     "height": 766
    },
    "id": "sXU-3gJdbCxu",
    "outputId": "dcefc742-fa32-40c5-f8c8-fd230f819c7a"
   },
   "outputs": [
    {
     "name": "stdout",
     "output_type": "stream",
     "text": [
      "Requirement already satisfied: selenium in c:\\users\\apuyan\\anaconda3\\lib\\site-packages (4.18.1)\n",
      "Requirement already satisfied: urllib3<3,>=1.26 in c:\\users\\apuyan\\anaconda3\\lib\\site-packages (from urllib3[socks]<3,>=1.26->selenium) (2.0.7)\n",
      "Requirement already satisfied: trio~=0.17 in c:\\users\\apuyan\\anaconda3\\lib\\site-packages (from selenium) (0.25.0)\n",
      "Requirement already satisfied: trio-websocket~=0.9 in c:\\users\\apuyan\\anaconda3\\lib\\site-packages (from selenium) (0.11.1)\n",
      "Requirement already satisfied: certifi>=2021.10.8 in c:\\users\\apuyan\\anaconda3\\lib\\site-packages (from selenium) (2024.2.2)\n",
      "Requirement already satisfied: typing_extensions>=4.9.0 in c:\\users\\apuyan\\anaconda3\\lib\\site-packages (from selenium) (4.9.0)\n",
      "Requirement already satisfied: attrs>=23.2.0 in c:\\users\\apuyan\\anaconda3\\lib\\site-packages (from trio~=0.17->selenium) (23.2.0)\n",
      "Requirement already satisfied: sortedcontainers in c:\\users\\apuyan\\anaconda3\\lib\\site-packages (from trio~=0.17->selenium) (2.4.0)\n",
      "Requirement already satisfied: idna in c:\\users\\apuyan\\anaconda3\\lib\\site-packages (from trio~=0.17->selenium) (3.4)\n",
      "Requirement already satisfied: outcome in c:\\users\\apuyan\\anaconda3\\lib\\site-packages (from trio~=0.17->selenium) (1.3.0.post0)\n",
      "Requirement already satisfied: sniffio>=1.3.0 in c:\\users\\apuyan\\anaconda3\\lib\\site-packages (from trio~=0.17->selenium) (1.3.0)\n",
      "Requirement already satisfied: cffi>=1.14 in c:\\users\\apuyan\\anaconda3\\lib\\site-packages (from trio~=0.17->selenium) (1.16.0)\n",
      "Requirement already satisfied: wsproto>=0.14 in c:\\users\\apuyan\\anaconda3\\lib\\site-packages (from trio-websocket~=0.9->selenium) (1.2.0)\n",
      "Requirement already satisfied: pysocks!=1.5.7,<2.0,>=1.5.6 in c:\\users\\apuyan\\anaconda3\\lib\\site-packages (from urllib3[socks]<3,>=1.26->selenium) (1.7.1)\n",
      "Requirement already satisfied: pycparser in c:\\users\\apuyan\\anaconda3\\lib\\site-packages (from cffi>=1.14->trio~=0.17->selenium) (2.21)\n",
      "Requirement already satisfied: h11<1,>=0.9.0 in c:\\users\\apuyan\\anaconda3\\lib\\site-packages (from wsproto>=0.14->trio-websocket~=0.9->selenium) (0.14.0)\n",
      "Current Path C:/Users/apuyan/Desktop/HOA 7.2 Webscraping using BeautifulSoup and Requests\\cat\n",
      "total results: 100\n",
      "Found: [<selenium.webdriver.remote.webelement.WebElement (session=\"49eb72a05162c1dc011de4203b08786f\", element=\"f.8DE2873D4CF6E70B1A6CF5649BC6F9F3.d.CA0BD5533733909361D2275A54F968E1.e.10\")>, <selenium.webdriver.remote.webelement.WebElement (session=\"49eb72a05162c1dc011de4203b08786f\", element=\"f.8DE2873D4CF6E70B1A6CF5649BC6F9F3.d.CA0BD5533733909361D2275A54F968E1.e.12\")>, <selenium.webdriver.remote.webelement.WebElement (session=\"49eb72a05162c1dc011de4203b08786f\", element=\"f.8DE2873D4CF6E70B1A6CF5649BC6F9F3.d.CA0BD5533733909361D2275A54F968E1.e.14\")>, <selenium.webdriver.remote.webelement.WebElement (session=\"49eb72a05162c1dc011de4203b08786f\", element=\"f.8DE2873D4CF6E70B1A6CF5649BC6F9F3.d.CA0BD5533733909361D2275A54F968E1.e.16\")>, <selenium.webdriver.remote.webelement.WebElement (session=\"49eb72a05162c1dc011de4203b08786f\", element=\"f.8DE2873D4CF6E70B1A6CF5649BC6F9F3.d.CA0BD5533733909361D2275A54F968E1.e.18\")>, <selenium.webdriver.remote.webelement.WebElement (session=\"49eb72a05162c1dc011de4203b08786f\", element=\"f.8DE2873D4CF6E70B1A6CF5649BC6F9F3.d.CA0BD5533733909361D2275A54F968E1.e.20\")>, <selenium.webdriver.remote.webelement.WebElement (session=\"49eb72a05162c1dc011de4203b08786f\", element=\"f.8DE2873D4CF6E70B1A6CF5649BC6F9F3.d.CA0BD5533733909361D2275A54F968E1.e.22\")>, <selenium.webdriver.remote.webelement.WebElement (session=\"49eb72a05162c1dc011de4203b08786f\", element=\"f.8DE2873D4CF6E70B1A6CF5649BC6F9F3.d.CA0BD5533733909361D2275A54F968E1.e.24\")>, <selenium.webdriver.remote.webelement.WebElement (session=\"49eb72a05162c1dc011de4203b08786f\", element=\"f.8DE2873D4CF6E70B1A6CF5649BC6F9F3.d.CA0BD5533733909361D2275A54F968E1.e.26\")>, <selenium.webdriver.remote.webelement.WebElement (session=\"49eb72a05162c1dc011de4203b08786f\", element=\"f.8DE2873D4CF6E70B1A6CF5649BC6F9F3.d.CA0BD5533733909361D2275A54F968E1.e.27\")>, <selenium.webdriver.remote.webelement.WebElement (session=\"49eb72a05162c1dc011de4203b08786f\", element=\"f.8DE2873D4CF6E70B1A6CF5649BC6F9F3.d.CA0BD5533733909361D2275A54F968E1.e.28\")>, <selenium.webdriver.remote.webelement.WebElement (session=\"49eb72a05162c1dc011de4203b08786f\", element=\"f.8DE2873D4CF6E70B1A6CF5649BC6F9F3.d.CA0BD5533733909361D2275A54F968E1.e.39\")>, <selenium.webdriver.remote.webelement.WebElement (session=\"49eb72a05162c1dc011de4203b08786f\", element=\"f.8DE2873D4CF6E70B1A6CF5649BC6F9F3.d.CA0BD5533733909361D2275A54F968E1.e.40\")>, <selenium.webdriver.remote.webelement.WebElement (session=\"49eb72a05162c1dc011de4203b08786f\", element=\"f.8DE2873D4CF6E70B1A6CF5649BC6F9F3.d.CA0BD5533733909361D2275A54F968E1.e.41\")>, <selenium.webdriver.remote.webelement.WebElement (session=\"49eb72a05162c1dc011de4203b08786f\", element=\"f.8DE2873D4CF6E70B1A6CF5649BC6F9F3.d.CA0BD5533733909361D2275A54F968E1.e.42\")>, <selenium.webdriver.remote.webelement.WebElement (session=\"49eb72a05162c1dc011de4203b08786f\", element=\"f.8DE2873D4CF6E70B1A6CF5649BC6F9F3.d.CA0BD5533733909361D2275A54F968E1.e.43\")>, <selenium.webdriver.remote.webelement.WebElement (session=\"49eb72a05162c1dc011de4203b08786f\", element=\"f.8DE2873D4CF6E70B1A6CF5649BC6F9F3.d.CA0BD5533733909361D2275A54F968E1.e.44\")>, <selenium.webdriver.remote.webelement.WebElement (session=\"49eb72a05162c1dc011de4203b08786f\", element=\"f.8DE2873D4CF6E70B1A6CF5649BC6F9F3.d.CA0BD5533733909361D2275A54F968E1.e.45\")>, <selenium.webdriver.remote.webelement.WebElement (session=\"49eb72a05162c1dc011de4203b08786f\", element=\"f.8DE2873D4CF6E70B1A6CF5649BC6F9F3.d.CA0BD5533733909361D2275A54F968E1.e.46\")>, <selenium.webdriver.remote.webelement.WebElement (session=\"49eb72a05162c1dc011de4203b08786f\", element=\"f.8DE2873D4CF6E70B1A6CF5649BC6F9F3.d.CA0BD5533733909361D2275A54F968E1.e.47\")>, <selenium.webdriver.remote.webelement.WebElement (session=\"49eb72a05162c1dc011de4203b08786f\", element=\"f.8DE2873D4CF6E70B1A6CF5649BC6F9F3.d.CA0BD5533733909361D2275A54F968E1.e.48\")>, <selenium.webdriver.remote.webelement.WebElement (session=\"49eb72a05162c1dc011de4203b08786f\", element=\"f.8DE2873D4CF6E70B1A6CF5649BC6F9F3.d.CA0BD5533733909361D2275A54F968E1.e.50\")>, <selenium.webdriver.remote.webelement.WebElement (session=\"49eb72a05162c1dc011de4203b08786f\", element=\"f.8DE2873D4CF6E70B1A6CF5649BC6F9F3.d.CA0BD5533733909361D2275A54F968E1.e.52\")>, <selenium.webdriver.remote.webelement.WebElement (session=\"49eb72a05162c1dc011de4203b08786f\", element=\"f.8DE2873D4CF6E70B1A6CF5649BC6F9F3.d.CA0BD5533733909361D2275A54F968E1.e.54\")>, <selenium.webdriver.remote.webelement.WebElement (session=\"49eb72a05162c1dc011de4203b08786f\", element=\"f.8DE2873D4CF6E70B1A6CF5649BC6F9F3.d.CA0BD5533733909361D2275A54F968E1.e.56\")>, <selenium.webdriver.remote.webelement.WebElement (session=\"49eb72a05162c1dc011de4203b08786f\", element=\"f.8DE2873D4CF6E70B1A6CF5649BC6F9F3.d.CA0BD5533733909361D2275A54F968E1.e.58\")>, <selenium.webdriver.remote.webelement.WebElement (session=\"49eb72a05162c1dc011de4203b08786f\", element=\"f.8DE2873D4CF6E70B1A6CF5649BC6F9F3.d.CA0BD5533733909361D2275A54F968E1.e.60\")>, <selenium.webdriver.remote.webelement.WebElement (session=\"49eb72a05162c1dc011de4203b08786f\", element=\"f.8DE2873D4CF6E70B1A6CF5649BC6F9F3.d.CA0BD5533733909361D2275A54F968E1.e.62\")>, <selenium.webdriver.remote.webelement.WebElement (session=\"49eb72a05162c1dc011de4203b08786f\", element=\"f.8DE2873D4CF6E70B1A6CF5649BC6F9F3.d.CA0BD5533733909361D2275A54F968E1.e.64\")>, <selenium.webdriver.remote.webelement.WebElement (session=\"49eb72a05162c1dc011de4203b08786f\", element=\"f.8DE2873D4CF6E70B1A6CF5649BC6F9F3.d.CA0BD5533733909361D2275A54F968E1.e.66\")>, <selenium.webdriver.remote.webelement.WebElement (session=\"49eb72a05162c1dc011de4203b08786f\", element=\"f.8DE2873D4CF6E70B1A6CF5649BC6F9F3.d.CA0BD5533733909361D2275A54F968E1.e.68\")>, <selenium.webdriver.remote.webelement.WebElement (session=\"49eb72a05162c1dc011de4203b08786f\", element=\"f.8DE2873D4CF6E70B1A6CF5649BC6F9F3.d.CA0BD5533733909361D2275A54F968E1.e.70\")>, <selenium.webdriver.remote.webelement.WebElement (session=\"49eb72a05162c1dc011de4203b08786f\", element=\"f.8DE2873D4CF6E70B1A6CF5649BC6F9F3.d.CA0BD5533733909361D2275A54F968E1.e.72\")>, <selenium.webdriver.remote.webelement.WebElement (session=\"49eb72a05162c1dc011de4203b08786f\", element=\"f.8DE2873D4CF6E70B1A6CF5649BC6F9F3.d.CA0BD5533733909361D2275A54F968E1.e.74\")>, <selenium.webdriver.remote.webelement.WebElement (session=\"49eb72a05162c1dc011de4203b08786f\", element=\"f.8DE2873D4CF6E70B1A6CF5649BC6F9F3.d.CA0BD5533733909361D2275A54F968E1.e.76\")>, <selenium.webdriver.remote.webelement.WebElement (session=\"49eb72a05162c1dc011de4203b08786f\", element=\"f.8DE2873D4CF6E70B1A6CF5649BC6F9F3.d.CA0BD5533733909361D2275A54F968E1.e.78\")>, <selenium.webdriver.remote.webelement.WebElement (session=\"49eb72a05162c1dc011de4203b08786f\", element=\"f.8DE2873D4CF6E70B1A6CF5649BC6F9F3.d.CA0BD5533733909361D2275A54F968E1.e.80\")>, <selenium.webdriver.remote.webelement.WebElement (session=\"49eb72a05162c1dc011de4203b08786f\", element=\"f.8DE2873D4CF6E70B1A6CF5649BC6F9F3.d.CA0BD5533733909361D2275A54F968E1.e.38\")>, <selenium.webdriver.remote.webelement.WebElement (session=\"49eb72a05162c1dc011de4203b08786f\", element=\"f.8DE2873D4CF6E70B1A6CF5649BC6F9F3.d.CA0BD5533733909361D2275A54F968E1.e.83\")>, <selenium.webdriver.remote.webelement.WebElement (session=\"49eb72a05162c1dc011de4203b08786f\", element=\"f.8DE2873D4CF6E70B1A6CF5649BC6F9F3.d.CA0BD5533733909361D2275A54F968E1.e.85\")>, <selenium.webdriver.remote.webelement.WebElement (session=\"49eb72a05162c1dc011de4203b08786f\", element=\"f.8DE2873D4CF6E70B1A6CF5649BC6F9F3.d.CA0BD5533733909361D2275A54F968E1.e.87\")>, <selenium.webdriver.remote.webelement.WebElement (session=\"49eb72a05162c1dc011de4203b08786f\", element=\"f.8DE2873D4CF6E70B1A6CF5649BC6F9F3.d.CA0BD5533733909361D2275A54F968E1.e.89\")>, <selenium.webdriver.remote.webelement.WebElement (session=\"49eb72a05162c1dc011de4203b08786f\", element=\"f.8DE2873D4CF6E70B1A6CF5649BC6F9F3.d.CA0BD5533733909361D2275A54F968E1.e.91\")>, <selenium.webdriver.remote.webelement.WebElement (session=\"49eb72a05162c1dc011de4203b08786f\", element=\"f.8DE2873D4CF6E70B1A6CF5649BC6F9F3.d.CA0BD5533733909361D2275A54F968E1.e.93\")>, <selenium.webdriver.remote.webelement.WebElement (session=\"49eb72a05162c1dc011de4203b08786f\", element=\"f.8DE2873D4CF6E70B1A6CF5649BC6F9F3.d.CA0BD5533733909361D2275A54F968E1.e.95\")>, <selenium.webdriver.remote.webelement.WebElement (session=\"49eb72a05162c1dc011de4203b08786f\", element=\"f.8DE2873D4CF6E70B1A6CF5649BC6F9F3.d.CA0BD5533733909361D2275A54F968E1.e.97\")>, <selenium.webdriver.remote.webelement.WebElement (session=\"49eb72a05162c1dc011de4203b08786f\", element=\"f.8DE2873D4CF6E70B1A6CF5649BC6F9F3.d.CA0BD5533733909361D2275A54F968E1.e.99\")>, <selenium.webdriver.remote.webelement.WebElement (session=\"49eb72a05162c1dc011de4203b08786f\", element=\"f.8DE2873D4CF6E70B1A6CF5649BC6F9F3.d.CA0BD5533733909361D2275A54F968E1.e.101\")>, <selenium.webdriver.remote.webelement.WebElement (session=\"49eb72a05162c1dc011de4203b08786f\", element=\"f.8DE2873D4CF6E70B1A6CF5649BC6F9F3.d.CA0BD5533733909361D2275A54F968E1.e.103\")>, <selenium.webdriver.remote.webelement.WebElement (session=\"49eb72a05162c1dc011de4203b08786f\", element=\"f.8DE2873D4CF6E70B1A6CF5649BC6F9F3.d.CA0BD5533733909361D2275A54F968E1.e.105\")>, <selenium.webdriver.remote.webelement.WebElement (session=\"49eb72a05162c1dc011de4203b08786f\", element=\"f.8DE2873D4CF6E70B1A6CF5649BC6F9F3.d.CA0BD5533733909361D2275A54F968E1.e.107\")>, <selenium.webdriver.remote.webelement.WebElement (session=\"49eb72a05162c1dc011de4203b08786f\", element=\"f.8DE2873D4CF6E70B1A6CF5649BC6F9F3.d.CA0BD5533733909361D2275A54F968E1.e.109\")>, <selenium.webdriver.remote.webelement.WebElement (session=\"49eb72a05162c1dc011de4203b08786f\", element=\"f.8DE2873D4CF6E70B1A6CF5649BC6F9F3.d.CA0BD5533733909361D2275A54F968E1.e.111\")>, <selenium.webdriver.remote.webelement.WebElement (session=\"49eb72a05162c1dc011de4203b08786f\", element=\"f.8DE2873D4CF6E70B1A6CF5649BC6F9F3.d.CA0BD5533733909361D2275A54F968E1.e.113\")>, <selenium.webdriver.remote.webelement.WebElement (session=\"49eb72a05162c1dc011de4203b08786f\", element=\"f.8DE2873D4CF6E70B1A6CF5649BC6F9F3.d.CA0BD5533733909361D2275A54F968E1.e.115\")>, <selenium.webdriver.remote.webelement.WebElement (session=\"49eb72a05162c1dc011de4203b08786f\", element=\"f.8DE2873D4CF6E70B1A6CF5649BC6F9F3.d.CA0BD5533733909361D2275A54F968E1.e.117\")>, <selenium.webdriver.remote.webelement.WebElement (session=\"49eb72a05162c1dc011de4203b08786f\", element=\"f.8DE2873D4CF6E70B1A6CF5649BC6F9F3.d.CA0BD5533733909361D2275A54F968E1.e.119\")>, <selenium.webdriver.remote.webelement.WebElement (session=\"49eb72a05162c1dc011de4203b08786f\", element=\"f.8DE2873D4CF6E70B1A6CF5649BC6F9F3.d.CA0BD5533733909361D2275A54F968E1.e.121\")>, <selenium.webdriver.remote.webelement.WebElement (session=\"49eb72a05162c1dc011de4203b08786f\", element=\"f.8DE2873D4CF6E70B1A6CF5649BC6F9F3.d.CA0BD5533733909361D2275A54F968E1.e.123\")>, <selenium.webdriver.remote.webelement.WebElement (session=\"49eb72a05162c1dc011de4203b08786f\", element=\"f.8DE2873D4CF6E70B1A6CF5649BC6F9F3.d.CA0BD5533733909361D2275A54F968E1.e.125\")>, <selenium.webdriver.remote.webelement.WebElement (session=\"49eb72a05162c1dc011de4203b08786f\", element=\"f.8DE2873D4CF6E70B1A6CF5649BC6F9F3.d.CA0BD5533733909361D2275A54F968E1.e.127\")>, <selenium.webdriver.remote.webelement.WebElement (session=\"49eb72a05162c1dc011de4203b08786f\", element=\"f.8DE2873D4CF6E70B1A6CF5649BC6F9F3.d.CA0BD5533733909361D2275A54F968E1.e.129\")>, <selenium.webdriver.remote.webelement.WebElement (session=\"49eb72a05162c1dc011de4203b08786f\", element=\"f.8DE2873D4CF6E70B1A6CF5649BC6F9F3.d.CA0BD5533733909361D2275A54F968E1.e.131\")>, <selenium.webdriver.remote.webelement.WebElement (session=\"49eb72a05162c1dc011de4203b08786f\", element=\"f.8DE2873D4CF6E70B1A6CF5649BC6F9F3.d.CA0BD5533733909361D2275A54F968E1.e.133\")>, <selenium.webdriver.remote.webelement.WebElement (session=\"49eb72a05162c1dc011de4203b08786f\", element=\"f.8DE2873D4CF6E70B1A6CF5649BC6F9F3.d.CA0BD5533733909361D2275A54F968E1.e.135\")>, <selenium.webdriver.remote.webelement.WebElement (session=\"49eb72a05162c1dc011de4203b08786f\", element=\"f.8DE2873D4CF6E70B1A6CF5649BC6F9F3.d.CA0BD5533733909361D2275A54F968E1.e.137\")>, <selenium.webdriver.remote.webelement.WebElement (session=\"49eb72a05162c1dc011de4203b08786f\", element=\"f.8DE2873D4CF6E70B1A6CF5649BC6F9F3.d.CA0BD5533733909361D2275A54F968E1.e.139\")>, <selenium.webdriver.remote.webelement.WebElement (session=\"49eb72a05162c1dc011de4203b08786f\", element=\"f.8DE2873D4CF6E70B1A6CF5649BC6F9F3.d.CA0BD5533733909361D2275A54F968E1.e.141\")>, <selenium.webdriver.remote.webelement.WebElement (session=\"49eb72a05162c1dc011de4203b08786f\", element=\"f.8DE2873D4CF6E70B1A6CF5649BC6F9F3.d.CA0BD5533733909361D2275A54F968E1.e.143\")>, <selenium.webdriver.remote.webelement.WebElement (session=\"49eb72a05162c1dc011de4203b08786f\", element=\"f.8DE2873D4CF6E70B1A6CF5649BC6F9F3.d.CA0BD5533733909361D2275A54F968E1.e.145\")>, <selenium.webdriver.remote.webelement.WebElement (session=\"49eb72a05162c1dc011de4203b08786f\", element=\"f.8DE2873D4CF6E70B1A6CF5649BC6F9F3.d.CA0BD5533733909361D2275A54F968E1.e.147\")>, <selenium.webdriver.remote.webelement.WebElement (session=\"49eb72a05162c1dc011de4203b08786f\", element=\"f.8DE2873D4CF6E70B1A6CF5649BC6F9F3.d.CA0BD5533733909361D2275A54F968E1.e.149\")>, <selenium.webdriver.remote.webelement.WebElement (session=\"49eb72a05162c1dc011de4203b08786f\", element=\"f.8DE2873D4CF6E70B1A6CF5649BC6F9F3.d.CA0BD5533733909361D2275A54F968E1.e.151\")>, <selenium.webdriver.remote.webelement.WebElement (session=\"49eb72a05162c1dc011de4203b08786f\", element=\"f.8DE2873D4CF6E70B1A6CF5649BC6F9F3.d.CA0BD5533733909361D2275A54F968E1.e.153\")>, <selenium.webdriver.remote.webelement.WebElement (session=\"49eb72a05162c1dc011de4203b08786f\", element=\"f.8DE2873D4CF6E70B1A6CF5649BC6F9F3.d.CA0BD5533733909361D2275A54F968E1.e.155\")>, <selenium.webdriver.remote.webelement.WebElement (session=\"49eb72a05162c1dc011de4203b08786f\", element=\"f.8DE2873D4CF6E70B1A6CF5649BC6F9F3.d.CA0BD5533733909361D2275A54F968E1.e.157\")>, <selenium.webdriver.remote.webelement.WebElement (session=\"49eb72a05162c1dc011de4203b08786f\", element=\"f.8DE2873D4CF6E70B1A6CF5649BC6F9F3.d.CA0BD5533733909361D2275A54F968E1.e.159\")>, <selenium.webdriver.remote.webelement.WebElement (session=\"49eb72a05162c1dc011de4203b08786f\", element=\"f.8DE2873D4CF6E70B1A6CF5649BC6F9F3.d.CA0BD5533733909361D2275A54F968E1.e.161\")>, <selenium.webdriver.remote.webelement.WebElement (session=\"49eb72a05162c1dc011de4203b08786f\", element=\"f.8DE2873D4CF6E70B1A6CF5649BC6F9F3.d.CA0BD5533733909361D2275A54F968E1.e.163\")>, <selenium.webdriver.remote.webelement.WebElement (session=\"49eb72a05162c1dc011de4203b08786f\", element=\"f.8DE2873D4CF6E70B1A6CF5649BC6F9F3.d.CA0BD5533733909361D2275A54F968E1.e.165\")>, <selenium.webdriver.remote.webelement.WebElement (session=\"49eb72a05162c1dc011de4203b08786f\", element=\"f.8DE2873D4CF6E70B1A6CF5649BC6F9F3.d.CA0BD5533733909361D2275A54F968E1.e.167\")>, <selenium.webdriver.remote.webelement.WebElement (session=\"49eb72a05162c1dc011de4203b08786f\", element=\"f.8DE2873D4CF6E70B1A6CF5649BC6F9F3.d.CA0BD5533733909361D2275A54F968E1.e.169\")>, <selenium.webdriver.remote.webelement.WebElement (session=\"49eb72a05162c1dc011de4203b08786f\", element=\"f.8DE2873D4CF6E70B1A6CF5649BC6F9F3.d.CA0BD5533733909361D2275A54F968E1.e.171\")>, <selenium.webdriver.remote.webelement.WebElement (session=\"49eb72a05162c1dc011de4203b08786f\", element=\"f.8DE2873D4CF6E70B1A6CF5649BC6F9F3.d.CA0BD5533733909361D2275A54F968E1.e.173\")>, <selenium.webdriver.remote.webelement.WebElement (session=\"49eb72a05162c1dc011de4203b08786f\", element=\"f.8DE2873D4CF6E70B1A6CF5649BC6F9F3.d.CA0BD5533733909361D2275A54F968E1.e.175\")>, <selenium.webdriver.remote.webelement.WebElement (session=\"49eb72a05162c1dc011de4203b08786f\", element=\"f.8DE2873D4CF6E70B1A6CF5649BC6F9F3.d.CA0BD5533733909361D2275A54F968E1.e.177\")>, <selenium.webdriver.remote.webelement.WebElement (session=\"49eb72a05162c1dc011de4203b08786f\", element=\"f.8DE2873D4CF6E70B1A6CF5649BC6F9F3.d.CA0BD5533733909361D2275A54F968E1.e.179\")>, <selenium.webdriver.remote.webelement.WebElement (session=\"49eb72a05162c1dc011de4203b08786f\", element=\"f.8DE2873D4CF6E70B1A6CF5649BC6F9F3.d.CA0BD5533733909361D2275A54F968E1.e.181\")>, <selenium.webdriver.remote.webelement.WebElement (session=\"49eb72a05162c1dc011de4203b08786f\", element=\"f.8DE2873D4CF6E70B1A6CF5649BC6F9F3.d.CA0BD5533733909361D2275A54F968E1.e.183\")>, <selenium.webdriver.remote.webelement.WebElement (session=\"49eb72a05162c1dc011de4203b08786f\", element=\"f.8DE2873D4CF6E70B1A6CF5649BC6F9F3.d.CA0BD5533733909361D2275A54F968E1.e.185\")>, <selenium.webdriver.remote.webelement.WebElement (session=\"49eb72a05162c1dc011de4203b08786f\", element=\"f.8DE2873D4CF6E70B1A6CF5649BC6F9F3.d.CA0BD5533733909361D2275A54F968E1.e.187\")>, <selenium.webdriver.remote.webelement.WebElement (session=\"49eb72a05162c1dc011de4203b08786f\", element=\"f.8DE2873D4CF6E70B1A6CF5649BC6F9F3.d.CA0BD5533733909361D2275A54F968E1.e.189\")>, <selenium.webdriver.remote.webelement.WebElement (session=\"49eb72a05162c1dc011de4203b08786f\", element=\"f.8DE2873D4CF6E70B1A6CF5649BC6F9F3.d.CA0BD5533733909361D2275A54F968E1.e.191\")>, <selenium.webdriver.remote.webelement.WebElement (session=\"49eb72a05162c1dc011de4203b08786f\", element=\"f.8DE2873D4CF6E70B1A6CF5649BC6F9F3.d.CA0BD5533733909361D2275A54F968E1.e.193\")>, <selenium.webdriver.remote.webelement.WebElement (session=\"49eb72a05162c1dc011de4203b08786f\", element=\"f.8DE2873D4CF6E70B1A6CF5649BC6F9F3.d.CA0BD5533733909361D2275A54F968E1.e.195\")>, <selenium.webdriver.remote.webelement.WebElement (session=\"49eb72a05162c1dc011de4203b08786f\", element=\"f.8DE2873D4CF6E70B1A6CF5649BC6F9F3.d.CA0BD5533733909361D2275A54F968E1.e.197\")>, <selenium.webdriver.remote.webelement.WebElement (session=\"49eb72a05162c1dc011de4203b08786f\", element=\"f.8DE2873D4CF6E70B1A6CF5649BC6F9F3.d.CA0BD5533733909361D2275A54F968E1.e.199\")>, <selenium.webdriver.remote.webelement.WebElement (session=\"49eb72a05162c1dc011de4203b08786f\", element=\"f.8DE2873D4CF6E70B1A6CF5649BC6F9F3.d.CA0BD5533733909361D2275A54F968E1.e.201\")>, <selenium.webdriver.remote.webelement.WebElement (session=\"49eb72a05162c1dc011de4203b08786f\", element=\"f.8DE2873D4CF6E70B1A6CF5649BC6F9F3.d.CA0BD5533733909361D2275A54F968E1.e.203\")>, <selenium.webdriver.remote.webelement.WebElement (session=\"49eb72a05162c1dc011de4203b08786f\", element=\"f.8DE2873D4CF6E70B1A6CF5649BC6F9F3.d.CA0BD5533733909361D2275A54F968E1.e.205\")>] search results. Extracting links from0:[<selenium.webdriver.remote.webelement.WebElement (session=\"49eb72a05162c1dc011de4203b08786f\", element=\"f.8DE2873D4CF6E70B1A6CF5649BC6F9F3.d.CA0BD5533733909361D2275A54F968E1.e.10\")>, <selenium.webdriver.remote.webelement.WebElement (session=\"49eb72a05162c1dc011de4203b08786f\", element=\"f.8DE2873D4CF6E70B1A6CF5649BC6F9F3.d.CA0BD5533733909361D2275A54F968E1.e.12\")>, <selenium.webdriver.remote.webelement.WebElement (session=\"49eb72a05162c1dc011de4203b08786f\", element=\"f.8DE2873D4CF6E70B1A6CF5649BC6F9F3.d.CA0BD5533733909361D2275A54F968E1.e.14\")>, <selenium.webdriver.remote.webelement.WebElement (session=\"49eb72a05162c1dc011de4203b08786f\", element=\"f.8DE2873D4CF6E70B1A6CF5649BC6F9F3.d.CA0BD5533733909361D2275A54F968E1.e.16\")>, <selenium.webdriver.remote.webelement.WebElement (session=\"49eb72a05162c1dc011de4203b08786f\", element=\"f.8DE2873D4CF6E70B1A6CF5649BC6F9F3.d.CA0BD5533733909361D2275A54F968E1.e.18\")>, <selenium.webdriver.remote.webelement.WebElement (session=\"49eb72a05162c1dc011de4203b08786f\", element=\"f.8DE2873D4CF6E70B1A6CF5649BC6F9F3.d.CA0BD5533733909361D2275A54F968E1.e.20\")>, <selenium.webdriver.remote.webelement.WebElement (session=\"49eb72a05162c1dc011de4203b08786f\", element=\"f.8DE2873D4CF6E70B1A6CF5649BC6F9F3.d.CA0BD5533733909361D2275A54F968E1.e.22\")>, <selenium.webdriver.remote.webelement.WebElement (session=\"49eb72a05162c1dc011de4203b08786f\", element=\"f.8DE2873D4CF6E70B1A6CF5649BC6F9F3.d.CA0BD5533733909361D2275A54F968E1.e.24\")>, <selenium.webdriver.remote.webelement.WebElement (session=\"49eb72a05162c1dc011de4203b08786f\", element=\"f.8DE2873D4CF6E70B1A6CF5649BC6F9F3.d.CA0BD5533733909361D2275A54F968E1.e.26\")>, <selenium.webdriver.remote.webelement.WebElement (session=\"49eb72a05162c1dc011de4203b08786f\", element=\"f.8DE2873D4CF6E70B1A6CF5649BC6F9F3.d.CA0BD5533733909361D2275A54F968E1.e.27\")>, <selenium.webdriver.remote.webelement.WebElement (session=\"49eb72a05162c1dc011de4203b08786f\", element=\"f.8DE2873D4CF6E70B1A6CF5649BC6F9F3.d.CA0BD5533733909361D2275A54F968E1.e.28\")>, <selenium.webdriver.remote.webelement.WebElement (session=\"49eb72a05162c1dc011de4203b08786f\", element=\"f.8DE2873D4CF6E70B1A6CF5649BC6F9F3.d.CA0BD5533733909361D2275A54F968E1.e.39\")>, <selenium.webdriver.remote.webelement.WebElement (session=\"49eb72a05162c1dc011de4203b08786f\", element=\"f.8DE2873D4CF6E70B1A6CF5649BC6F9F3.d.CA0BD5533733909361D2275A54F968E1.e.40\")>, <selenium.webdriver.remote.webelement.WebElement (session=\"49eb72a05162c1dc011de4203b08786f\", element=\"f.8DE2873D4CF6E70B1A6CF5649BC6F9F3.d.CA0BD5533733909361D2275A54F968E1.e.41\")>, <selenium.webdriver.remote.webelement.WebElement (session=\"49eb72a05162c1dc011de4203b08786f\", element=\"f.8DE2873D4CF6E70B1A6CF5649BC6F9F3.d.CA0BD5533733909361D2275A54F968E1.e.42\")>, <selenium.webdriver.remote.webelement.WebElement (session=\"49eb72a05162c1dc011de4203b08786f\", element=\"f.8DE2873D4CF6E70B1A6CF5649BC6F9F3.d.CA0BD5533733909361D2275A54F968E1.e.43\")>, <selenium.webdriver.remote.webelement.WebElement (session=\"49eb72a05162c1dc011de4203b08786f\", element=\"f.8DE2873D4CF6E70B1A6CF5649BC6F9F3.d.CA0BD5533733909361D2275A54F968E1.e.44\")>, <selenium.webdriver.remote.webelement.WebElement (session=\"49eb72a05162c1dc011de4203b08786f\", element=\"f.8DE2873D4CF6E70B1A6CF5649BC6F9F3.d.CA0BD5533733909361D2275A54F968E1.e.45\")>, <selenium.webdriver.remote.webelement.WebElement (session=\"49eb72a05162c1dc011de4203b08786f\", element=\"f.8DE2873D4CF6E70B1A6CF5649BC6F9F3.d.CA0BD5533733909361D2275A54F968E1.e.46\")>, <selenium.webdriver.remote.webelement.WebElement (session=\"49eb72a05162c1dc011de4203b08786f\", element=\"f.8DE2873D4CF6E70B1A6CF5649BC6F9F3.d.CA0BD5533733909361D2275A54F968E1.e.47\")>, <selenium.webdriver.remote.webelement.WebElement (session=\"49eb72a05162c1dc011de4203b08786f\", element=\"f.8DE2873D4CF6E70B1A6CF5649BC6F9F3.d.CA0BD5533733909361D2275A54F968E1.e.48\")>, <selenium.webdriver.remote.webelement.WebElement (session=\"49eb72a05162c1dc011de4203b08786f\", element=\"f.8DE2873D4CF6E70B1A6CF5649BC6F9F3.d.CA0BD5533733909361D2275A54F968E1.e.50\")>, <selenium.webdriver.remote.webelement.WebElement (session=\"49eb72a05162c1dc011de4203b08786f\", element=\"f.8DE2873D4CF6E70B1A6CF5649BC6F9F3.d.CA0BD5533733909361D2275A54F968E1.e.52\")>, <selenium.webdriver.remote.webelement.WebElement (session=\"49eb72a05162c1dc011de4203b08786f\", element=\"f.8DE2873D4CF6E70B1A6CF5649BC6F9F3.d.CA0BD5533733909361D2275A54F968E1.e.54\")>, <selenium.webdriver.remote.webelement.WebElement (session=\"49eb72a05162c1dc011de4203b08786f\", element=\"f.8DE2873D4CF6E70B1A6CF5649BC6F9F3.d.CA0BD5533733909361D2275A54F968E1.e.56\")>, <selenium.webdriver.remote.webelement.WebElement (session=\"49eb72a05162c1dc011de4203b08786f\", element=\"f.8DE2873D4CF6E70B1A6CF5649BC6F9F3.d.CA0BD5533733909361D2275A54F968E1.e.58\")>, <selenium.webdriver.remote.webelement.WebElement (session=\"49eb72a05162c1dc011de4203b08786f\", element=\"f.8DE2873D4CF6E70B1A6CF5649BC6F9F3.d.CA0BD5533733909361D2275A54F968E1.e.60\")>, <selenium.webdriver.remote.webelement.WebElement (session=\"49eb72a05162c1dc011de4203b08786f\", element=\"f.8DE2873D4CF6E70B1A6CF5649BC6F9F3.d.CA0BD5533733909361D2275A54F968E1.e.62\")>, <selenium.webdriver.remote.webelement.WebElement (session=\"49eb72a05162c1dc011de4203b08786f\", element=\"f.8DE2873D4CF6E70B1A6CF5649BC6F9F3.d.CA0BD5533733909361D2275A54F968E1.e.64\")>, <selenium.webdriver.remote.webelement.WebElement (session=\"49eb72a05162c1dc011de4203b08786f\", element=\"f.8DE2873D4CF6E70B1A6CF5649BC6F9F3.d.CA0BD5533733909361D2275A54F968E1.e.66\")>, <selenium.webdriver.remote.webelement.WebElement (session=\"49eb72a05162c1dc011de4203b08786f\", element=\"f.8DE2873D4CF6E70B1A6CF5649BC6F9F3.d.CA0BD5533733909361D2275A54F968E1.e.68\")>, <selenium.webdriver.remote.webelement.WebElement (session=\"49eb72a05162c1dc011de4203b08786f\", element=\"f.8DE2873D4CF6E70B1A6CF5649BC6F9F3.d.CA0BD5533733909361D2275A54F968E1.e.70\")>, <selenium.webdriver.remote.webelement.WebElement (session=\"49eb72a05162c1dc011de4203b08786f\", element=\"f.8DE2873D4CF6E70B1A6CF5649BC6F9F3.d.CA0BD5533733909361D2275A54F968E1.e.72\")>, <selenium.webdriver.remote.webelement.WebElement (session=\"49eb72a05162c1dc011de4203b08786f\", element=\"f.8DE2873D4CF6E70B1A6CF5649BC6F9F3.d.CA0BD5533733909361D2275A54F968E1.e.74\")>, <selenium.webdriver.remote.webelement.WebElement (session=\"49eb72a05162c1dc011de4203b08786f\", element=\"f.8DE2873D4CF6E70B1A6CF5649BC6F9F3.d.CA0BD5533733909361D2275A54F968E1.e.76\")>, <selenium.webdriver.remote.webelement.WebElement (session=\"49eb72a05162c1dc011de4203b08786f\", element=\"f.8DE2873D4CF6E70B1A6CF5649BC6F9F3.d.CA0BD5533733909361D2275A54F968E1.e.78\")>, <selenium.webdriver.remote.webelement.WebElement (session=\"49eb72a05162c1dc011de4203b08786f\", element=\"f.8DE2873D4CF6E70B1A6CF5649BC6F9F3.d.CA0BD5533733909361D2275A54F968E1.e.80\")>, <selenium.webdriver.remote.webelement.WebElement (session=\"49eb72a05162c1dc011de4203b08786f\", element=\"f.8DE2873D4CF6E70B1A6CF5649BC6F9F3.d.CA0BD5533733909361D2275A54F968E1.e.38\")>, <selenium.webdriver.remote.webelement.WebElement (session=\"49eb72a05162c1dc011de4203b08786f\", element=\"f.8DE2873D4CF6E70B1A6CF5649BC6F9F3.d.CA0BD5533733909361D2275A54F968E1.e.83\")>, <selenium.webdriver.remote.webelement.WebElement (session=\"49eb72a05162c1dc011de4203b08786f\", element=\"f.8DE2873D4CF6E70B1A6CF5649BC6F9F3.d.CA0BD5533733909361D2275A54F968E1.e.85\")>, <selenium.webdriver.remote.webelement.WebElement (session=\"49eb72a05162c1dc011de4203b08786f\", element=\"f.8DE2873D4CF6E70B1A6CF5649BC6F9F3.d.CA0BD5533733909361D2275A54F968E1.e.87\")>, <selenium.webdriver.remote.webelement.WebElement (session=\"49eb72a05162c1dc011de4203b08786f\", element=\"f.8DE2873D4CF6E70B1A6CF5649BC6F9F3.d.CA0BD5533733909361D2275A54F968E1.e.89\")>, <selenium.webdriver.remote.webelement.WebElement (session=\"49eb72a05162c1dc011de4203b08786f\", element=\"f.8DE2873D4CF6E70B1A6CF5649BC6F9F3.d.CA0BD5533733909361D2275A54F968E1.e.91\")>, <selenium.webdriver.remote.webelement.WebElement (session=\"49eb72a05162c1dc011de4203b08786f\", element=\"f.8DE2873D4CF6E70B1A6CF5649BC6F9F3.d.CA0BD5533733909361D2275A54F968E1.e.93\")>, <selenium.webdriver.remote.webelement.WebElement (session=\"49eb72a05162c1dc011de4203b08786f\", element=\"f.8DE2873D4CF6E70B1A6CF5649BC6F9F3.d.CA0BD5533733909361D2275A54F968E1.e.95\")>, <selenium.webdriver.remote.webelement.WebElement (session=\"49eb72a05162c1dc011de4203b08786f\", element=\"f.8DE2873D4CF6E70B1A6CF5649BC6F9F3.d.CA0BD5533733909361D2275A54F968E1.e.97\")>, <selenium.webdriver.remote.webelement.WebElement (session=\"49eb72a05162c1dc011de4203b08786f\", element=\"f.8DE2873D4CF6E70B1A6CF5649BC6F9F3.d.CA0BD5533733909361D2275A54F968E1.e.99\")>, <selenium.webdriver.remote.webelement.WebElement (session=\"49eb72a05162c1dc011de4203b08786f\", element=\"f.8DE2873D4CF6E70B1A6CF5649BC6F9F3.d.CA0BD5533733909361D2275A54F968E1.e.101\")>, <selenium.webdriver.remote.webelement.WebElement (session=\"49eb72a05162c1dc011de4203b08786f\", element=\"f.8DE2873D4CF6E70B1A6CF5649BC6F9F3.d.CA0BD5533733909361D2275A54F968E1.e.103\")>, <selenium.webdriver.remote.webelement.WebElement (session=\"49eb72a05162c1dc011de4203b08786f\", element=\"f.8DE2873D4CF6E70B1A6CF5649BC6F9F3.d.CA0BD5533733909361D2275A54F968E1.e.105\")>, <selenium.webdriver.remote.webelement.WebElement (session=\"49eb72a05162c1dc011de4203b08786f\", element=\"f.8DE2873D4CF6E70B1A6CF5649BC6F9F3.d.CA0BD5533733909361D2275A54F968E1.e.107\")>, <selenium.webdriver.remote.webelement.WebElement (session=\"49eb72a05162c1dc011de4203b08786f\", element=\"f.8DE2873D4CF6E70B1A6CF5649BC6F9F3.d.CA0BD5533733909361D2275A54F968E1.e.109\")>, <selenium.webdriver.remote.webelement.WebElement (session=\"49eb72a05162c1dc011de4203b08786f\", element=\"f.8DE2873D4CF6E70B1A6CF5649BC6F9F3.d.CA0BD5533733909361D2275A54F968E1.e.111\")>, <selenium.webdriver.remote.webelement.WebElement (session=\"49eb72a05162c1dc011de4203b08786f\", element=\"f.8DE2873D4CF6E70B1A6CF5649BC6F9F3.d.CA0BD5533733909361D2275A54F968E1.e.113\")>, <selenium.webdriver.remote.webelement.WebElement (session=\"49eb72a05162c1dc011de4203b08786f\", element=\"f.8DE2873D4CF6E70B1A6CF5649BC6F9F3.d.CA0BD5533733909361D2275A54F968E1.e.115\")>, <selenium.webdriver.remote.webelement.WebElement (session=\"49eb72a05162c1dc011de4203b08786f\", element=\"f.8DE2873D4CF6E70B1A6CF5649BC6F9F3.d.CA0BD5533733909361D2275A54F968E1.e.117\")>, <selenium.webdriver.remote.webelement.WebElement (session=\"49eb72a05162c1dc011de4203b08786f\", element=\"f.8DE2873D4CF6E70B1A6CF5649BC6F9F3.d.CA0BD5533733909361D2275A54F968E1.e.119\")>, <selenium.webdriver.remote.webelement.WebElement (session=\"49eb72a05162c1dc011de4203b08786f\", element=\"f.8DE2873D4CF6E70B1A6CF5649BC6F9F3.d.CA0BD5533733909361D2275A54F968E1.e.121\")>, <selenium.webdriver.remote.webelement.WebElement (session=\"49eb72a05162c1dc011de4203b08786f\", element=\"f.8DE2873D4CF6E70B1A6CF5649BC6F9F3.d.CA0BD5533733909361D2275A54F968E1.e.123\")>, <selenium.webdriver.remote.webelement.WebElement (session=\"49eb72a05162c1dc011de4203b08786f\", element=\"f.8DE2873D4CF6E70B1A6CF5649BC6F9F3.d.CA0BD5533733909361D2275A54F968E1.e.125\")>, <selenium.webdriver.remote.webelement.WebElement (session=\"49eb72a05162c1dc011de4203b08786f\", element=\"f.8DE2873D4CF6E70B1A6CF5649BC6F9F3.d.CA0BD5533733909361D2275A54F968E1.e.127\")>, <selenium.webdriver.remote.webelement.WebElement (session=\"49eb72a05162c1dc011de4203b08786f\", element=\"f.8DE2873D4CF6E70B1A6CF5649BC6F9F3.d.CA0BD5533733909361D2275A54F968E1.e.129\")>, <selenium.webdriver.remote.webelement.WebElement (session=\"49eb72a05162c1dc011de4203b08786f\", element=\"f.8DE2873D4CF6E70B1A6CF5649BC6F9F3.d.CA0BD5533733909361D2275A54F968E1.e.131\")>, <selenium.webdriver.remote.webelement.WebElement (session=\"49eb72a05162c1dc011de4203b08786f\", element=\"f.8DE2873D4CF6E70B1A6CF5649BC6F9F3.d.CA0BD5533733909361D2275A54F968E1.e.133\")>, <selenium.webdriver.remote.webelement.WebElement (session=\"49eb72a05162c1dc011de4203b08786f\", element=\"f.8DE2873D4CF6E70B1A6CF5649BC6F9F3.d.CA0BD5533733909361D2275A54F968E1.e.135\")>, <selenium.webdriver.remote.webelement.WebElement (session=\"49eb72a05162c1dc011de4203b08786f\", element=\"f.8DE2873D4CF6E70B1A6CF5649BC6F9F3.d.CA0BD5533733909361D2275A54F968E1.e.137\")>, <selenium.webdriver.remote.webelement.WebElement (session=\"49eb72a05162c1dc011de4203b08786f\", element=\"f.8DE2873D4CF6E70B1A6CF5649BC6F9F3.d.CA0BD5533733909361D2275A54F968E1.e.139\")>, <selenium.webdriver.remote.webelement.WebElement (session=\"49eb72a05162c1dc011de4203b08786f\", element=\"f.8DE2873D4CF6E70B1A6CF5649BC6F9F3.d.CA0BD5533733909361D2275A54F968E1.e.141\")>, <selenium.webdriver.remote.webelement.WebElement (session=\"49eb72a05162c1dc011de4203b08786f\", element=\"f.8DE2873D4CF6E70B1A6CF5649BC6F9F3.d.CA0BD5533733909361D2275A54F968E1.e.143\")>, <selenium.webdriver.remote.webelement.WebElement (session=\"49eb72a05162c1dc011de4203b08786f\", element=\"f.8DE2873D4CF6E70B1A6CF5649BC6F9F3.d.CA0BD5533733909361D2275A54F968E1.e.145\")>, <selenium.webdriver.remote.webelement.WebElement (session=\"49eb72a05162c1dc011de4203b08786f\", element=\"f.8DE2873D4CF6E70B1A6CF5649BC6F9F3.d.CA0BD5533733909361D2275A54F968E1.e.147\")>, <selenium.webdriver.remote.webelement.WebElement (session=\"49eb72a05162c1dc011de4203b08786f\", element=\"f.8DE2873D4CF6E70B1A6CF5649BC6F9F3.d.CA0BD5533733909361D2275A54F968E1.e.149\")>, <selenium.webdriver.remote.webelement.WebElement (session=\"49eb72a05162c1dc011de4203b08786f\", element=\"f.8DE2873D4CF6E70B1A6CF5649BC6F9F3.d.CA0BD5533733909361D2275A54F968E1.e.151\")>, <selenium.webdriver.remote.webelement.WebElement (session=\"49eb72a05162c1dc011de4203b08786f\", element=\"f.8DE2873D4CF6E70B1A6CF5649BC6F9F3.d.CA0BD5533733909361D2275A54F968E1.e.153\")>, <selenium.webdriver.remote.webelement.WebElement (session=\"49eb72a05162c1dc011de4203b08786f\", element=\"f.8DE2873D4CF6E70B1A6CF5649BC6F9F3.d.CA0BD5533733909361D2275A54F968E1.e.155\")>, <selenium.webdriver.remote.webelement.WebElement (session=\"49eb72a05162c1dc011de4203b08786f\", element=\"f.8DE2873D4CF6E70B1A6CF5649BC6F9F3.d.CA0BD5533733909361D2275A54F968E1.e.157\")>, <selenium.webdriver.remote.webelement.WebElement (session=\"49eb72a05162c1dc011de4203b08786f\", element=\"f.8DE2873D4CF6E70B1A6CF5649BC6F9F3.d.CA0BD5533733909361D2275A54F968E1.e.159\")>, <selenium.webdriver.remote.webelement.WebElement (session=\"49eb72a05162c1dc011de4203b08786f\", element=\"f.8DE2873D4CF6E70B1A6CF5649BC6F9F3.d.CA0BD5533733909361D2275A54F968E1.e.161\")>, <selenium.webdriver.remote.webelement.WebElement (session=\"49eb72a05162c1dc011de4203b08786f\", element=\"f.8DE2873D4CF6E70B1A6CF5649BC6F9F3.d.CA0BD5533733909361D2275A54F968E1.e.163\")>, <selenium.webdriver.remote.webelement.WebElement (session=\"49eb72a05162c1dc011de4203b08786f\", element=\"f.8DE2873D4CF6E70B1A6CF5649BC6F9F3.d.CA0BD5533733909361D2275A54F968E1.e.165\")>, <selenium.webdriver.remote.webelement.WebElement (session=\"49eb72a05162c1dc011de4203b08786f\", element=\"f.8DE2873D4CF6E70B1A6CF5649BC6F9F3.d.CA0BD5533733909361D2275A54F968E1.e.167\")>, <selenium.webdriver.remote.webelement.WebElement (session=\"49eb72a05162c1dc011de4203b08786f\", element=\"f.8DE2873D4CF6E70B1A6CF5649BC6F9F3.d.CA0BD5533733909361D2275A54F968E1.e.169\")>, <selenium.webdriver.remote.webelement.WebElement (session=\"49eb72a05162c1dc011de4203b08786f\", element=\"f.8DE2873D4CF6E70B1A6CF5649BC6F9F3.d.CA0BD5533733909361D2275A54F968E1.e.171\")>, <selenium.webdriver.remote.webelement.WebElement (session=\"49eb72a05162c1dc011de4203b08786f\", element=\"f.8DE2873D4CF6E70B1A6CF5649BC6F9F3.d.CA0BD5533733909361D2275A54F968E1.e.173\")>, <selenium.webdriver.remote.webelement.WebElement (session=\"49eb72a05162c1dc011de4203b08786f\", element=\"f.8DE2873D4CF6E70B1A6CF5649BC6F9F3.d.CA0BD5533733909361D2275A54F968E1.e.175\")>, <selenium.webdriver.remote.webelement.WebElement (session=\"49eb72a05162c1dc011de4203b08786f\", element=\"f.8DE2873D4CF6E70B1A6CF5649BC6F9F3.d.CA0BD5533733909361D2275A54F968E1.e.177\")>, <selenium.webdriver.remote.webelement.WebElement (session=\"49eb72a05162c1dc011de4203b08786f\", element=\"f.8DE2873D4CF6E70B1A6CF5649BC6F9F3.d.CA0BD5533733909361D2275A54F968E1.e.179\")>, <selenium.webdriver.remote.webelement.WebElement (session=\"49eb72a05162c1dc011de4203b08786f\", element=\"f.8DE2873D4CF6E70B1A6CF5649BC6F9F3.d.CA0BD5533733909361D2275A54F968E1.e.181\")>, <selenium.webdriver.remote.webelement.WebElement (session=\"49eb72a05162c1dc011de4203b08786f\", element=\"f.8DE2873D4CF6E70B1A6CF5649BC6F9F3.d.CA0BD5533733909361D2275A54F968E1.e.183\")>, <selenium.webdriver.remote.webelement.WebElement (session=\"49eb72a05162c1dc011de4203b08786f\", element=\"f.8DE2873D4CF6E70B1A6CF5649BC6F9F3.d.CA0BD5533733909361D2275A54F968E1.e.185\")>, <selenium.webdriver.remote.webelement.WebElement (session=\"49eb72a05162c1dc011de4203b08786f\", element=\"f.8DE2873D4CF6E70B1A6CF5649BC6F9F3.d.CA0BD5533733909361D2275A54F968E1.e.187\")>, <selenium.webdriver.remote.webelement.WebElement (session=\"49eb72a05162c1dc011de4203b08786f\", element=\"f.8DE2873D4CF6E70B1A6CF5649BC6F9F3.d.CA0BD5533733909361D2275A54F968E1.e.189\")>, <selenium.webdriver.remote.webelement.WebElement (session=\"49eb72a05162c1dc011de4203b08786f\", element=\"f.8DE2873D4CF6E70B1A6CF5649BC6F9F3.d.CA0BD5533733909361D2275A54F968E1.e.191\")>, <selenium.webdriver.remote.webelement.WebElement (session=\"49eb72a05162c1dc011de4203b08786f\", element=\"f.8DE2873D4CF6E70B1A6CF5649BC6F9F3.d.CA0BD5533733909361D2275A54F968E1.e.193\")>, <selenium.webdriver.remote.webelement.WebElement (session=\"49eb72a05162c1dc011de4203b08786f\", element=\"f.8DE2873D4CF6E70B1A6CF5649BC6F9F3.d.CA0BD5533733909361D2275A54F968E1.e.195\")>, <selenium.webdriver.remote.webelement.WebElement (session=\"49eb72a05162c1dc011de4203b08786f\", element=\"f.8DE2873D4CF6E70B1A6CF5649BC6F9F3.d.CA0BD5533733909361D2275A54F968E1.e.197\")>, <selenium.webdriver.remote.webelement.WebElement (session=\"49eb72a05162c1dc011de4203b08786f\", element=\"f.8DE2873D4CF6E70B1A6CF5649BC6F9F3.d.CA0BD5533733909361D2275A54F968E1.e.199\")>, <selenium.webdriver.remote.webelement.WebElement (session=\"49eb72a05162c1dc011de4203b08786f\", element=\"f.8DE2873D4CF6E70B1A6CF5649BC6F9F3.d.CA0BD5533733909361D2275A54F968E1.e.201\")>, <selenium.webdriver.remote.webelement.WebElement (session=\"49eb72a05162c1dc011de4203b08786f\", element=\"f.8DE2873D4CF6E70B1A6CF5649BC6F9F3.d.CA0BD5533733909361D2275A54F968E1.e.203\")>, <selenium.webdriver.remote.webelement.WebElement (session=\"49eb72a05162c1dc011de4203b08786f\", element=\"f.8DE2873D4CF6E70B1A6CF5649BC6F9F3.d.CA0BD5533733909361D2275A54F968E1.e.205\")>]\n",
      "{'https://i.natgeofe.com/n/548467d8-c5f1-4551-9f58-6817a8d2c45e/NationalGeographic_2572187_square.jpg'}\n",
      "1\n",
      "{'https://cdn.britannica.com/70/234870-050-D4D024BB/Orange-colored-cat-yawns-displaying-teeth.jpg', 'https://i.natgeofe.com/n/548467d8-c5f1-4551-9f58-6817a8d2c45e/NationalGeographic_2572187_square.jpg'}\n",
      "2\n",
      "{'https://cdn.britannica.com/70/234870-050-D4D024BB/Orange-colored-cat-yawns-displaying-teeth.jpg', 'https://upload.wikimedia.org/wikipedia/commons/thumb/1/15/Cat_August_2010-4.jpg/1200px-Cat_August_2010-4.jpg', 'https://i.natgeofe.com/n/548467d8-c5f1-4551-9f58-6817a8d2c45e/NationalGeographic_2572187_square.jpg'}\n",
      "3\n",
      "{'https://cdn.britannica.com/70/234870-050-D4D024BB/Orange-colored-cat-yawns-displaying-teeth.jpg', 'https://upload.wikimedia.org/wikipedia/commons/thumb/1/15/Cat_August_2010-4.jpg/1200px-Cat_August_2010-4.jpg', 'https://i.natgeofe.com/n/548467d8-c5f1-4551-9f58-6817a8d2c45e/NationalGeographic_2572187_square.jpg', 'https://cdn.britannica.com/34/235834-050-C5843610/two-different-breeds-of-cats-side-by-side-outdoors-in-the-garden.jpg'}\n",
      "4\n",
      "{'https://upload.wikimedia.org/wikipedia/commons/thumb/1/15/Cat_August_2010-4.jpg/1200px-Cat_August_2010-4.jpg', 'https://i.natgeofe.com/n/548467d8-c5f1-4551-9f58-6817a8d2c45e/NationalGeographic_2572187_square.jpg', 'https://cdn.britannica.com/34/235834-050-C5843610/two-different-breeds-of-cats-side-by-side-outdoors-in-the-garden.jpg', 'https://cdn.britannica.com/70/234870-050-D4D024BB/Orange-colored-cat-yawns-displaying-teeth.jpg', 'https://media.4-paws.org/5/b/4/b/5b4b5a91dd9443fa1785ee7fca66850e06dcc7f9/VIER%20PFOTEN_2019-12-13_209-2890x2000-1920x1329.jpg'}\n",
      "5\n",
      "totalLinks {'https://upload.wikimedia.org/wikipedia/commons/thumb/1/15/Cat_August_2010-4.jpg/1200px-Cat_August_2010-4.jpg', 'https://i.natgeofe.com/n/548467d8-c5f1-4551-9f58-6817a8d2c45e/NationalGeographic_2572187_square.jpg', 'https://cdn.britannica.com/34/235834-050-C5843610/two-different-breeds-of-cats-side-by-side-outdoors-in-the-garden.jpg', 'https://cdn.britannica.com/70/234870-050-D4D024BB/Orange-colored-cat-yawns-displaying-teeth.jpg', 'https://media.4-paws.org/5/b/4/b/5b4b5a91dd9443fa1785ee7fca66850e06dcc7f9/VIER%20PFOTEN_2019-12-13_209-2890x2000-1920x1329.jpg'}\n",
      "SAVED - https://upload.wikimedia.org/wikipedia/commons/thumb/1/15/Cat_August_2010-4.jpg/1200px-Cat_August_2010-4.jpg - AT: C:/Users/apuyan/Desktop/HOA 7.2 Webscraping using BeautifulSoup and Requests\\cat\\                                                                                                                                                     0.jpg\n",
      "SAVED - https://i.natgeofe.com/n/548467d8-c5f1-4551-9f58-6817a8d2c45e/NationalGeographic_2572187_square.jpg - AT: C:/Users/apuyan/Desktop/HOA 7.2 Webscraping using BeautifulSoup and Requests\\cat\\                                                                                                                                                     1.jpg\n",
      "SAVED - https://cdn.britannica.com/34/235834-050-C5843610/two-different-breeds-of-cats-side-by-side-outdoors-in-the-garden.jpg - AT: C:/Users/apuyan/Desktop/HOA 7.2 Webscraping using BeautifulSoup and Requests\\cat\\                                                                                                                                                     2.jpg\n",
      "SAVED - https://cdn.britannica.com/70/234870-050-D4D024BB/Orange-colored-cat-yawns-displaying-teeth.jpg - AT: C:/Users/apuyan/Desktop/HOA 7.2 Webscraping using BeautifulSoup and Requests\\cat\\                                                                                                                                                     3.jpg\n",
      "SAVED - https://media.4-paws.org/5/b/4/b/5b4b5a91dd9443fa1785ee7fca66850e06dcc7f9/VIER%20PFOTEN_2019-12-13_209-2890x2000-1920x1329.jpg - AT: C:/Users/apuyan/Desktop/HOA 7.2 Webscraping using BeautifulSoup and Requests\\cat\\                                                                                                                                                     4.jpg\n"
     ]
    }
   ],
   "source": [
    "!pip install selenium\n",
    "import sys\n",
    "sys.path.insert(0,'/usr/lib/chromium-browser/chromedriver')\n",
    "\n",
    "\n",
    "from selenium import webdriver\n",
    "from selenium.webdriver.common.by import By\n",
    "import time\n",
    "import requests\n",
    "import shutil\n",
    "import os\n",
    "import getpass\n",
    "import urllib.request\n",
    "import io\n",
    "import time\n",
    "from PIL import Image\n",
    "\n",
    "user = getpass.getuser()\n",
    "chrome_options = webdriver.ChromeOptions()\n",
    "chrome_options.add_argument('--headless')\n",
    "chrome_options.add_argument('--no-sandbox')\n",
    "chrome_options.add_argument('--disable-dev-shm-usage')\n",
    "\n",
    "driver = webdriver.Chrome()\n",
    "\n",
    "def scroll_to_end(driver):\n",
    "    driver.execute_script(\"window.scrollTo(0, document.body.scrollHeight);\")\n",
    "    time.sleep(5)#sleep_between_interactions\n",
    "\n",
    "    \n",
    "def getImageUrls(name,totalImgs,driver):\n",
    "    search_url = \"https://www.google.com/search?q=cat&tbm=isch&ved=2ahUKEwjNn_Gn7YyFAxU3yDgGHQYQCesQ2-cCegQIABAA&oq=cat&gs_lp=EgNpbWciA2NhdDINEAAYgAQYigUYQxixAzIIEAAYgAQYsQMyDhAAGIAEGIoFGLEDGIMBMggQABiABBixAzILEAAYgAQYsQMYgwEyCBAAGIAEGLEDMggQABiABBixAzIFEAAYgAQyCBAAGIAEGLEDMggQABiABBixA0iqGVCADlilF3AAeACQAQCYAVegAc0CqgEBNLgBA8gBAPgBAYoCC2d3cy13aXotaW1nwgIKEAAYgAQYigUYQ4gGAQ&sclient=img&ei=WBYAZs2TMLeQ4-EPhqCk2A4&bih=568&biw=1251&hl=en\"\n",
    "    driver.get(search_url)\n",
    "    img_urls = set()\n",
    "    img_count = 0\n",
    "    results_start = 0\n",
    "    \n",
    "    while(img_count+results_start<totalImgs): #Extract actual images now\n",
    "        scroll_to_end(driver)\n",
    "        totalResults = driver.find_elements(By.CLASS_NAME,\"Q4LuWd\")       \n",
    "        print('total results:', len(totalResults))\n",
    "        print(f\"Found: {totalResults} search results. Extracting links from{results_start}:{totalResults}\")\n",
    "        for img in totalResults[results_start:totalImgs]:\n",
    "            img.click()\n",
    "            time.sleep(5)\n",
    "            image = driver.find_element(By.CLASS_NAME,'iPVvYb')\n",
    "            img_urls.add(image.get_attribute('src'))\n",
    "            print(img_urls)\n",
    "            img_count=len(img_urls)\n",
    "            print(img_count)\n",
    "                    \n",
    "    return img_urls\n",
    "\n",
    "def downloadImages(folder_path,file_name,url):\n",
    "    try:\n",
    "        image_content = requests.get(url).content\n",
    "    except Exception as e:\n",
    "        print(f\"ERROR - COULD NOT DOWNLOAD {url} - {e}\")\n",
    "    try:\n",
    "        image_file = io.BytesIO(image_content)\n",
    "        image = Image.open(image_file).convert('RGB')\n",
    "        file_path = os.path.join(folder_path, file_name)\n",
    "        with open(file_path, 'wb') as f:\n",
    "            image.save(f, \"JPEG\", quality=85)\n",
    "        print(f\"SAVED - {url} - AT: {file_path}\")\n",
    "    except Exception as e:\n",
    "        print(f\"ERROR - COULD NOT SAVE {url} - {e}\")\n",
    "        \n",
    "def saveInDestFolder(searchNames,destDir,totalImgs,driver):\n",
    "    for name in list(searchNames):\n",
    "        path=os.path.join(destDir,name)\n",
    "        if not os.path.isdir(path):\n",
    "            os.mkdir(path)\n",
    "        print('Current Path',path)\n",
    "        totalLinks=getImageUrls(name,totalImgs,driver)\n",
    "        print('totalLinks',totalLinks)\n",
    "        \n",
    "    if totalLinks is None:\n",
    "        print('images not found for :',name)\n",
    "        \n",
    "    else:\n",
    "        for i, link in enumerate(totalLinks):\n",
    "            file_name = f\"{i:150}.jpg\"\n",
    "            downloadImages(path,file_name,link)\n",
    "            \n",
    "searchNames=['cat']\n",
    "destDir=f'C:/Users/apuyan/Desktop/HOA 7.2 Webscraping using BeautifulSoup and Requests'\n",
    "totalImgs=5\n",
    "\n",
    "saveInDestFolder(searchNames,destDir,totalImgs,driver)"
   ]
  },
  {
   "cell_type": "markdown",
   "metadata": {
    "id": "OgFQCgWyjSqu"
   },
   "source": [
    "**Web Scraping of Movies Information using BeautifulSoup**"
   ]
  },
  {
   "cell_type": "markdown",
   "metadata": {
    "id": "9ddHFx79jYDS"
   },
   "source": [
    "We want to analyze the distributions of IMDB and Metacritic movie ratings to see if we find anything interesting. To do this, we’ll first scrape data for over 2000 movies."
   ]
  },
  {
   "cell_type": "code",
   "execution_count": 13,
   "metadata": {
    "colab": {
     "base_uri": "https://localhost:8080/"
    },
    "id": "RGZT7XFVnrf2",
    "outputId": "20779ee5-d088-456c-8563-284735ea9d6a"
   },
   "outputs": [
    {
     "name": "stdout",
     "output_type": "stream",
     "text": [
      "<!DOCTYPE html><html lang=\"en-US\" xmlns:og=\"http://opengraphprotocol.org/schema/\" xmlns:fb=\"http://www.facebook.com/2008/fbml\"><head><meta charSet=\"utf-8\"/><meta name=\"viewport\" content=\"width=device-width\"/><script>if(typeof uet === 'function'){ uet('bb', 'LoadTitle', {wb: 1}); }</script><script>window.addEventListener('load', (event) => {\n",
      "        if (typeof window.csa !== 'undefined' && typeof window.csa === 'function') {\n",
      "            var csaLatencyPlugin = window.csa('Content', {\n",
      "             \n"
     ]
    }
   ],
   "source": [
    "from requests import get\n",
    "url = 'https://www.imdb.com/search/title/?release_date=2017-01-01,2017-12-31&sort=num_votes,desc'\n",
    "agent = {'User-Agent':'Mozilla/5.0 (Windows NT 10.0; Win64; x64) AppleWebKit/537.36 (KHTML, like Gecko) Chrome/122.0.0.0 Safari/537.36'}\n",
    "response = get(url,headers=agent)\n",
    "print(response.text[:500])"
   ]
  },
  {
   "cell_type": "code",
   "execution_count": 14,
   "metadata": {
    "colab": {
     "base_uri": "https://localhost:8080/",
     "height": 587
    },
    "id": "eDaLt0UQoRPo",
    "outputId": "b77a356e-eccc-4e5b-cf10-2b292f49dc60"
   },
   "outputs": [
    {
     "data": {
      "text/plain": [
       "bs4.BeautifulSoup"
      ]
     },
     "execution_count": 14,
     "metadata": {},
     "output_type": "execute_result"
    }
   ],
   "source": [
    "from bs4 import BeautifulSoup\n",
    "html_soup = BeautifulSoup(response.text, 'html.parser')\n",
    "headers = {'Accept-Language': 'en-US,en;q=0.8'}\n",
    "type(html_soup)"
   ]
  },
  {
   "cell_type": "code",
   "execution_count": 15,
   "metadata": {
    "colab": {
     "base_uri": "https://localhost:8080/"
    },
    "id": "BRlQS2mBoaH1",
    "outputId": "c0018b26-eb6e-4bf1-e629-7f82c328a319"
   },
   "outputs": [
    {
     "name": "stdout",
     "output_type": "stream",
     "text": [
      "<class 'bs4.element.ResultSet'>\n",
      "50\n"
     ]
    }
   ],
   "source": [
    "movie_containers = html_soup.find_all('div', class_ = 'sc-ab6fa25a-3 bVYfLY dli-parent')\n",
    "print(type(movie_containers))\n",
    "print(len(movie_containers))"
   ]
  },
  {
   "cell_type": "markdown",
   "metadata": {},
   "source": [
    "**First Movie**"
   ]
  },
  {
   "cell_type": "markdown",
   "metadata": {},
   "source": [
    "Extracting the data for a single movie\n",
    "\n",
    "We can access the first container, which contains information about a single movie, by using list notation on movie_containers."
   ]
  },
  {
   "cell_type": "code",
   "execution_count": 16,
   "metadata": {},
   "outputs": [
    {
     "data": {
      "text/plain": [
       "<div class=\"sc-ab6fa25a-3 bVYfLY dli-parent\"><div class=\"sc-ab6fa25a-2 gOsifL\"><div class=\"sc-e5a25b0f-0 jQjDIb dli-poster-container\"><div class=\"ipc-poster ipc-poster--base ipc-poster--dynamic-width ipc-sub-grid-item ipc-sub-grid-item--span-2\" role=\"group\"><div aria-label=\"add to watchlist\" class=\"ipc-watchlist-ribbon ipc-focusable ipc-watchlist-ribbon--s ipc-watchlist-ribbon--base ipc-watchlist-ribbon--loading ipc-watchlist-ribbon--onImage ipc-poster__watchlist-ribbon\" role=\"button\" tabindex=\"0\"><svg class=\"ipc-watchlist-ribbon__bg\" height=\"34px\" role=\"presentation\" viewbox=\"0 0 24 34\" width=\"24px\" xmlns=\"http://www.w3.org/2000/svg\"><polygon class=\"ipc-watchlist-ribbon__bg-ribbon\" fill=\"#000000\" points=\"24 0 0 0 0 32 12.2436611 26.2926049 24 31.7728343\"></polygon><polygon class=\"ipc-watchlist-ribbon__bg-hover\" points=\"24 0 0 0 0 32 12.2436611 26.2926049 24 31.7728343\"></polygon><polygon class=\"ipc-watchlist-ribbon__bg-shadow\" points=\"24 31.7728343 24 33.7728343 12.2436611 28.2926049 0 34 0 32 12.2436611 26.2926049\"></polygon></svg><div class=\"ipc-watchlist-ribbon__icon\" role=\"presentation\"><svg class=\"ipc-loader ipc-loader--circle ipc-watchlist-ribbon__loader\" data-testid=\"watchlist-ribbon-loader\" height=\"48px\" role=\"presentation\" version=\"1.1\" viewbox=\"0 0 48 48\" width=\"48px\" xmlns=\"http://www.w3.org/2000/svg\"><g class=\"ipc-loader__container\" fill=\"currentColor\"><circle class=\"ipc-loader__circle ipc-loader__circle--one\" cx=\"24\" cy=\"9\" r=\"4\"></circle><circle class=\"ipc-loader__circle ipc-loader__circle--two\" cx=\"35\" cy=\"14\" r=\"4\"></circle><circle class=\"ipc-loader__circle ipc-loader__circle--three\" cx=\"39\" cy=\"24\" r=\"4\"></circle><circle class=\"ipc-loader__circle ipc-loader__circle--four\" cx=\"35\" cy=\"34\" r=\"4\"></circle><circle class=\"ipc-loader__circle ipc-loader__circle--five\" cx=\"24\" cy=\"39\" r=\"4\"></circle><circle class=\"ipc-loader__circle ipc-loader__circle--six\" cx=\"13\" cy=\"34\" r=\"4\"></circle><circle class=\"ipc-loader__circle ipc-loader__circle--seven\" cx=\"9\" cy=\"24\" r=\"4\"></circle><circle class=\"ipc-loader__circle ipc-loader__circle--eight\" cx=\"13\" cy=\"14\" r=\"4\"></circle></g></svg></div></div><div class=\"ipc-media ipc-media--poster-27x40 ipc-image-media-ratio--poster-27x40 ipc-media--base ipc-media--poster-m ipc-poster__poster-image ipc-media__img\" style=\"width:100%\"><img alt=\"Hugh Jackman in Logan (2017)\" class=\"ipc-image\" loading=\"lazy\" sizes=\"50vw, (min-width: 480px) 34vw, (min-width: 600px) 26vw, (min-width: 1024px) 16vw, (min-width: 1280px) 16vw\" src=\"https://m.media-amazon.com/images/M/MV5BYzc5MTU4N2EtYTkyMi00NjdhLTg3NWEtMTY4OTEyMzJhZTAzXkEyXkFqcGdeQXVyNjc1NTYyMjg@._V1_QL75_UX140_CR0,1,140,207_.jpg\" srcset=\"https://m.media-amazon.com/images/M/MV5BYzc5MTU4N2EtYTkyMi00NjdhLTg3NWEtMTY4OTEyMzJhZTAzXkEyXkFqcGdeQXVyNjc1NTYyMjg@._V1_QL75_UX140_CR0,1,140,207_.jpg 140w, https://m.media-amazon.com/images/M/MV5BYzc5MTU4N2EtYTkyMi00NjdhLTg3NWEtMTY4OTEyMzJhZTAzXkEyXkFqcGdeQXVyNjc1NTYyMjg@._V1_QL75_UX210_CR0,2,210,311_.jpg 210w, https://m.media-amazon.com/images/M/MV5BYzc5MTU4N2EtYTkyMi00NjdhLTg3NWEtMTY4OTEyMzJhZTAzXkEyXkFqcGdeQXVyNjc1NTYyMjg@._V1_QL75_UX280_CR0,3,280,414_.jpg 280w\" width=\"140\"/></div><a aria-label=\"View title page for Logan\" class=\"ipc-lockup-overlay ipc-focusable\" href=\"/title/tt3315342/?ref_=sr_i_1\"><div class=\"ipc-lockup-overlay__screen\"></div></a></div></div><div class=\"sc-b0691f29-0 jbYPfh\"><div class=\"ipc-title ipc-title--base ipc-title--title ipc-title-link-no-icon ipc-title--on-textPrimary sc-b0691f29-9 klOwFB dli-title\"><a class=\"ipc-title-link-wrapper\" href=\"/title/tt3315342/?ref_=sr_t_1\" tabindex=\"0\"><h3 class=\"ipc-title__text\">1. Logan</h3></a></div><div class=\"sc-b0691f29-7 hrgukm dli-title-metadata\"><span class=\"sc-b0691f29-8 ilsLEX dli-title-metadata-item\">2017</span><span class=\"sc-b0691f29-8 ilsLEX dli-title-metadata-item\">2h 17m</span><span class=\"sc-b0691f29-8 ilsLEX dli-title-metadata-item\">R-16</span></div><span class=\"sc-b0691f29-1 grHDBY\"><div class=\"sc-e2dbc1a3-0 ajrIH sc-b0691f29-2 bhhtyj dli-ratings-container\" data-testid=\"ratingGroup--container\"><span aria-label=\"IMDb rating: 8.1\" class=\"ipc-rating-star ipc-rating-star--base ipc-rating-star--imdb ratingGroup--imdb-rating\" data-testid=\"ratingGroup--imdb-rating\"><svg class=\"ipc-icon ipc-icon--star-inline\" fill=\"currentColor\" height=\"24\" role=\"presentation\" viewbox=\"0 0 24 24\" width=\"24\" xmlns=\"http://www.w3.org/2000/svg\"><path d=\"M12 20.1l5.82 3.682c1.066.675 2.37-.322 2.09-1.584l-1.543-6.926 5.146-4.667c.94-.85.435-2.465-.799-2.567l-6.773-.602L13.29.89a1.38 1.38 0 0 0-2.581 0l-2.65 6.53-6.774.602C.052 8.126-.453 9.74.486 10.59l5.147 4.666-1.542 6.926c-.28 1.262 1.023 2.26 2.09 1.585L12 20.099z\"></path></svg>8.1<span class=\"ipc-rating-star--voteCount\"> (<!-- -->827K<!-- -->)</span></span><button aria-label=\"Rate Logan\" class=\"ipc-rate-button sc-e2dbc1a3-1 jboOQc ratingGroup--user-rating ipc-rate-button--unrated ipc-rate-button--base\" data-testid=\"rate-button\"><span class=\"ipc-rating-star ipc-rating-star--base ipc-rating-star--rate\"><svg class=\"ipc-icon ipc-icon--star-border-inline\" fill=\"currentColor\" height=\"24\" role=\"presentation\" viewbox=\"0 0 24 24\" width=\"24\" xmlns=\"http://www.w3.org/2000/svg\"><path d=\"M22.724 8.217l-6.786-.587-2.65-6.22c-.477-1.133-2.103-1.133-2.58 0l-2.65 6.234-6.772.573c-1.234.098-1.739 1.636-.8 2.446l5.146 4.446-1.542 6.598c-.28 1.202 1.023 2.153 2.09 1.51l5.818-3.495 5.819 3.509c1.065.643 2.37-.308 2.089-1.51l-1.542-6.612 5.145-4.446c.94-.81.45-2.348-.785-2.446zm-10.726 8.89l-5.272 3.174 1.402-5.983-4.655-4.026 6.141-.531 2.384-5.634 2.398 5.648 6.14.531-4.654 4.026 1.402 5.983-5.286-3.187z\"></path></svg><span class=\"ipc-rating-star--rate\">Rate</span></span></button></div><span class=\"sc-b0691f29-11 TmkKM\"><span class=\"sc-b0901df4-0 bcQdDJ metacritic-score-box\" style=\"background-color:#54A72A\">77</span><span class=\"metacritic-score-label\">Metascore</span></span></span></div><div class=\"sc-ab6fa25a-4 ggHbBR dli-post-element\"><button aria-disabled=\"false\" aria-label=\"See more information about Logan\" class=\"ipc-icon-button dli-info-icon ipc-icon-button--base ipc-icon-button--onAccent2\" role=\"button\" tabindex=\"0\" title=\"See more information about Logan\"><svg class=\"ipc-icon ipc-icon--info\" fill=\"currentColor\" height=\"24\" role=\"presentation\" viewbox=\"0 0 24 24\" width=\"24\" xmlns=\"http://www.w3.org/2000/svg\"><path d=\"M0 0h24v24H0V0z\" fill=\"none\"></path><path d=\"M11 7h2v2h-2zm0 4h2v6h-2zm1-9C6.48 2 2 6.48 2 12s4.48 10 10 10 10-4.48 10-10S17.52 2 12 2zm0 18c-4.41 0-8-3.59-8-8s3.59-8 8-8 8 3.59 8 8-3.59 8-8 8z\"></path></svg></button></div></div><div class=\"sc-ab6fa25a-1 bBwFsP\"><div class=\"ipc-html-content ipc-html-content--base sc-ab6fa25a-0 bhexuD dli-plot-container\" role=\"presentation\"><div class=\"ipc-html-content-inner-div\">In a future where mutants are nearly extinct, an elderly and weary Logan leads a quiet life. But when Laura, a mutant child pursued by scientists, comes to him for help, he must get her to safety.</div></div></div></div>"
      ]
     },
     "execution_count": 16,
     "metadata": {},
     "output_type": "execute_result"
    }
   ],
   "source": [
    "first_movie = movie_containers[0]\n",
    "first_movie"
   ]
  },
  {
   "cell_type": "markdown",
   "metadata": {},
   "source": [
    "The name of the movie"
   ]
  },
  {
   "cell_type": "code",
   "execution_count": 17,
   "metadata": {},
   "outputs": [
    {
     "data": {
      "text/plain": [
       "<div class=\"sc-ab6fa25a-2 gOsifL\"><div class=\"sc-e5a25b0f-0 jQjDIb dli-poster-container\"><div class=\"ipc-poster ipc-poster--base ipc-poster--dynamic-width ipc-sub-grid-item ipc-sub-grid-item--span-2\" role=\"group\"><div aria-label=\"add to watchlist\" class=\"ipc-watchlist-ribbon ipc-focusable ipc-watchlist-ribbon--s ipc-watchlist-ribbon--base ipc-watchlist-ribbon--loading ipc-watchlist-ribbon--onImage ipc-poster__watchlist-ribbon\" role=\"button\" tabindex=\"0\"><svg class=\"ipc-watchlist-ribbon__bg\" height=\"34px\" role=\"presentation\" viewbox=\"0 0 24 34\" width=\"24px\" xmlns=\"http://www.w3.org/2000/svg\"><polygon class=\"ipc-watchlist-ribbon__bg-ribbon\" fill=\"#000000\" points=\"24 0 0 0 0 32 12.2436611 26.2926049 24 31.7728343\"></polygon><polygon class=\"ipc-watchlist-ribbon__bg-hover\" points=\"24 0 0 0 0 32 12.2436611 26.2926049 24 31.7728343\"></polygon><polygon class=\"ipc-watchlist-ribbon__bg-shadow\" points=\"24 31.7728343 24 33.7728343 12.2436611 28.2926049 0 34 0 32 12.2436611 26.2926049\"></polygon></svg><div class=\"ipc-watchlist-ribbon__icon\" role=\"presentation\"><svg class=\"ipc-loader ipc-loader--circle ipc-watchlist-ribbon__loader\" data-testid=\"watchlist-ribbon-loader\" height=\"48px\" role=\"presentation\" version=\"1.1\" viewbox=\"0 0 48 48\" width=\"48px\" xmlns=\"http://www.w3.org/2000/svg\"><g class=\"ipc-loader__container\" fill=\"currentColor\"><circle class=\"ipc-loader__circle ipc-loader__circle--one\" cx=\"24\" cy=\"9\" r=\"4\"></circle><circle class=\"ipc-loader__circle ipc-loader__circle--two\" cx=\"35\" cy=\"14\" r=\"4\"></circle><circle class=\"ipc-loader__circle ipc-loader__circle--three\" cx=\"39\" cy=\"24\" r=\"4\"></circle><circle class=\"ipc-loader__circle ipc-loader__circle--four\" cx=\"35\" cy=\"34\" r=\"4\"></circle><circle class=\"ipc-loader__circle ipc-loader__circle--five\" cx=\"24\" cy=\"39\" r=\"4\"></circle><circle class=\"ipc-loader__circle ipc-loader__circle--six\" cx=\"13\" cy=\"34\" r=\"4\"></circle><circle class=\"ipc-loader__circle ipc-loader__circle--seven\" cx=\"9\" cy=\"24\" r=\"4\"></circle><circle class=\"ipc-loader__circle ipc-loader__circle--eight\" cx=\"13\" cy=\"14\" r=\"4\"></circle></g></svg></div></div><div class=\"ipc-media ipc-media--poster-27x40 ipc-image-media-ratio--poster-27x40 ipc-media--base ipc-media--poster-m ipc-poster__poster-image ipc-media__img\" style=\"width:100%\"><img alt=\"Hugh Jackman in Logan (2017)\" class=\"ipc-image\" loading=\"lazy\" sizes=\"50vw, (min-width: 480px) 34vw, (min-width: 600px) 26vw, (min-width: 1024px) 16vw, (min-width: 1280px) 16vw\" src=\"https://m.media-amazon.com/images/M/MV5BYzc5MTU4N2EtYTkyMi00NjdhLTg3NWEtMTY4OTEyMzJhZTAzXkEyXkFqcGdeQXVyNjc1NTYyMjg@._V1_QL75_UX140_CR0,1,140,207_.jpg\" srcset=\"https://m.media-amazon.com/images/M/MV5BYzc5MTU4N2EtYTkyMi00NjdhLTg3NWEtMTY4OTEyMzJhZTAzXkEyXkFqcGdeQXVyNjc1NTYyMjg@._V1_QL75_UX140_CR0,1,140,207_.jpg 140w, https://m.media-amazon.com/images/M/MV5BYzc5MTU4N2EtYTkyMi00NjdhLTg3NWEtMTY4OTEyMzJhZTAzXkEyXkFqcGdeQXVyNjc1NTYyMjg@._V1_QL75_UX210_CR0,2,210,311_.jpg 210w, https://m.media-amazon.com/images/M/MV5BYzc5MTU4N2EtYTkyMi00NjdhLTg3NWEtMTY4OTEyMzJhZTAzXkEyXkFqcGdeQXVyNjc1NTYyMjg@._V1_QL75_UX280_CR0,3,280,414_.jpg 280w\" width=\"140\"/></div><a aria-label=\"View title page for Logan\" class=\"ipc-lockup-overlay ipc-focusable\" href=\"/title/tt3315342/?ref_=sr_i_1\"><div class=\"ipc-lockup-overlay__screen\"></div></a></div></div><div class=\"sc-b0691f29-0 jbYPfh\"><div class=\"ipc-title ipc-title--base ipc-title--title ipc-title-link-no-icon ipc-title--on-textPrimary sc-b0691f29-9 klOwFB dli-title\"><a class=\"ipc-title-link-wrapper\" href=\"/title/tt3315342/?ref_=sr_t_1\" tabindex=\"0\"><h3 class=\"ipc-title__text\">1. Logan</h3></a></div><div class=\"sc-b0691f29-7 hrgukm dli-title-metadata\"><span class=\"sc-b0691f29-8 ilsLEX dli-title-metadata-item\">2017</span><span class=\"sc-b0691f29-8 ilsLEX dli-title-metadata-item\">2h 17m</span><span class=\"sc-b0691f29-8 ilsLEX dli-title-metadata-item\">R-16</span></div><span class=\"sc-b0691f29-1 grHDBY\"><div class=\"sc-e2dbc1a3-0 ajrIH sc-b0691f29-2 bhhtyj dli-ratings-container\" data-testid=\"ratingGroup--container\"><span aria-label=\"IMDb rating: 8.1\" class=\"ipc-rating-star ipc-rating-star--base ipc-rating-star--imdb ratingGroup--imdb-rating\" data-testid=\"ratingGroup--imdb-rating\"><svg class=\"ipc-icon ipc-icon--star-inline\" fill=\"currentColor\" height=\"24\" role=\"presentation\" viewbox=\"0 0 24 24\" width=\"24\" xmlns=\"http://www.w3.org/2000/svg\"><path d=\"M12 20.1l5.82 3.682c1.066.675 2.37-.322 2.09-1.584l-1.543-6.926 5.146-4.667c.94-.85.435-2.465-.799-2.567l-6.773-.602L13.29.89a1.38 1.38 0 0 0-2.581 0l-2.65 6.53-6.774.602C.052 8.126-.453 9.74.486 10.59l5.147 4.666-1.542 6.926c-.28 1.262 1.023 2.26 2.09 1.585L12 20.099z\"></path></svg>8.1<span class=\"ipc-rating-star--voteCount\"> (<!-- -->827K<!-- -->)</span></span><button aria-label=\"Rate Logan\" class=\"ipc-rate-button sc-e2dbc1a3-1 jboOQc ratingGroup--user-rating ipc-rate-button--unrated ipc-rate-button--base\" data-testid=\"rate-button\"><span class=\"ipc-rating-star ipc-rating-star--base ipc-rating-star--rate\"><svg class=\"ipc-icon ipc-icon--star-border-inline\" fill=\"currentColor\" height=\"24\" role=\"presentation\" viewbox=\"0 0 24 24\" width=\"24\" xmlns=\"http://www.w3.org/2000/svg\"><path d=\"M22.724 8.217l-6.786-.587-2.65-6.22c-.477-1.133-2.103-1.133-2.58 0l-2.65 6.234-6.772.573c-1.234.098-1.739 1.636-.8 2.446l5.146 4.446-1.542 6.598c-.28 1.202 1.023 2.153 2.09 1.51l5.818-3.495 5.819 3.509c1.065.643 2.37-.308 2.089-1.51l-1.542-6.612 5.145-4.446c.94-.81.45-2.348-.785-2.446zm-10.726 8.89l-5.272 3.174 1.402-5.983-4.655-4.026 6.141-.531 2.384-5.634 2.398 5.648 6.14.531-4.654 4.026 1.402 5.983-5.286-3.187z\"></path></svg><span class=\"ipc-rating-star--rate\">Rate</span></span></button></div><span class=\"sc-b0691f29-11 TmkKM\"><span class=\"sc-b0901df4-0 bcQdDJ metacritic-score-box\" style=\"background-color:#54A72A\">77</span><span class=\"metacritic-score-label\">Metascore</span></span></span></div><div class=\"sc-ab6fa25a-4 ggHbBR dli-post-element\"><button aria-disabled=\"false\" aria-label=\"See more information about Logan\" class=\"ipc-icon-button dli-info-icon ipc-icon-button--base ipc-icon-button--onAccent2\" role=\"button\" tabindex=\"0\" title=\"See more information about Logan\"><svg class=\"ipc-icon ipc-icon--info\" fill=\"currentColor\" height=\"24\" role=\"presentation\" viewbox=\"0 0 24 24\" width=\"24\" xmlns=\"http://www.w3.org/2000/svg\"><path d=\"M0 0h24v24H0V0z\" fill=\"none\"></path><path d=\"M11 7h2v2h-2zm0 4h2v6h-2zm1-9C6.48 2 2 6.48 2 12s4.48 10 10 10 10-4.48 10-10S17.52 2 12 2zm0 18c-4.41 0-8-3.59-8-8s3.59-8 8-8 8 3.59 8 8-3.59 8-8 8z\"></path></svg></button></div></div>"
      ]
     },
     "execution_count": 17,
     "metadata": {},
     "output_type": "execute_result"
    }
   ],
   "source": [
    "first_movie.div"
   ]
  },
  {
   "cell_type": "code",
   "execution_count": 18,
   "metadata": {},
   "outputs": [
    {
     "data": {
      "text/plain": [
       "<a aria-label=\"View title page for Logan\" class=\"ipc-lockup-overlay ipc-focusable\" href=\"/title/tt3315342/?ref_=sr_i_1\"><div class=\"ipc-lockup-overlay__screen\"></div></a>"
      ]
     },
     "execution_count": 18,
     "metadata": {},
     "output_type": "execute_result"
    }
   ],
   "source": [
    "first_movie.a"
   ]
  },
  {
   "cell_type": "code",
   "execution_count": 19,
   "metadata": {},
   "outputs": [
    {
     "data": {
      "text/plain": [
       "<h3 class=\"ipc-title__text\">1. Logan</h3>"
      ]
     },
     "execution_count": 19,
     "metadata": {},
     "output_type": "execute_result"
    }
   ],
   "source": [
    "first_movie.h3"
   ]
  },
  {
   "cell_type": "code",
   "execution_count": 20,
   "metadata": {},
   "outputs": [],
   "source": [
    "first_movie.h3.a"
   ]
  },
  {
   "cell_type": "code",
   "execution_count": 21,
   "metadata": {},
   "outputs": [
    {
     "data": {
      "text/plain": [
       "'Logan'"
      ]
     },
     "execution_count": 21,
     "metadata": {},
     "output_type": "execute_result"
    }
   ],
   "source": [
    "first_name = first_movie.find('h3',class_='ipc-title__text').text[3:]\n",
    "first_name"
   ]
  },
  {
   "cell_type": "markdown",
   "metadata": {},
   "source": [
    "**The year of the movie's release**"
   ]
  },
  {
   "cell_type": "code",
   "execution_count": 22,
   "metadata": {},
   "outputs": [
    {
     "data": {
      "text/plain": [
       "'2017'"
      ]
     },
     "execution_count": 22,
     "metadata": {},
     "output_type": "execute_result"
    }
   ],
   "source": [
    "first_year = first_movie.find('span',class_='sc-b0691f29-8 ilsLEX dli-title-metadata-item').text\n",
    "first_year"
   ]
  },
  {
   "cell_type": "markdown",
   "metadata": {},
   "source": [
    "**The IMDB rating**"
   ]
  },
  {
   "cell_type": "code",
   "execution_count": 23,
   "metadata": {},
   "outputs": [],
   "source": [
    "first_movie.strong"
   ]
  },
  {
   "cell_type": "code",
   "execution_count": 28,
   "metadata": {},
   "outputs": [
    {
     "data": {
      "text/plain": [
       "'8.1'"
      ]
     },
     "execution_count": 28,
     "metadata": {},
     "output_type": "execute_result"
    }
   ],
   "source": [
    "first_imdb = first_movie.find('span',class_='ipc-rating-star ipc-rating-star--base ipc-rating-star--imdb ratingGroup--imdb-rating').text[:3]\n",
    "first_imdb"
   ]
  },
  {
   "cell_type": "markdown",
   "metadata": {},
   "source": [
    "**The Metascore**"
   ]
  },
  {
   "cell_type": "code",
   "execution_count": 30,
   "metadata": {},
   "outputs": [
    {
     "data": {
      "text/plain": [
       "'77'"
      ]
     },
     "execution_count": 30,
     "metadata": {},
     "output_type": "execute_result"
    }
   ],
   "source": [
    "first_mscore = first_movie.find('span',class_='sc-b0901df4-0 bcQdDJ metacritic-score-box').text\n",
    "first_mscore"
   ]
  },
  {
   "cell_type": "markdown",
   "metadata": {},
   "source": [
    "**The number of votes**"
   ]
  },
  {
   "cell_type": "code",
   "execution_count": 36,
   "metadata": {},
   "outputs": [
    {
     "data": {
      "text/plain": [
       "'(827K)'"
      ]
     },
     "execution_count": 36,
     "metadata": {},
     "output_type": "execute_result"
    }
   ],
   "source": [
    "first_votes = first_movie.find('span', class_='ipc-rating-star--voteCount').text[1:]\n",
    "first_votes"
   ]
  },
  {
   "cell_type": "markdown",
   "metadata": {},
   "source": [
    "**The script**"
   ]
  },
  {
   "cell_type": "code",
   "execution_count": 64,
   "metadata": {},
   "outputs": [],
   "source": [
    "#Lists to store the scraped data in\n",
    "names = []\n",
    "years = []\n",
    "imdb_ratings = []\n",
    "metascores = []\n",
    "votes = []\n",
    "# Extract data from individual movie container\n",
    "\n",
    "for container in movie_containers:\n",
    "# If the movie has a Metascore, then extract:\n",
    "    if container.find('span',class_='sc-b0901df4-0 bcQdDJ metacritic-score-box') is not None:\n",
    "        \n",
    "        name = container.find('h3',class_='ipc-title__text').text[3:]\n",
    "        names.append(name)\n",
    "        \n",
    "        year = container.find('span', class_='sc-b0691f29-8 ilsLEX dli-title-metadata-item').text\n",
    "        years.append(year)\n",
    "        \n",
    "        imdb_rating = container.find('span',class_='ipc-rating-star ipc-rating-star--base ipc-rating-star--imdb ratingGroup--imdb-rating').text[:3]\n",
    "        imdb_ratings.append(imdb_rating)\n",
    "        \n",
    "        metascore = int(container.find('span', class_='sc-b0901df4-0 bcQdDJ metacritic-score-box').text)\n",
    "        metascores.append(metascore)\n",
    "        \n",
    "        vote = container.find('span', class_='ipc-rating-star--voteCount').text[1:]\n",
    "        votes.append(vote)"
   ]
  },
  {
   "cell_type": "code",
   "execution_count": 65,
   "metadata": {},
   "outputs": [
    {
     "name": "stdout",
     "output_type": "stream",
     "text": [
      "<class 'pandas.core.frame.DataFrame'>\n",
      "RangeIndex: 41 entries, 0 to 40\n",
      "Data columns (total 5 columns):\n",
      " #   Column     Non-Null Count  Dtype \n",
      "---  ------     --------------  ----- \n",
      " 0   movie      41 non-null     object\n",
      " 1   year       41 non-null     object\n",
      " 2   imdb       41 non-null     object\n",
      " 3   metascore  41 non-null     int64 \n",
      " 4   votes      41 non-null     object\n",
      "dtypes: int64(1), object(4)\n",
      "memory usage: 1.7+ KB\n",
      "None\n"
     ]
    },
    {
     "data": {
      "text/html": [
       "<div>\n",
       "<style scoped>\n",
       "    .dataframe tbody tr th:only-of-type {\n",
       "        vertical-align: middle;\n",
       "    }\n",
       "\n",
       "    .dataframe tbody tr th {\n",
       "        vertical-align: top;\n",
       "    }\n",
       "\n",
       "    .dataframe thead th {\n",
       "        text-align: right;\n",
       "    }\n",
       "</style>\n",
       "<table border=\"1\" class=\"dataframe\">\n",
       "  <thead>\n",
       "    <tr style=\"text-align: right;\">\n",
       "      <th></th>\n",
       "      <th>movie</th>\n",
       "      <th>year</th>\n",
       "      <th>imdb</th>\n",
       "      <th>metascore</th>\n",
       "      <th>votes</th>\n",
       "    </tr>\n",
       "  </thead>\n",
       "  <tbody>\n",
       "    <tr>\n",
       "      <th>0</th>\n",
       "      <td>Logan</td>\n",
       "      <td>2017</td>\n",
       "      <td>8.1</td>\n",
       "      <td>77</td>\n",
       "      <td>(827K)</td>\n",
       "    </tr>\n",
       "    <tr>\n",
       "      <th>1</th>\n",
       "      <td>Thor: Ragnarok</td>\n",
       "      <td>2017</td>\n",
       "      <td>7.9</td>\n",
       "      <td>74</td>\n",
       "      <td>(813K)</td>\n",
       "    </tr>\n",
       "    <tr>\n",
       "      <th>2</th>\n",
       "      <td>Guardians of the Galaxy Vol. 2</td>\n",
       "      <td>2017</td>\n",
       "      <td>7.6</td>\n",
       "      <td>67</td>\n",
       "      <td>(756K)</td>\n",
       "    </tr>\n",
       "    <tr>\n",
       "      <th>3</th>\n",
       "      <td>Dunkirk</td>\n",
       "      <td>2017</td>\n",
       "      <td>7.8</td>\n",
       "      <td>94</td>\n",
       "      <td>(736K)</td>\n",
       "    </tr>\n",
       "    <tr>\n",
       "      <th>4</th>\n",
       "      <td>Spider-Man: Homecoming</td>\n",
       "      <td>2017</td>\n",
       "      <td>7.4</td>\n",
       "      <td>73</td>\n",
       "      <td>(716K)</td>\n",
       "    </tr>\n",
       "    <tr>\n",
       "      <th>5</th>\n",
       "      <td>Wonder Woman</td>\n",
       "      <td>2017</td>\n",
       "      <td>7.3</td>\n",
       "      <td>76</td>\n",
       "      <td>(698K)</td>\n",
       "    </tr>\n",
       "    <tr>\n",
       "      <th>6</th>\n",
       "      <td>Get Out</td>\n",
       "      <td>2017</td>\n",
       "      <td>7.8</td>\n",
       "      <td>85</td>\n",
       "      <td>(691K)</td>\n",
       "    </tr>\n",
       "    <tr>\n",
       "      <th>7</th>\n",
       "      <td>Star Wars: Episode VIII - The Last Jedi</td>\n",
       "      <td>2017</td>\n",
       "      <td>6.9</td>\n",
       "      <td>84</td>\n",
       "      <td>(670K)</td>\n",
       "    </tr>\n",
       "    <tr>\n",
       "      <th>8</th>\n",
       "      <td>Blade Runner 2049</td>\n",
       "      <td>2017</td>\n",
       "      <td>8.0</td>\n",
       "      <td>81</td>\n",
       "      <td>(658K)</td>\n",
       "    </tr>\n",
       "    <tr>\n",
       "      <th>9</th>\n",
       "      <td>Baby Driver</td>\n",
       "      <td>2017</td>\n",
       "      <td>7.5</td>\n",
       "      <td>86</td>\n",
       "      <td>(605K)</td>\n",
       "    </tr>\n",
       "    <tr>\n",
       "      <th>10</th>\n",
       "      <td>It</td>\n",
       "      <td>2017</td>\n",
       "      <td>7.3</td>\n",
       "      <td>69</td>\n",
       "      <td>(603K)</td>\n",
       "    </tr>\n",
       "    <tr>\n",
       "      <th>11</th>\n",
       "      <td>Coco</td>\n",
       "      <td>2017</td>\n",
       "      <td>8.4</td>\n",
       "      <td>81</td>\n",
       "      <td>(586K)</td>\n",
       "    </tr>\n",
       "    <tr>\n",
       "      <th>12</th>\n",
       "      <td>Three Billboards Outside Ebbing, Missouri</td>\n",
       "      <td>2017</td>\n",
       "      <td>8.1</td>\n",
       "      <td>88</td>\n",
       "      <td>(553K)</td>\n",
       "    </tr>\n",
       "    <tr>\n",
       "      <th>13</th>\n",
       "      <td>John Wick: Chapter 2</td>\n",
       "      <td>2017</td>\n",
       "      <td>7.4</td>\n",
       "      <td>75</td>\n",
       "      <td>(509K)</td>\n",
       "    </tr>\n",
       "    <tr>\n",
       "      <th>14</th>\n",
       "      <td>Justice League</td>\n",
       "      <td>2017</td>\n",
       "      <td>6.1</td>\n",
       "      <td>45</td>\n",
       "      <td>(477K)</td>\n",
       "    </tr>\n",
       "    <tr>\n",
       "      <th>15</th>\n",
       "      <td>The Shape of Water</td>\n",
       "      <td>2017</td>\n",
       "      <td>7.3</td>\n",
       "      <td>87</td>\n",
       "      <td>(446K)</td>\n",
       "    </tr>\n",
       "    <tr>\n",
       "      <th>16</th>\n",
       "      <td>Jumanji: Welcome to the Jungle</td>\n",
       "      <td>2017</td>\n",
       "      <td>6.9</td>\n",
       "      <td>58</td>\n",
       "      <td>(436K)</td>\n",
       "    </tr>\n",
       "    <tr>\n",
       "      <th>17</th>\n",
       "      <td>Kingsman: The Golden Circle</td>\n",
       "      <td>2017</td>\n",
       "      <td>6.7</td>\n",
       "      <td>44</td>\n",
       "      <td>(361K)</td>\n",
       "    </tr>\n",
       "    <tr>\n",
       "      <th>18</th>\n",
       "      <td>Kong: Skull Island</td>\n",
       "      <td>2017</td>\n",
       "      <td>6.7</td>\n",
       "      <td>62</td>\n",
       "      <td>(345K)</td>\n",
       "    </tr>\n",
       "    <tr>\n",
       "      <th>19</th>\n",
       "      <td>Pirates of the Caribbean: Salazar's Revenge</td>\n",
       "      <td>2017</td>\n",
       "      <td>6.5</td>\n",
       "      <td>39</td>\n",
       "      <td>(344K)</td>\n",
       "    </tr>\n",
       "    <tr>\n",
       "      <th>20</th>\n",
       "      <td>Beauty and the Beast</td>\n",
       "      <td>2017</td>\n",
       "      <td>7.1</td>\n",
       "      <td>65</td>\n",
       "      <td>(333K)</td>\n",
       "    </tr>\n",
       "    <tr>\n",
       "      <th>21</th>\n",
       "      <td>Lady Bird</td>\n",
       "      <td>2017</td>\n",
       "      <td>7.4</td>\n",
       "      <td>93</td>\n",
       "      <td>(326K)</td>\n",
       "    </tr>\n",
       "    <tr>\n",
       "      <th>22</th>\n",
       "      <td>Call Me by Your Name</td>\n",
       "      <td>2017</td>\n",
       "      <td>7.8</td>\n",
       "      <td>94</td>\n",
       "      <td>(313K)</td>\n",
       "    </tr>\n",
       "    <tr>\n",
       "      <th>23</th>\n",
       "      <td>The Greatest Showman</td>\n",
       "      <td>2017</td>\n",
       "      <td>7.5</td>\n",
       "      <td>48</td>\n",
       "      <td>(310K)</td>\n",
       "    </tr>\n",
       "    <tr>\n",
       "      <th>24</th>\n",
       "      <td>Alien: Covenant</td>\n",
       "      <td>2017</td>\n",
       "      <td>6.4</td>\n",
       "      <td>65</td>\n",
       "      <td>(302K)</td>\n",
       "    </tr>\n",
       "    <tr>\n",
       "      <th>25</th>\n",
       "      <td>Murder on the Orient Express</td>\n",
       "      <td>2017</td>\n",
       "      <td>6.5</td>\n",
       "      <td>52</td>\n",
       "      <td>(295K)</td>\n",
       "    </tr>\n",
       "    <tr>\n",
       "      <th>26</th>\n",
       "      <td>War for the Planet of the Apes</td>\n",
       "      <td>2017</td>\n",
       "      <td>7.4</td>\n",
       "      <td>82</td>\n",
       "      <td>(280K)</td>\n",
       "    </tr>\n",
       "    <tr>\n",
       "      <th>27</th>\n",
       "      <td>Wind River</td>\n",
       "      <td>2017</td>\n",
       "      <td>7.7</td>\n",
       "      <td>73</td>\n",
       "      <td>(279K)</td>\n",
       "    </tr>\n",
       "    <tr>\n",
       "      <th>28</th>\n",
       "      <td>Fast &amp; Furious 8</td>\n",
       "      <td>2017</td>\n",
       "      <td>6.6</td>\n",
       "      <td>56</td>\n",
       "      <td>(253K)</td>\n",
       "    </tr>\n",
       "    <tr>\n",
       "      <th>29</th>\n",
       "      <td>Life</td>\n",
       "      <td>2017</td>\n",
       "      <td>6.6</td>\n",
       "      <td>54</td>\n",
       "      <td>(252K)</td>\n",
       "    </tr>\n",
       "    <tr>\n",
       "      <th>30</th>\n",
       "      <td>Mother!</td>\n",
       "      <td>2017</td>\n",
       "      <td>6.6</td>\n",
       "      <td>76</td>\n",
       "      <td>(249K)</td>\n",
       "    </tr>\n",
       "    <tr>\n",
       "      <th>31</th>\n",
       "      <td>The Hitman's Bodyguard</td>\n",
       "      <td>2017</td>\n",
       "      <td>6.9</td>\n",
       "      <td>47</td>\n",
       "      <td>(246K)</td>\n",
       "    </tr>\n",
       "    <tr>\n",
       "      <th>32</th>\n",
       "      <td>I, Tonya</td>\n",
       "      <td>2017</td>\n",
       "      <td>7.5</td>\n",
       "      <td>77</td>\n",
       "      <td>(242K)</td>\n",
       "    </tr>\n",
       "    <tr>\n",
       "      <th>33</th>\n",
       "      <td>King Arthur: Legend of the Sword</td>\n",
       "      <td>2017</td>\n",
       "      <td>6.7</td>\n",
       "      <td>41</td>\n",
       "      <td>(232K)</td>\n",
       "    </tr>\n",
       "    <tr>\n",
       "      <th>34</th>\n",
       "      <td>Ghost in the Shell</td>\n",
       "      <td>2017</td>\n",
       "      <td>6.3</td>\n",
       "      <td>52</td>\n",
       "      <td>(227K)</td>\n",
       "    </tr>\n",
       "    <tr>\n",
       "      <th>35</th>\n",
       "      <td>Darkest Hour</td>\n",
       "      <td>2017</td>\n",
       "      <td>7.4</td>\n",
       "      <td>75</td>\n",
       "      <td>(220K)</td>\n",
       "    </tr>\n",
       "    <tr>\n",
       "      <th>36</th>\n",
       "      <td>American Made</td>\n",
       "      <td>2017</td>\n",
       "      <td>7.1</td>\n",
       "      <td>65</td>\n",
       "      <td>(207K)</td>\n",
       "    </tr>\n",
       "    <tr>\n",
       "      <th>37</th>\n",
       "      <td>Atomic Blonde</td>\n",
       "      <td>2017</td>\n",
       "      <td>6.7</td>\n",
       "      <td>63</td>\n",
       "      <td>(206K)</td>\n",
       "    </tr>\n",
       "    <tr>\n",
       "      <th>38</th>\n",
       "      <td>The Mummy</td>\n",
       "      <td>2017</td>\n",
       "      <td>5.4</td>\n",
       "      <td>34</td>\n",
       "      <td>(206K)</td>\n",
       "    </tr>\n",
       "    <tr>\n",
       "      <th>39</th>\n",
       "      <td>Baywatch</td>\n",
       "      <td>2017</td>\n",
       "      <td>5.5</td>\n",
       "      <td>37</td>\n",
       "      <td>(201K)</td>\n",
       "    </tr>\n",
       "    <tr>\n",
       "      <th>40</th>\n",
       "      <td>Bright</td>\n",
       "      <td>2017</td>\n",
       "      <td>6.3</td>\n",
       "      <td>29</td>\n",
       "      <td>(201K)</td>\n",
       "    </tr>\n",
       "  </tbody>\n",
       "</table>\n",
       "</div>"
      ],
      "text/plain": [
       "                                           movie  year imdb  metascore   votes\n",
       "0                                          Logan  2017  8.1         77  (827K)\n",
       "1                                 Thor: Ragnarok  2017  7.9         74  (813K)\n",
       "2                 Guardians of the Galaxy Vol. 2  2017  7.6         67  (756K)\n",
       "3                                        Dunkirk  2017  7.8         94  (736K)\n",
       "4                         Spider-Man: Homecoming  2017  7.4         73  (716K)\n",
       "5                                   Wonder Woman  2017  7.3         76  (698K)\n",
       "6                                        Get Out  2017  7.8         85  (691K)\n",
       "7        Star Wars: Episode VIII - The Last Jedi  2017  6.9         84  (670K)\n",
       "8                              Blade Runner 2049  2017  8.0         81  (658K)\n",
       "9                                    Baby Driver  2017  7.5         86  (605K)\n",
       "10                                            It  2017  7.3         69  (603K)\n",
       "11                                          Coco  2017  8.4         81  (586K)\n",
       "12     Three Billboards Outside Ebbing, Missouri  2017  8.1         88  (553K)\n",
       "13                          John Wick: Chapter 2  2017  7.4         75  (509K)\n",
       "14                                Justice League  2017  6.1         45  (477K)\n",
       "15                            The Shape of Water  2017  7.3         87  (446K)\n",
       "16                Jumanji: Welcome to the Jungle  2017  6.9         58  (436K)\n",
       "17                   Kingsman: The Golden Circle  2017  6.7         44  (361K)\n",
       "18                            Kong: Skull Island  2017  6.7         62  (345K)\n",
       "19   Pirates of the Caribbean: Salazar's Revenge  2017  6.5         39  (344K)\n",
       "20                          Beauty and the Beast  2017  7.1         65  (333K)\n",
       "21                                     Lady Bird  2017  7.4         93  (326K)\n",
       "22                          Call Me by Your Name  2017  7.8         94  (313K)\n",
       "23                          The Greatest Showman  2017  7.5         48  (310K)\n",
       "24                               Alien: Covenant  2017  6.4         65  (302K)\n",
       "25                  Murder on the Orient Express  2017  6.5         52  (295K)\n",
       "26                War for the Planet of the Apes  2017  7.4         82  (280K)\n",
       "27                                    Wind River  2017  7.7         73  (279K)\n",
       "28                              Fast & Furious 8  2017  6.6         56  (253K)\n",
       "29                                          Life  2017  6.6         54  (252K)\n",
       "30                                       Mother!  2017  6.6         76  (249K)\n",
       "31                        The Hitman's Bodyguard  2017  6.9         47  (246K)\n",
       "32                                      I, Tonya  2017  7.5         77  (242K)\n",
       "33              King Arthur: Legend of the Sword  2017  6.7         41  (232K)\n",
       "34                            Ghost in the Shell  2017  6.3         52  (227K)\n",
       "35                                  Darkest Hour  2017  7.4         75  (220K)\n",
       "36                                 American Made  2017  7.1         65  (207K)\n",
       "37                                 Atomic Blonde  2017  6.7         63  (206K)\n",
       "38                                     The Mummy  2017  5.4         34  (206K)\n",
       "39                                      Baywatch  2017  5.5         37  (201K)\n",
       "40                                        Bright  2017  6.3         29  (201K)"
      ]
     },
     "execution_count": 65,
     "metadata": {},
     "output_type": "execute_result"
    }
   ],
   "source": [
    "import pandas as pd\n",
    "test_df = pd.DataFrame({'movie': names,\n",
    "'year': years,\n",
    "'imdb': imdb_ratings,\n",
    "'metascore': metascores,\n",
    "'votes': votes\n",
    "})\n",
    "print(test_df.info())\n",
    "test_df"
   ]
  },
  {
   "cell_type": "markdown",
   "metadata": {},
   "source": [
    "**The script for multiple pages**"
   ]
  },
  {
   "cell_type": "code",
   "execution_count": 94,
   "metadata": {},
   "outputs": [
    {
     "name": "stdout",
     "output_type": "stream",
     "text": [
      "<!DOCTYPE html><html lang=\"en-US\" xmlns:og=\"http://opengraphprotocol.org/schema/\" xmlns:fb=\"http://www.facebook.com/2008/fbml\"><head><meta charSet=\"utf-8\"/><meta name=\"viewport\" content=\"width=device-width\"/><script>if(typeof uet === 'function'){ uet('bb', 'LoadTitle', {wb: 1}); }</script><script>window.addEventListener('load', (event) => {\n",
      "        if (typeof window.csa !== 'undefined' && typeof window.csa === 'function') {\n",
      "            var csaLatencyPlugin = window.csa('Content', {\n",
      "             \n",
      "Request:4; Frequency: 0.1575987123833381 requests/s\n"
     ]
    }
   ],
   "source": [
    "from time import time\n",
    "from time import sleep\n",
    "from random import randint\n",
    "\n",
    "from IPython.core.display import clear_output\n",
    "pages = [ '1','2','3','4','5']\n",
    "years_url = [ '2017', '2018', '2019', '2020']\n",
    "\n",
    "# Redeclaring the lists to store data in\n",
    "names = []\n",
    "years = []\n",
    "imdb_ratings = []\n",
    "metascores = []\n",
    "votes = []\n",
    "\n",
    "# Preparing the monitoring of the loop\n",
    "start_time = time()\n",
    "requests = 0\n",
    "\n",
    "#For every year in the interval 2000-2017\n",
    "for year_url in years_url:\n",
    "\n",
    "        # Make a get request\n",
    "        url = f'https://www.imdb.com/search/title?release_date={year_url}-01-01,{year_url}-12-31&sort=num_votes,desc&page=1'\n",
    "        agent = {\"User-Agent\":\"Mozilla/5.0 (Windows NT 10.0; Win64; x64) AppleWebKit/537.36 (KHTML, like Gecko) Chrome/123.0.0.0 Safari/537.36\"}\n",
    "        response = get(url,headers = agent)\n",
    "        print(response.text[:500])\n",
    "        \n",
    "        # Pause the loop\n",
    "        sleep(randint(1,5))\n",
    "        \n",
    "        # Monitor the requests\n",
    "        requests += 1\n",
    "        elapsed_time = time() - start_time\n",
    "        print('Request:{}; Frequency: {} requests/s'.format(requests, requests/elapsed_time))\n",
    "        clear_output(wait = True)\n",
    "        \n",
    "        # Throw a warning for non-200 status codes\n",
    "        if response.status_code != 200:\n",
    "            print('Request: {}; Status code: {}'.format(requests, response.status_code))\n",
    "            \n",
    "        # Break the loop if the number of requests is greater than expected\n",
    "        if requests > 72:\n",
    "            print('Number of requests was greater than expected.')\n",
    "            break\n",
    "        # Parse the content of the request with BeautifulSoup\n",
    "        page_html = BeautifulSoup(response.text, 'html.parser')\n",
    "        \n",
    "        # Select all the 50 movie containers from a single page\n",
    "        mv_containers = page_html.find_all('div', class_ = 'sc-ab6fa25a-3 bVYfLY dli-parent')\n",
    "        \n",
    "        # For every movie of these 50\n",
    "        for container in mv_containers:\n",
    "            # If the movie has a Metascore, then:\n",
    "            if container.find('span', class_ = 'sc-b0901df4-0 bcQdDJ metacritic-score-box') is not None:\n",
    "                # Scrape the name\n",
    "                name = container.find('h3',class_='ipc-title__text').text[3:]\n",
    "                names.append(name)\n",
    "                \n",
    "                # Scrape the year\n",
    "                year = container.find('span', class_ = 'sc-b0691f29-8 ilsLEX dli-title-metadata-item').text\n",
    "                years.append(year)\n",
    "                \n",
    "                # Scrape the IMDB rating\n",
    "                imdb_rating = container.find('span', class_ = 'ipc-rating-star ipc-rating-star--base ipc-rating-star--imdb ratingGroup--imdb-rating').text[:3]\n",
    "                imdb_ratings.append(imdb_rating)\n",
    "                \n",
    "                # Scrape the Metascore\n",
    "                metascore = container.find('span', class_ = 'sc-b0901df4-0 bcQdDJ metacritic-score-box').text\n",
    "                metascores.append(metascore)\n",
    "                \n",
    "                # Scrape the number of votes\n",
    "                vote = container.find('span', class_ = 'ipc-rating-star--voteCount').text[1:]\n",
    "                votes.append(vote)"
   ]
  },
  {
   "cell_type": "code",
   "execution_count": 95,
   "metadata": {},
   "outputs": [
    {
     "name": "stdout",
     "output_type": "stream",
     "text": [
      "<class 'pandas.core.frame.DataFrame'>\n",
      "RangeIndex: 157 entries, 0 to 156\n",
      "Data columns (total 5 columns):\n",
      " #   Column     Non-Null Count  Dtype \n",
      "---  ------     --------------  ----- \n",
      " 0   movie      157 non-null    object\n",
      " 1   year       157 non-null    object\n",
      " 2   imdb       157 non-null    object\n",
      " 3   metascore  157 non-null    object\n",
      " 4   votes      157 non-null    object\n",
      "dtypes: object(5)\n",
      "memory usage: 6.3+ KB\n",
      "None\n"
     ]
    },
    {
     "data": {
      "text/html": [
       "<div>\n",
       "<style scoped>\n",
       "    .dataframe tbody tr th:only-of-type {\n",
       "        vertical-align: middle;\n",
       "    }\n",
       "\n",
       "    .dataframe tbody tr th {\n",
       "        vertical-align: top;\n",
       "    }\n",
       "\n",
       "    .dataframe thead th {\n",
       "        text-align: right;\n",
       "    }\n",
       "</style>\n",
       "<table border=\"1\" class=\"dataframe\">\n",
       "  <thead>\n",
       "    <tr style=\"text-align: right;\">\n",
       "      <th></th>\n",
       "      <th>movie</th>\n",
       "      <th>year</th>\n",
       "      <th>imdb</th>\n",
       "      <th>metascore</th>\n",
       "      <th>votes</th>\n",
       "    </tr>\n",
       "  </thead>\n",
       "  <tbody>\n",
       "    <tr>\n",
       "      <th>0</th>\n",
       "      <td>Logan</td>\n",
       "      <td>2017</td>\n",
       "      <td>8.1</td>\n",
       "      <td>77</td>\n",
       "      <td>(827K)</td>\n",
       "    </tr>\n",
       "    <tr>\n",
       "      <th>1</th>\n",
       "      <td>Thor: Ragnarok</td>\n",
       "      <td>2017</td>\n",
       "      <td>7.9</td>\n",
       "      <td>74</td>\n",
       "      <td>(813K)</td>\n",
       "    </tr>\n",
       "    <tr>\n",
       "      <th>2</th>\n",
       "      <td>Guardians of the Galaxy Vol. 2</td>\n",
       "      <td>2017</td>\n",
       "      <td>7.6</td>\n",
       "      <td>67</td>\n",
       "      <td>(756K)</td>\n",
       "    </tr>\n",
       "    <tr>\n",
       "      <th>3</th>\n",
       "      <td>Dunkirk</td>\n",
       "      <td>2017</td>\n",
       "      <td>7.8</td>\n",
       "      <td>94</td>\n",
       "      <td>(736K)</td>\n",
       "    </tr>\n",
       "    <tr>\n",
       "      <th>4</th>\n",
       "      <td>Spider-Man: Homecoming</td>\n",
       "      <td>2017</td>\n",
       "      <td>7.4</td>\n",
       "      <td>73</td>\n",
       "      <td>(716K)</td>\n",
       "    </tr>\n",
       "    <tr>\n",
       "      <th>5</th>\n",
       "      <td>Wonder Woman</td>\n",
       "      <td>2017</td>\n",
       "      <td>7.3</td>\n",
       "      <td>76</td>\n",
       "      <td>(698K)</td>\n",
       "    </tr>\n",
       "    <tr>\n",
       "      <th>6</th>\n",
       "      <td>Get Out</td>\n",
       "      <td>2017</td>\n",
       "      <td>7.8</td>\n",
       "      <td>85</td>\n",
       "      <td>(691K)</td>\n",
       "    </tr>\n",
       "    <tr>\n",
       "      <th>7</th>\n",
       "      <td>Star Wars: Episode VIII - The Last Jedi</td>\n",
       "      <td>2017</td>\n",
       "      <td>6.9</td>\n",
       "      <td>84</td>\n",
       "      <td>(670K)</td>\n",
       "    </tr>\n",
       "    <tr>\n",
       "      <th>8</th>\n",
       "      <td>Blade Runner 2049</td>\n",
       "      <td>2017</td>\n",
       "      <td>8.0</td>\n",
       "      <td>81</td>\n",
       "      <td>(658K)</td>\n",
       "    </tr>\n",
       "    <tr>\n",
       "      <th>9</th>\n",
       "      <td>Baby Driver</td>\n",
       "      <td>2017</td>\n",
       "      <td>7.5</td>\n",
       "      <td>86</td>\n",
       "      <td>(605K)</td>\n",
       "    </tr>\n",
       "  </tbody>\n",
       "</table>\n",
       "</div>"
      ],
      "text/plain": [
       "                                     movie  year imdb metascore   votes\n",
       "0                                    Logan  2017  8.1        77  (827K)\n",
       "1                           Thor: Ragnarok  2017  7.9        74  (813K)\n",
       "2           Guardians of the Galaxy Vol. 2  2017  7.6        67  (756K)\n",
       "3                                  Dunkirk  2017  7.8        94  (736K)\n",
       "4                   Spider-Man: Homecoming  2017  7.4        73  (716K)\n",
       "5                             Wonder Woman  2017  7.3        76  (698K)\n",
       "6                                  Get Out  2017  7.8        85  (691K)\n",
       "7  Star Wars: Episode VIII - The Last Jedi  2017  6.9        84  (670K)\n",
       "8                        Blade Runner 2049  2017  8.0        81  (658K)\n",
       "9                              Baby Driver  2017  7.5        86  (605K)"
      ]
     },
     "execution_count": 95,
     "metadata": {},
     "output_type": "execute_result"
    }
   ],
   "source": [
    "movie_ratings = pd.DataFrame({'movie': names,\n",
    "'year': years,\n",
    "'imdb': imdb_ratings,\n",
    "'metascore': metascores,\n",
    "'votes': votes\n",
    "})\n",
    "print(movie_ratings.info())\n",
    "movie_ratings.head(10)"
   ]
  },
  {
   "cell_type": "code",
   "execution_count": 96,
   "metadata": {},
   "outputs": [
    {
     "data": {
      "text/html": [
       "<div>\n",
       "<style scoped>\n",
       "    .dataframe tbody tr th:only-of-type {\n",
       "        vertical-align: middle;\n",
       "    }\n",
       "\n",
       "    .dataframe tbody tr th {\n",
       "        vertical-align: top;\n",
       "    }\n",
       "\n",
       "    .dataframe thead th {\n",
       "        text-align: right;\n",
       "    }\n",
       "</style>\n",
       "<table border=\"1\" class=\"dataframe\">\n",
       "  <thead>\n",
       "    <tr style=\"text-align: right;\">\n",
       "      <th></th>\n",
       "      <th>movie</th>\n",
       "      <th>year</th>\n",
       "      <th>imdb</th>\n",
       "      <th>metascore</th>\n",
       "      <th>votes</th>\n",
       "    </tr>\n",
       "  </thead>\n",
       "  <tbody>\n",
       "    <tr>\n",
       "      <th>147</th>\n",
       "      <td>The Hunt</td>\n",
       "      <td>2020</td>\n",
       "      <td>6.5</td>\n",
       "      <td>50</td>\n",
       "      <td>(128K)</td>\n",
       "    </tr>\n",
       "    <tr>\n",
       "      <th>148</th>\n",
       "      <td>Greyhound</td>\n",
       "      <td>2020</td>\n",
       "      <td>7.0</td>\n",
       "      <td>64</td>\n",
       "      <td>(114K)</td>\n",
       "    </tr>\n",
       "    <tr>\n",
       "      <th>149</th>\n",
       "      <td>Hamilton</td>\n",
       "      <td>2020</td>\n",
       "      <td>8.3</td>\n",
       "      <td>88</td>\n",
       "      <td>(112K)</td>\n",
       "    </tr>\n",
       "    <tr>\n",
       "      <th>150</th>\n",
       "      <td>Eurovision Song Contest: The Story of Fire Saga</td>\n",
       "      <td>2020</td>\n",
       "      <td>6.5</td>\n",
       "      <td>50</td>\n",
       "      <td>(102K)</td>\n",
       "    </tr>\n",
       "    <tr>\n",
       "      <th>151</th>\n",
       "      <td>I'm Thinking of Ending Things</td>\n",
       "      <td>2020</td>\n",
       "      <td>6.6</td>\n",
       "      <td>78</td>\n",
       "      <td>(99K)</td>\n",
       "    </tr>\n",
       "    <tr>\n",
       "      <th>152</th>\n",
       "      <td>Project Power</td>\n",
       "      <td>2020</td>\n",
       "      <td>6.0</td>\n",
       "      <td>51</td>\n",
       "      <td>(97K)</td>\n",
       "    </tr>\n",
       "    <tr>\n",
       "      <th>153</th>\n",
       "      <td>Spenser Confidential</td>\n",
       "      <td>2020</td>\n",
       "      <td>6.2</td>\n",
       "      <td>49</td>\n",
       "      <td>(97K)</td>\n",
       "    </tr>\n",
       "    <tr>\n",
       "      <th>154</th>\n",
       "      <td>Underwater</td>\n",
       "      <td>2020</td>\n",
       "      <td>5.9</td>\n",
       "      <td>48</td>\n",
       "      <td>(97K)</td>\n",
       "    </tr>\n",
       "    <tr>\n",
       "      <th>155</th>\n",
       "      <td>Minari</td>\n",
       "      <td>2020</td>\n",
       "      <td>7.4</td>\n",
       "      <td>89</td>\n",
       "      <td>(96K)</td>\n",
       "    </tr>\n",
       "    <tr>\n",
       "      <th>156</th>\n",
       "      <td>News of the World</td>\n",
       "      <td>2020</td>\n",
       "      <td>6.8</td>\n",
       "      <td>73</td>\n",
       "      <td>(95K)</td>\n",
       "    </tr>\n",
       "  </tbody>\n",
       "</table>\n",
       "</div>"
      ],
      "text/plain": [
       "                                                movie  year imdb metascore  \\\n",
       "147                                          The Hunt  2020  6.5        50   \n",
       "148                                         Greyhound  2020  7.0        64   \n",
       "149                                          Hamilton  2020  8.3        88   \n",
       "150   Eurovision Song Contest: The Story of Fire Saga  2020  6.5        50   \n",
       "151                     I'm Thinking of Ending Things  2020  6.6        78   \n",
       "152                                     Project Power  2020  6.0        51   \n",
       "153                              Spenser Confidential  2020  6.2        49   \n",
       "154                                        Underwater  2020  5.9        48   \n",
       "155                                            Minari  2020  7.4        89   \n",
       "156                                 News of the World  2020  6.8        73   \n",
       "\n",
       "      votes  \n",
       "147  (128K)  \n",
       "148  (114K)  \n",
       "149  (112K)  \n",
       "150  (102K)  \n",
       "151   (99K)  \n",
       "152   (97K)  \n",
       "153   (97K)  \n",
       "154   (97K)  \n",
       "155   (96K)  \n",
       "156   (95K)  "
      ]
     },
     "execution_count": 96,
     "metadata": {},
     "output_type": "execute_result"
    }
   ],
   "source": [
    "movie_ratings.tail(10)"
   ]
  },
  {
   "cell_type": "code",
   "execution_count": 97,
   "metadata": {},
   "outputs": [],
   "source": [
    "movie_ratings.to_csv('movie_ratings.csv')"
   ]
  },
  {
   "cell_type": "markdown",
   "metadata": {
    "id": "jtE4chtukhC4"
   },
   "source": [
    "**Data Preparation**"
   ]
  },
  {
   "cell_type": "markdown",
   "metadata": {
    "id": "00hUa6Vhki8u"
   },
   "source": [
    "Data preprocessing"
   ]
  },
  {
   "cell_type": "markdown",
   "metadata": {
    "id": "QuZfAsVzkmoE"
   },
   "source": [
    "Data Processing is a process of cleaning the raw data i.e. the data is collected in the real world and is converted to a clean data set. In other words, whenever the data is\n",
    "gathered from different sources it is collected in a raw format and this data isn’t feasible for the analysis. Therefore, certain steps are executed to convert the data into a small\n",
    "clean data set, this part of the process is called as data preprocessing.\n",
    "\n",
    "Most of the real-world data is messy, some of these types of data are: 1. Missing data: Missing data can be found when it is not continuously created or due to technical\n",
    "issues in the application (IOT system). 2. Noisy Data This type of data is also called outliners, this can occur due to human errors (human manually gathering the data) or\n",
    "some technical problem of the device at the time of collection of data. 3. Inconsistent data: This type of data might be collected due to human errors (mistakes with the\n",
    "name or values) or duplication of data.\n",
    "\n",
    "These are some of the basic pre processing techniques that can be used to convert raw data. 1. Conversion of data: As we know that Machine Learning models can only\n",
    "handle numeric features, hence categorical and ordinal data must be somehow converted into numeric features. 2. Ignoring the missing values: Whenever we encounter\n",
    "missing data in the data set then we can remove the row or column of data depending on our need. This method is known to be efficient but it shouldn’t be performed if there\n",
    "are a lot of missing values in the dataset. 3. Filling the missing values: Whenever we encounter missing data in the data set then we can fill the missing data manually, most\n",
    "commonly the mean, median or highest frequency value is used."
   ]
  },
  {
   "cell_type": "markdown",
   "metadata": {
    "id": "BYa4F7s_koNO"
   },
   "source": [
    "Example of Data Preparation of movie_rating.csv"
   ]
  },
  {
   "cell_type": "code",
   "execution_count": 98,
   "metadata": {},
   "outputs": [],
   "source": [
    "movie_ratings = pd.read_csv('movie_ratings.csv')"
   ]
  },
  {
   "cell_type": "code",
   "execution_count": 99,
   "metadata": {},
   "outputs": [
    {
     "data": {
      "text/plain": [
       "array([2017, 2018, 2019, 2020], dtype=int64)"
      ]
     },
     "execution_count": 99,
     "metadata": {},
     "output_type": "execute_result"
    }
   ],
   "source": [
    "movie_ratings['year'].unique()"
   ]
  },
  {
   "cell_type": "code",
   "execution_count": 100,
   "metadata": {},
   "outputs": [
    {
     "data": {
      "text/plain": [
       "Unnamed: 0      int64\n",
       "movie          object\n",
       "year            int64\n",
       "imdb          float64\n",
       "metascore       int64\n",
       "votes          object\n",
       "dtype: object"
      ]
     },
     "execution_count": 100,
     "metadata": {},
     "output_type": "execute_result"
    }
   ],
   "source": [
    "movie_ratings.dtypes"
   ]
  },
  {
   "cell_type": "code",
   "execution_count": 101,
   "metadata": {},
   "outputs": [],
   "source": [
    "movie_ratings['year'] = movie_ratings['year'].astype(int)"
   ]
  },
  {
   "cell_type": "code",
   "execution_count": 102,
   "metadata": {},
   "outputs": [
    {
     "data": {
      "text/plain": [
       "array([2017, 2018, 2019, 2020])"
      ]
     },
     "execution_count": 102,
     "metadata": {},
     "output_type": "execute_result"
    }
   ],
   "source": [
    "movie_ratings['year'].unique()"
   ]
  },
  {
   "cell_type": "code",
   "execution_count": 103,
   "metadata": {},
   "outputs": [
    {
     "data": {
      "text/plain": [
       "Unnamed: 0      int64\n",
       "movie          object\n",
       "year            int32\n",
       "imdb          float64\n",
       "metascore       int64\n",
       "votes          object\n",
       "dtype: object"
      ]
     },
     "execution_count": 103,
     "metadata": {},
     "output_type": "execute_result"
    }
   ],
   "source": [
    "movie_ratings.dtypes"
   ]
  },
  {
   "cell_type": "code",
   "execution_count": 104,
   "metadata": {},
   "outputs": [
    {
     "data": {
      "text/html": [
       "<div>\n",
       "<style scoped>\n",
       "    .dataframe tbody tr th:only-of-type {\n",
       "        vertical-align: middle;\n",
       "    }\n",
       "\n",
       "    .dataframe tbody tr th {\n",
       "        vertical-align: top;\n",
       "    }\n",
       "\n",
       "    .dataframe thead th {\n",
       "        text-align: right;\n",
       "    }\n",
       "</style>\n",
       "<table border=\"1\" class=\"dataframe\">\n",
       "  <thead>\n",
       "    <tr style=\"text-align: right;\">\n",
       "      <th></th>\n",
       "      <th>Unnamed: 0</th>\n",
       "      <th>movie</th>\n",
       "      <th>year</th>\n",
       "      <th>imdb</th>\n",
       "      <th>metascore</th>\n",
       "      <th>votes</th>\n",
       "    </tr>\n",
       "  </thead>\n",
       "  <tbody>\n",
       "    <tr>\n",
       "      <th>0</th>\n",
       "      <td>0</td>\n",
       "      <td>Logan</td>\n",
       "      <td>2017</td>\n",
       "      <td>8.1</td>\n",
       "      <td>77</td>\n",
       "      <td>(827K)</td>\n",
       "    </tr>\n",
       "    <tr>\n",
       "      <th>1</th>\n",
       "      <td>1</td>\n",
       "      <td>Thor: Ragnarok</td>\n",
       "      <td>2017</td>\n",
       "      <td>7.9</td>\n",
       "      <td>74</td>\n",
       "      <td>(813K)</td>\n",
       "    </tr>\n",
       "    <tr>\n",
       "      <th>2</th>\n",
       "      <td>2</td>\n",
       "      <td>Guardians of the Galaxy Vol. 2</td>\n",
       "      <td>2017</td>\n",
       "      <td>7.6</td>\n",
       "      <td>67</td>\n",
       "      <td>(756K)</td>\n",
       "    </tr>\n",
       "    <tr>\n",
       "      <th>3</th>\n",
       "      <td>3</td>\n",
       "      <td>Dunkirk</td>\n",
       "      <td>2017</td>\n",
       "      <td>7.8</td>\n",
       "      <td>94</td>\n",
       "      <td>(736K)</td>\n",
       "    </tr>\n",
       "    <tr>\n",
       "      <th>4</th>\n",
       "      <td>4</td>\n",
       "      <td>Spider-Man: Homecoming</td>\n",
       "      <td>2017</td>\n",
       "      <td>7.4</td>\n",
       "      <td>73</td>\n",
       "      <td>(716K)</td>\n",
       "    </tr>\n",
       "    <tr>\n",
       "      <th>5</th>\n",
       "      <td>5</td>\n",
       "      <td>Wonder Woman</td>\n",
       "      <td>2017</td>\n",
       "      <td>7.3</td>\n",
       "      <td>76</td>\n",
       "      <td>(698K)</td>\n",
       "    </tr>\n",
       "    <tr>\n",
       "      <th>6</th>\n",
       "      <td>6</td>\n",
       "      <td>Get Out</td>\n",
       "      <td>2017</td>\n",
       "      <td>7.8</td>\n",
       "      <td>85</td>\n",
       "      <td>(691K)</td>\n",
       "    </tr>\n",
       "    <tr>\n",
       "      <th>7</th>\n",
       "      <td>7</td>\n",
       "      <td>Star Wars: Episode VIII - The Last Jedi</td>\n",
       "      <td>2017</td>\n",
       "      <td>6.9</td>\n",
       "      <td>84</td>\n",
       "      <td>(670K)</td>\n",
       "    </tr>\n",
       "    <tr>\n",
       "      <th>8</th>\n",
       "      <td>8</td>\n",
       "      <td>Blade Runner 2049</td>\n",
       "      <td>2017</td>\n",
       "      <td>8.0</td>\n",
       "      <td>81</td>\n",
       "      <td>(658K)</td>\n",
       "    </tr>\n",
       "    <tr>\n",
       "      <th>9</th>\n",
       "      <td>9</td>\n",
       "      <td>Baby Driver</td>\n",
       "      <td>2017</td>\n",
       "      <td>7.5</td>\n",
       "      <td>86</td>\n",
       "      <td>(605K)</td>\n",
       "    </tr>\n",
       "  </tbody>\n",
       "</table>\n",
       "</div>"
      ],
      "text/plain": [
       "   Unnamed: 0                                    movie  year  imdb  metascore  \\\n",
       "0           0                                    Logan  2017   8.1         77   \n",
       "1           1                           Thor: Ragnarok  2017   7.9         74   \n",
       "2           2           Guardians of the Galaxy Vol. 2  2017   7.6         67   \n",
       "3           3                                  Dunkirk  2017   7.8         94   \n",
       "4           4                   Spider-Man: Homecoming  2017   7.4         73   \n",
       "5           5                             Wonder Woman  2017   7.3         76   \n",
       "6           6                                  Get Out  2017   7.8         85   \n",
       "7           7  Star Wars: Episode VIII - The Last Jedi  2017   6.9         84   \n",
       "8           8                        Blade Runner 2049  2017   8.0         81   \n",
       "9           9                              Baby Driver  2017   7.5         86   \n",
       "\n",
       "    votes  \n",
       "0  (827K)  \n",
       "1  (813K)  \n",
       "2  (756K)  \n",
       "3  (736K)  \n",
       "4  (716K)  \n",
       "5  (698K)  \n",
       "6  (691K)  \n",
       "7  (670K)  \n",
       "8  (658K)  \n",
       "9  (605K)  "
      ]
     },
     "execution_count": 104,
     "metadata": {},
     "output_type": "execute_result"
    }
   ],
   "source": [
    "movie_ratings.head(10)"
   ]
  },
  {
   "cell_type": "code",
   "execution_count": 105,
   "metadata": {},
   "outputs": [
    {
     "data": {
      "text/html": [
       "<div>\n",
       "<style scoped>\n",
       "    .dataframe tbody tr th:only-of-type {\n",
       "        vertical-align: middle;\n",
       "    }\n",
       "\n",
       "    .dataframe tbody tr th {\n",
       "        vertical-align: top;\n",
       "    }\n",
       "\n",
       "    .dataframe thead th {\n",
       "        text-align: right;\n",
       "    }\n",
       "</style>\n",
       "<table border=\"1\" class=\"dataframe\">\n",
       "  <thead>\n",
       "    <tr style=\"text-align: right;\">\n",
       "      <th></th>\n",
       "      <th>Unnamed: 0</th>\n",
       "      <th>movie</th>\n",
       "      <th>year</th>\n",
       "      <th>imdb</th>\n",
       "      <th>metascore</th>\n",
       "      <th>votes</th>\n",
       "    </tr>\n",
       "  </thead>\n",
       "  <tbody>\n",
       "    <tr>\n",
       "      <th>147</th>\n",
       "      <td>147</td>\n",
       "      <td>The Hunt</td>\n",
       "      <td>2020</td>\n",
       "      <td>6.5</td>\n",
       "      <td>50</td>\n",
       "      <td>(128K)</td>\n",
       "    </tr>\n",
       "    <tr>\n",
       "      <th>148</th>\n",
       "      <td>148</td>\n",
       "      <td>Greyhound</td>\n",
       "      <td>2020</td>\n",
       "      <td>7.0</td>\n",
       "      <td>64</td>\n",
       "      <td>(114K)</td>\n",
       "    </tr>\n",
       "    <tr>\n",
       "      <th>149</th>\n",
       "      <td>149</td>\n",
       "      <td>Hamilton</td>\n",
       "      <td>2020</td>\n",
       "      <td>8.3</td>\n",
       "      <td>88</td>\n",
       "      <td>(112K)</td>\n",
       "    </tr>\n",
       "    <tr>\n",
       "      <th>150</th>\n",
       "      <td>150</td>\n",
       "      <td>Eurovision Song Contest: The Story of Fire Saga</td>\n",
       "      <td>2020</td>\n",
       "      <td>6.5</td>\n",
       "      <td>50</td>\n",
       "      <td>(102K)</td>\n",
       "    </tr>\n",
       "    <tr>\n",
       "      <th>151</th>\n",
       "      <td>151</td>\n",
       "      <td>I'm Thinking of Ending Things</td>\n",
       "      <td>2020</td>\n",
       "      <td>6.6</td>\n",
       "      <td>78</td>\n",
       "      <td>(99K)</td>\n",
       "    </tr>\n",
       "    <tr>\n",
       "      <th>152</th>\n",
       "      <td>152</td>\n",
       "      <td>Project Power</td>\n",
       "      <td>2020</td>\n",
       "      <td>6.0</td>\n",
       "      <td>51</td>\n",
       "      <td>(97K)</td>\n",
       "    </tr>\n",
       "    <tr>\n",
       "      <th>153</th>\n",
       "      <td>153</td>\n",
       "      <td>Spenser Confidential</td>\n",
       "      <td>2020</td>\n",
       "      <td>6.2</td>\n",
       "      <td>49</td>\n",
       "      <td>(97K)</td>\n",
       "    </tr>\n",
       "    <tr>\n",
       "      <th>154</th>\n",
       "      <td>154</td>\n",
       "      <td>Underwater</td>\n",
       "      <td>2020</td>\n",
       "      <td>5.9</td>\n",
       "      <td>48</td>\n",
       "      <td>(97K)</td>\n",
       "    </tr>\n",
       "    <tr>\n",
       "      <th>155</th>\n",
       "      <td>155</td>\n",
       "      <td>Minari</td>\n",
       "      <td>2020</td>\n",
       "      <td>7.4</td>\n",
       "      <td>89</td>\n",
       "      <td>(96K)</td>\n",
       "    </tr>\n",
       "    <tr>\n",
       "      <th>156</th>\n",
       "      <td>156</td>\n",
       "      <td>News of the World</td>\n",
       "      <td>2020</td>\n",
       "      <td>6.8</td>\n",
       "      <td>73</td>\n",
       "      <td>(95K)</td>\n",
       "    </tr>\n",
       "  </tbody>\n",
       "</table>\n",
       "</div>"
      ],
      "text/plain": [
       "     Unnamed: 0                                             movie  year  imdb  \\\n",
       "147         147                                          The Hunt  2020   6.5   \n",
       "148         148                                         Greyhound  2020   7.0   \n",
       "149         149                                          Hamilton  2020   8.3   \n",
       "150         150   Eurovision Song Contest: The Story of Fire Saga  2020   6.5   \n",
       "151         151                     I'm Thinking of Ending Things  2020   6.6   \n",
       "152         152                                     Project Power  2020   6.0   \n",
       "153         153                              Spenser Confidential  2020   6.2   \n",
       "154         154                                        Underwater  2020   5.9   \n",
       "155         155                                            Minari  2020   7.4   \n",
       "156         156                                 News of the World  2020   6.8   \n",
       "\n",
       "     metascore   votes  \n",
       "147         50  (128K)  \n",
       "148         64  (114K)  \n",
       "149         88  (112K)  \n",
       "150         50  (102K)  \n",
       "151         78   (99K)  \n",
       "152         51   (97K)  \n",
       "153         49   (97K)  \n",
       "154         48   (97K)  \n",
       "155         89   (96K)  \n",
       "156         73   (95K)  "
      ]
     },
     "execution_count": 105,
     "metadata": {},
     "output_type": "execute_result"
    }
   ],
   "source": [
    "movie_ratings.tail(10)"
   ]
  },
  {
   "cell_type": "code",
   "execution_count": 106,
   "metadata": {},
   "outputs": [
    {
     "data": {
      "text/html": [
       "<div>\n",
       "<style scoped>\n",
       "    .dataframe tbody tr th:only-of-type {\n",
       "        vertical-align: middle;\n",
       "    }\n",
       "\n",
       "    .dataframe tbody tr th {\n",
       "        vertical-align: top;\n",
       "    }\n",
       "\n",
       "    .dataframe thead th {\n",
       "        text-align: right;\n",
       "    }\n",
       "</style>\n",
       "<table border=\"1\" class=\"dataframe\">\n",
       "  <thead>\n",
       "    <tr style=\"text-align: right;\">\n",
       "      <th></th>\n",
       "      <th>Unnamed: 0</th>\n",
       "      <th>movie</th>\n",
       "      <th>year</th>\n",
       "      <th>imdb</th>\n",
       "      <th>metascore</th>\n",
       "      <th>votes</th>\n",
       "    </tr>\n",
       "  </thead>\n",
       "  <tbody>\n",
       "    <tr>\n",
       "      <th>0</th>\n",
       "      <td>0</td>\n",
       "      <td>Logan</td>\n",
       "      <td>2017</td>\n",
       "      <td>8.1</td>\n",
       "      <td>77</td>\n",
       "      <td>(827K)</td>\n",
       "    </tr>\n",
       "    <tr>\n",
       "      <th>1</th>\n",
       "      <td>1</td>\n",
       "      <td>Thor: Ragnarok</td>\n",
       "      <td>2017</td>\n",
       "      <td>7.9</td>\n",
       "      <td>74</td>\n",
       "      <td>(813K)</td>\n",
       "    </tr>\n",
       "    <tr>\n",
       "      <th>2</th>\n",
       "      <td>2</td>\n",
       "      <td>Guardians of the Galaxy Vol. 2</td>\n",
       "      <td>2017</td>\n",
       "      <td>7.6</td>\n",
       "      <td>67</td>\n",
       "      <td>(756K)</td>\n",
       "    </tr>\n",
       "    <tr>\n",
       "      <th>3</th>\n",
       "      <td>3</td>\n",
       "      <td>Dunkirk</td>\n",
       "      <td>2017</td>\n",
       "      <td>7.8</td>\n",
       "      <td>94</td>\n",
       "      <td>(736K)</td>\n",
       "    </tr>\n",
       "    <tr>\n",
       "      <th>4</th>\n",
       "      <td>4</td>\n",
       "      <td>Spider-Man: Homecoming</td>\n",
       "      <td>2017</td>\n",
       "      <td>7.4</td>\n",
       "      <td>73</td>\n",
       "      <td>(716K)</td>\n",
       "    </tr>\n",
       "    <tr>\n",
       "      <th>...</th>\n",
       "      <td>...</td>\n",
       "      <td>...</td>\n",
       "      <td>...</td>\n",
       "      <td>...</td>\n",
       "      <td>...</td>\n",
       "      <td>...</td>\n",
       "    </tr>\n",
       "    <tr>\n",
       "      <th>152</th>\n",
       "      <td>152</td>\n",
       "      <td>Project Power</td>\n",
       "      <td>2020</td>\n",
       "      <td>6.0</td>\n",
       "      <td>51</td>\n",
       "      <td>(97K)</td>\n",
       "    </tr>\n",
       "    <tr>\n",
       "      <th>153</th>\n",
       "      <td>153</td>\n",
       "      <td>Spenser Confidential</td>\n",
       "      <td>2020</td>\n",
       "      <td>6.2</td>\n",
       "      <td>49</td>\n",
       "      <td>(97K)</td>\n",
       "    </tr>\n",
       "    <tr>\n",
       "      <th>154</th>\n",
       "      <td>154</td>\n",
       "      <td>Underwater</td>\n",
       "      <td>2020</td>\n",
       "      <td>5.9</td>\n",
       "      <td>48</td>\n",
       "      <td>(97K)</td>\n",
       "    </tr>\n",
       "    <tr>\n",
       "      <th>155</th>\n",
       "      <td>155</td>\n",
       "      <td>Minari</td>\n",
       "      <td>2020</td>\n",
       "      <td>7.4</td>\n",
       "      <td>89</td>\n",
       "      <td>(96K)</td>\n",
       "    </tr>\n",
       "    <tr>\n",
       "      <th>156</th>\n",
       "      <td>156</td>\n",
       "      <td>News of the World</td>\n",
       "      <td>2020</td>\n",
       "      <td>6.8</td>\n",
       "      <td>73</td>\n",
       "      <td>(95K)</td>\n",
       "    </tr>\n",
       "  </tbody>\n",
       "</table>\n",
       "<p>157 rows × 6 columns</p>\n",
       "</div>"
      ],
      "text/plain": [
       "     Unnamed: 0                           movie  year  imdb  metascore   votes\n",
       "0             0                           Logan  2017   8.1         77  (827K)\n",
       "1             1                  Thor: Ragnarok  2017   7.9         74  (813K)\n",
       "2             2  Guardians of the Galaxy Vol. 2  2017   7.6         67  (756K)\n",
       "3             3                         Dunkirk  2017   7.8         94  (736K)\n",
       "4             4          Spider-Man: Homecoming  2017   7.4         73  (716K)\n",
       "..          ...                             ...   ...   ...        ...     ...\n",
       "152         152                   Project Power  2020   6.0         51   (97K)\n",
       "153         153            Spenser Confidential  2020   6.2         49   (97K)\n",
       "154         154                      Underwater  2020   5.9         48   (97K)\n",
       "155         155                          Minari  2020   7.4         89   (96K)\n",
       "156         156               News of the World  2020   6.8         73   (95K)\n",
       "\n",
       "[157 rows x 6 columns]"
      ]
     },
     "execution_count": 106,
     "metadata": {},
     "output_type": "execute_result"
    }
   ],
   "source": [
    "movie_ratings"
   ]
  }
 ],
 "metadata": {
  "colab": {
   "provenance": []
  },
  "kernelspec": {
   "display_name": "Python 3 (ipykernel)",
   "language": "python",
   "name": "python3"
  },
  "language_info": {
   "codemirror_mode": {
    "name": "ipython",
    "version": 3
   },
   "file_extension": ".py",
   "mimetype": "text/x-python",
   "name": "python",
   "nbconvert_exporter": "python",
   "pygments_lexer": "ipython3",
   "version": "3.11.7"
  }
 },
 "nbformat": 4,
 "nbformat_minor": 4
}
