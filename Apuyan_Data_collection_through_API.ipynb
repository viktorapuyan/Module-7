{
 "cells": [
  {
   "cell_type": "markdown",
   "metadata": {
    "id": "0lp9lc3zc2ir"
   },
   "source": [
    "#Using the NCEI API"
   ]
  },
  {
   "cell_type": "code",
   "execution_count": 2,
   "metadata": {
    "id": "KblDgaxKC-pd"
   },
   "outputs": [],
   "source": [
    "import requests\n",
    "def make_request(endpoint, payload=None):\n",
    "  \"\"\"\n",
    "  Make a request to a specific endpoint on the weather API\n",
    "  passing headers and optional payload.\n",
    "  Parameters:\n",
    "  - endpoint: The endpoint of the API you want to\n",
    "  make a GET request to.\n",
    "  - payload: A dictionary of data to pass along\n",
    "  with the request.\n",
    "  Returns:\n",
    "    Response object.\n",
    "  \"\"\"\n",
    "  return requests.get(\n",
    "      f'https://www.ncdc.noaa.gov/cdo-web/api/v2/{endpoint}',\n",
    "      headers={\n",
    "          'token': 'apmaMuyEvjemFkHtorrzrCtQyOwNRTeM'\n",
    "          },\n",
    "      params=payload\n",
    "    )"
   ]
  },
  {
   "cell_type": "markdown",
   "metadata": {
    "id": "o5e7ZYbrc7jP"
   },
   "source": [
    "#See what datasets are available"
   ]
  },
  {
   "cell_type": "code",
   "execution_count": 3,
   "metadata": {
    "colab": {
     "base_uri": "https://localhost:8080/"
    },
    "id": "BI14UWNZLrhK",
    "outputId": "eda4a84c-b91e-4367-ffe2-8620746ba7d8"
   },
   "outputs": [
    {
     "data": {
      "text/plain": [
       "200"
      ]
     },
     "execution_count": 3,
     "metadata": {},
     "output_type": "execute_result"
    }
   ],
   "source": [
    "response = make_request('datasets', {'startdate':'2018-10-01'})\n",
    "response.status_code"
   ]
  },
  {
   "cell_type": "markdown",
   "metadata": {
    "id": "VSDANqOVMu3r"
   },
   "source": [
    "#Get the keys of the result"
   ]
  },
  {
   "cell_type": "code",
   "execution_count": 4,
   "metadata": {
    "colab": {
     "base_uri": "https://localhost:8080/"
    },
    "id": "QAaFySuwMF9r",
    "outputId": "888388f0-4ee1-4d97-e3f6-116da20cc77f"
   },
   "outputs": [
    {
     "data": {
      "text/plain": [
       "dict_keys(['metadata', 'results'])"
      ]
     },
     "execution_count": 4,
     "metadata": {},
     "output_type": "execute_result"
    }
   ],
   "source": [
    "response.json().keys()"
   ]
  },
  {
   "cell_type": "code",
   "execution_count": 5,
   "metadata": {
    "colab": {
     "base_uri": "https://localhost:8080/"
    },
    "id": "afrMW28BMprL",
    "outputId": "8666fb99-0887-4c7d-8038-f1f5f4478371"
   },
   "outputs": [
    {
     "data": {
      "text/plain": [
       "{'resultset': {'offset': 1, 'count': 11, 'limit': 25}}"
      ]
     },
     "execution_count": 5,
     "metadata": {},
     "output_type": "execute_result"
    }
   ],
   "source": [
    "response.json()['metadata']"
   ]
  },
  {
   "cell_type": "markdown",
   "metadata": {
    "id": "MADqZ0cfMyx7"
   },
   "source": [
    "#Figure out what data is in the result"
   ]
  },
  {
   "cell_type": "code",
   "execution_count": 6,
   "metadata": {
    "colab": {
     "base_uri": "https://localhost:8080/"
    },
    "id": "pe2XunzKM1J6",
    "outputId": "d1a15b83-551d-41fa-f4e9-494f7aba811a"
   },
   "outputs": [
    {
     "data": {
      "text/plain": [
       "dict_keys(['uid', 'mindate', 'maxdate', 'name', 'datacoverage', 'id'])"
      ]
     },
     "execution_count": 6,
     "metadata": {},
     "output_type": "execute_result"
    }
   ],
   "source": [
    "response.json()['results'][0].keys()"
   ]
  },
  {
   "cell_type": "markdown",
   "metadata": {
    "id": "3idJW2UmM76M"
   },
   "source": [
    "#Parse the result"
   ]
  },
  {
   "cell_type": "code",
   "execution_count": 7,
   "metadata": {
    "colab": {
     "base_uri": "https://localhost:8080/"
    },
    "id": "0QQJDTvAM9kb",
    "outputId": "d9dff8bc-3cd9-4821-e2dd-0756ac932dcc"
   },
   "outputs": [
    {
     "data": {
      "text/plain": [
       "[('GHCND', 'Daily Summaries'),\n",
       " ('GSOM', 'Global Summary of the Month'),\n",
       " ('GSOY', 'Global Summary of the Year'),\n",
       " ('NEXRAD2', 'Weather Radar (Level II)'),\n",
       " ('NEXRAD3', 'Weather Radar (Level III)'),\n",
       " ('NORMAL_ANN', 'Normals Annual/Seasonal'),\n",
       " ('NORMAL_DLY', 'Normals Daily'),\n",
       " ('NORMAL_HLY', 'Normals Hourly'),\n",
       " ('NORMAL_MLY', 'Normals Monthly'),\n",
       " ('PRECIP_15', 'Precipitation 15 Minute'),\n",
       " ('PRECIP_HLY', 'Precipitation Hourly')]"
      ]
     },
     "execution_count": 7,
     "metadata": {},
     "output_type": "execute_result"
    }
   ],
   "source": [
    "[(data['id'], data['name']) for data in response.json()['results']]"
   ]
  },
  {
   "cell_type": "markdown",
   "metadata": {
    "id": "USKsgxfFOepi"
   },
   "source": [
    "#Figure out which data category we want"
   ]
  },
  {
   "cell_type": "code",
   "execution_count": 9,
   "metadata": {
    "colab": {
     "base_uri": "https://localhost:8080/"
    },
    "id": "6ZmXOr9-Ns37",
    "outputId": "1377b5e9-565e-4870-d347-3cf1a2925b33"
   },
   "outputs": [
    {
     "data": {
      "text/plain": [
       "200"
      ]
     },
     "execution_count": 9,
     "metadata": {},
     "output_type": "execute_result"
    }
   ],
   "source": [
    "response = make_request(\n",
    "    'datacategories',\n",
    "    payload={\n",
    "        'datasetid' : 'GHCND'\n",
    "        }\n",
    "    )\n",
    "response.status_code"
   ]
  },
  {
   "cell_type": "code",
   "execution_count": 10,
   "metadata": {
    "colab": {
     "base_uri": "https://localhost:8080/"
    },
    "id": "vu3jb-xJOhd6",
    "outputId": "467135c0-b667-4222-f7a4-74512ddeb8cf"
   },
   "outputs": [
    {
     "data": {
      "text/plain": [
       "[{'name': 'Evaporation', 'id': 'EVAP'},\n",
       " {'name': 'Land', 'id': 'LAND'},\n",
       " {'name': 'Precipitation', 'id': 'PRCP'},\n",
       " {'name': 'Sky cover & clouds', 'id': 'SKY'},\n",
       " {'name': 'Sunshine', 'id': 'SUN'},\n",
       " {'name': 'Air Temperature', 'id': 'TEMP'},\n",
       " {'name': 'Water', 'id': 'WATER'},\n",
       " {'name': 'Wind', 'id': 'WIND'},\n",
       " {'name': 'Weather Type', 'id': 'WXTYPE'}]"
      ]
     },
     "execution_count": 10,
     "metadata": {},
     "output_type": "execute_result"
    }
   ],
   "source": [
    "response.json()['results']"
   ]
  },
  {
   "cell_type": "markdown",
   "metadata": {
    "id": "eMg7ySMLOvSr"
   },
   "source": [
    "#Grab the data type ID for the Temperature category"
   ]
  },
  {
   "cell_type": "code",
   "execution_count": 29,
   "metadata": {
    "colab": {
     "base_uri": "https://localhost:8080/"
    },
    "id": "7FqWvI2-Ozd6",
    "outputId": "ed82c358-4812-4bd5-f1ad-ab31968920e2"
   },
   "outputs": [
    {
     "data": {
      "text/plain": [
       "200"
      ]
     },
     "execution_count": 29,
     "metadata": {},
     "output_type": "execute_result"
    }
   ],
   "source": [
    "response = make_request(\n",
    "    'datatypes',\n",
    "    payload={\n",
    "         'datacategoryid': 'TEMP',\n",
    "        'limit' : 100\n",
    "    }\n",
    ")\n",
    "response.status_code"
   ]
  },
  {
   "cell_type": "code",
   "execution_count": 14,
   "metadata": {
    "colab": {
     "base_uri": "https://localhost:8080/"
    },
    "id": "U0S1kmyQPYvi",
    "outputId": "65ffd22b-86fa-4c25-8cc6-61d0045478dc"
   },
   "outputs": [
    {
     "data": {
      "text/plain": [
       "[('MNTM', 'Monthly mean temperature'),\n",
       " ('TAVG', 'Average Temperature.'),\n",
       " ('TMAX', 'Maximum temperature'),\n",
       " ('TMIN', 'Minimum temperature'),\n",
       " ('TOBS', 'Temperature at the time of observation')]"
      ]
     },
     "execution_count": 14,
     "metadata": {},
     "output_type": "execute_result"
    }
   ],
   "source": [
    "[(datatype['id'], datatype['maxdate']) for datatype in response.json()['results']][-5:]"
   ]
  },
  {
   "cell_type": "markdown",
   "metadata": {
    "id": "7g17aMEgPnS7"
   },
   "source": [
    "#Determine which Location Category we want"
   ]
  },
  {
   "cell_type": "code",
   "execution_count": 15,
   "metadata": {
    "colab": {
     "base_uri": "https://localhost:8080/"
    },
    "id": "FQVQcj8CPp6Z",
    "outputId": "001370ce-c54e-4edc-d80e-0cf804b36ede"
   },
   "outputs": [
    {
     "data": {
      "text/plain": [
       "200"
      ]
     },
     "execution_count": 15,
     "metadata": {},
     "output_type": "execute_result"
    }
   ],
   "source": [
    "response = make_request(\n",
    "    'locationcategories',\n",
    "    {\n",
    "        'datasetid' : 'GHCND'\n",
    "    }\n",
    ")\n",
    "response.status_code"
   ]
  },
  {
   "cell_type": "code",
   "execution_count": 16,
   "metadata": {
    "colab": {
     "base_uri": "https://localhost:8080/"
    },
    "id": "rMgxXyrOP9D6",
    "outputId": "9ce79f0c-e83b-492a-91b4-0c46198c26ce"
   },
   "outputs": [
    {
     "name": "stdout",
     "output_type": "stream",
     "text": [
      "{'metadata': {'resultset': {'count': 12, 'limit': 25, 'offset': 1}},\n",
      " 'results': [{'id': 'CITY', 'name': 'City'},\n",
      "             {'id': 'CLIM_DIV', 'name': 'Climate Division'},\n",
      "             {'id': 'CLIM_REG', 'name': 'Climate Region'},\n",
      "             {'id': 'CNTRY', 'name': 'Country'},\n",
      "             {'id': 'CNTY', 'name': 'County'},\n",
      "             {'id': 'HYD_ACC', 'name': 'Hydrologic Accounting Unit'},\n",
      "             {'id': 'HYD_CAT', 'name': 'Hydrologic Cataloging Unit'},\n",
      "             {'id': 'HYD_REG', 'name': 'Hydrologic Region'},\n",
      "             {'id': 'HYD_SUB', 'name': 'Hydrologic Subregion'},\n",
      "             {'id': 'ST', 'name': 'State'},\n",
      "             {'id': 'US_TERR', 'name': 'US Territory'},\n",
      "             {'id': 'ZIP', 'name': 'Zip Code'}]}\n"
     ]
    }
   ],
   "source": [
    "import pprint\n",
    "pprint.pprint(response.json())"
   ]
  },
  {
   "cell_type": "code",
   "execution_count": null,
   "metadata": {
    "id": "hVJubjPIZnyv"
   },
   "outputs": [],
   "source": [
    "#[(datatype['id'], datatype['name']) for datatype in response.json()['results']][0]\n",
    "response.json(['results'][0])"
   ]
  },
  {
   "cell_type": "markdown",
   "metadata": {
    "id": "ZCZEEeJPQTW6"
   },
   "source": [
    "#Get NYC Location ID"
   ]
  },
  {
   "cell_type": "code",
   "execution_count": 17,
   "metadata": {
    "id": "MQn8PXShQ0xU"
   },
   "outputs": [],
   "source": [
    "def get_item(name, what, endpoint, start=1, end=None):\n",
    "  \"\"\"\n",
    "  Grab the JSON payload for a agiven field by name using binary search.\n",
    "\n",
    "  Parameters:\n",
    "      - name: The item to look for.\n",
    "      - what: Dictionary specifying what the item in `name` is.\n",
    "      - endpoint: Where to look for the item.\n",
    "      - start: The position to start at. We don't need to touch this, but the\n",
    "      function will manipulate this with recursion.\n",
    "      - end: The last position of the cities. Used to find the midpoint, but\n",
    "      like `start` this is not something we need to worry about.\n",
    "  Returns:\n",
    "      Dictionary of the information for the item if found otherwise an empty dictionary.\n",
    "  \"\"\"\n",
    "  # find the midpoint which we use to cut the data in half each time\n",
    "  mid = (start + (end if end else 1)) // 2\n",
    "  # lowercase the name so this is not case-sensitive\n",
    "  name = name.lower()\n",
    "  # define the payload we will send with each request\n",
    "  payload = {\n",
    "     'datasetid' : 'GHCND',\n",
    "     'sortfield' : 'name',\n",
    "     'offset' : mid, # we will change the offset each time\n",
    "     'limit' : 1 # we only want one value back\n",
    "  }\n",
    "  # make our request adding any additional filter parameters from `what`\n",
    "  response = make_request(endpoint, {**payload, **what})\n",
    "  if response.ok:\n",
    "    # if response is ok, grab the end index from the response metadata the first time through\n",
    "    end = end if end else response.json()['metadata']['resultset']['count']\n",
    "\n",
    "    # grab the lowercase version of the current name\n",
    "    current_name = response.json()['results'][0]['name'].lower()\n",
    "\n",
    "    # if what we are searching for is in the current name, we have found our item\n",
    "    if name in current_name:\n",
    "      return response.json()['results'][0] # return the found item\n",
    "    else:\n",
    "      if start >= end:\n",
    "         #if our start index is greater than or equal to our end, we couldn't find it\n",
    "         return {}\n",
    "      elif name < current_name:\n",
    "        # our name comes before the current name in the alphabet, so we search further to the left\n",
    "        return get_item(name, what, endpoint, start, mid - 1)\n",
    "      elif name > current_name:\n",
    "        # our name comes after the current name in the alphabet, so we search further to the right\n",
    "        return get_item(name, what, endpoint, mid + 1, end)\n",
    "  else:\n",
    "    # response wasn't ok, use code to determine why\n",
    "    print(f'Response not OK, status: {response.status_code}')\n",
    "\n",
    "def get_location(name):\n",
    "  \"\"\"\n",
    "  Grab the JSON payload for the location by name using binary search.\n",
    "  Parameters:\n",
    "    - name: The city to look for.\n",
    "  Returns:\n",
    "      Dictionary of the information for the city if found otherwise\n",
    "      an empty dictionary.\n",
    "  \"\"\"\n",
    "  return get_item(name, {'locationcategoryid' : 'CITY'}, 'locations')"
   ]
  },
  {
   "cell_type": "code",
   "execution_count": 18,
   "metadata": {
    "colab": {
     "base_uri": "https://localhost:8080/"
    },
    "id": "EMcQfZNHU6j5",
    "outputId": "2e9de0d4-1e0f-42a4-be55-bd4f30d849f3"
   },
   "outputs": [
    {
     "data": {
      "text/plain": [
       "{'mindate': '1869-01-01',\n",
       " 'maxdate': '2024-03-11',\n",
       " 'name': 'New York, NY US',\n",
       " 'datacoverage': 1,\n",
       " 'id': 'CITY:US360019'}"
      ]
     },
     "execution_count": 18,
     "metadata": {},
     "output_type": "execute_result"
    }
   ],
   "source": [
    "#get NYC id\n",
    "nyc = get_location('New York')\n",
    "nyc"
   ]
  },
  {
   "cell_type": "markdown",
   "metadata": {
    "id": "S8mHPCpUVAbh"
   },
   "source": [
    "#Get the station ID for Central Park"
   ]
  },
  {
   "cell_type": "code",
   "execution_count": 19,
   "metadata": {
    "colab": {
     "base_uri": "https://localhost:8080/"
    },
    "id": "T14NccITVEGa",
    "outputId": "833f9257-66ce-4fcc-8e49-d1c68a0d121d"
   },
   "outputs": [
    {
     "data": {
      "text/plain": [
       "{'elevation': 42.7,\n",
       " 'mindate': '1869-01-01',\n",
       " 'maxdate': '2024-03-10',\n",
       " 'latitude': 40.77898,\n",
       " 'name': 'NY CITY CENTRAL PARK, NY US',\n",
       " 'datacoverage': 1,\n",
       " 'id': 'GHCND:USW00094728',\n",
       " 'elevationUnit': 'METERS',\n",
       " 'longitude': -73.96925}"
      ]
     },
     "execution_count": 19,
     "metadata": {},
     "output_type": "execute_result"
    }
   ],
   "source": [
    "central_park = get_item('NY City Central Park', {'locationid' : nyc['id']}, 'stations')\n",
    "central_park"
   ]
  },
  {
   "cell_type": "markdown",
   "metadata": {
    "id": "WuXchON0VIxZ"
   },
   "source": [
    "#Request the temperature data"
   ]
  },
  {
   "cell_type": "code",
   "execution_count": 28,
   "metadata": {
    "colab": {
     "base_uri": "https://localhost:8080/"
    },
    "id": "juUxt7bsVK5o",
    "outputId": "ecdc1275-2b95-4248-87a8-21b7188fcb83"
   },
   "outputs": [
    {
     "data": {
      "text/plain": [
       "200"
      ]
     },
     "execution_count": 28,
     "metadata": {},
     "output_type": "execute_result"
    }
   ],
   "source": [
    "# get NYC daily summaries data\n",
    "response = make_request(\n",
    "    'data',\n",
    "     {\n",
    "         'datasetid' : 'GHCND',\n",
    "         'stationid' : central_park['id'],\n",
    "         'locationid' : nyc['id'],\n",
    "         'startdate' : '2018-10-01',\n",
    "         'enddate' : '2018-10-31',\n",
    "         'datatypeid' : ['TMIN', 'TMAX', 'TOBS'], # temperature at time of observation, min, and max\n",
    "         'units' : 'metric',\n",
    "         'limit' : 1000\n",
    "    }\n",
    ")\n",
    "response.status_code"
   ]
  },
  {
   "cell_type": "markdown",
   "metadata": {
    "id": "IhSn6WgmVY7x"
   },
   "source": [
    "#Create a DataFrame"
   ]
  },
  {
   "cell_type": "code",
   "execution_count": 21,
   "metadata": {
    "colab": {
     "base_uri": "https://localhost:8080/",
     "height": 206
    },
    "id": "wepWoRuiVagJ",
    "outputId": "33ca5710-3a39-406d-a4b1-0c30ce4b7993"
   },
   "outputs": [
    {
     "data": {
      "application/vnd.google.colaboratory.intrinsic+json": {
       "summary": "{\n  \"name\": \"df\",\n  \"rows\": 62,\n  \"fields\": [\n    {\n      \"column\": \"date\",\n      \"properties\": {\n        \"dtype\": \"object\",\n        \"num_unique_values\": 31,\n        \"samples\": [\n          \"2018-10-28T00:00:00\",\n          \"2018-10-16T00:00:00\",\n          \"2018-10-24T00:00:00\"\n        ],\n        \"semantic_type\": \"\",\n        \"description\": \"\"\n      }\n    },\n    {\n      \"column\": \"datatype\",\n      \"properties\": {\n        \"dtype\": \"category\",\n        \"num_unique_values\": 2,\n        \"samples\": [\n          \"TMIN\",\n          \"TMAX\"\n        ],\n        \"semantic_type\": \"\",\n        \"description\": \"\"\n      }\n    },\n    {\n      \"column\": \"station\",\n      \"properties\": {\n        \"dtype\": \"category\",\n        \"num_unique_values\": 1,\n        \"samples\": [\n          \"GHCND:USW00094728\"\n        ],\n        \"semantic_type\": \"\",\n        \"description\": \"\"\n      }\n    },\n    {\n      \"column\": \"attributes\",\n      \"properties\": {\n        \"dtype\": \"category\",\n        \"num_unique_values\": 1,\n        \"samples\": [\n          \",,W,2400\"\n        ],\n        \"semantic_type\": \"\",\n        \"description\": \"\"\n      }\n    },\n    {\n      \"column\": \"value\",\n      \"properties\": {\n        \"dtype\": \"number\",\n        \"std\": 6.573912032246916,\n        \"min\": 3.3,\n        \"max\": 26.7,\n        \"num_unique_values\": 33,\n        \"samples\": [\n          7.2\n        ],\n        \"semantic_type\": \"\",\n        \"description\": \"\"\n      }\n    }\n  ]\n}",
       "type": "dataframe",
       "variable_name": "df"
      },
      "text/html": [
       "\n",
       "  <div id=\"df-88c27c66-a41d-4c52-982f-eea9771febea\" class=\"colab-df-container\">\n",
       "    <div>\n",
       "<style scoped>\n",
       "    .dataframe tbody tr th:only-of-type {\n",
       "        vertical-align: middle;\n",
       "    }\n",
       "\n",
       "    .dataframe tbody tr th {\n",
       "        vertical-align: top;\n",
       "    }\n",
       "\n",
       "    .dataframe thead th {\n",
       "        text-align: right;\n",
       "    }\n",
       "</style>\n",
       "<table border=\"1\" class=\"dataframe\">\n",
       "  <thead>\n",
       "    <tr style=\"text-align: right;\">\n",
       "      <th></th>\n",
       "      <th>date</th>\n",
       "      <th>datatype</th>\n",
       "      <th>station</th>\n",
       "      <th>attributes</th>\n",
       "      <th>value</th>\n",
       "    </tr>\n",
       "  </thead>\n",
       "  <tbody>\n",
       "    <tr>\n",
       "      <th>0</th>\n",
       "      <td>2018-10-01T00:00:00</td>\n",
       "      <td>TMAX</td>\n",
       "      <td>GHCND:USW00094728</td>\n",
       "      <td>,,W,2400</td>\n",
       "      <td>24.4</td>\n",
       "    </tr>\n",
       "    <tr>\n",
       "      <th>1</th>\n",
       "      <td>2018-10-01T00:00:00</td>\n",
       "      <td>TMIN</td>\n",
       "      <td>GHCND:USW00094728</td>\n",
       "      <td>,,W,2400</td>\n",
       "      <td>17.2</td>\n",
       "    </tr>\n",
       "    <tr>\n",
       "      <th>2</th>\n",
       "      <td>2018-10-02T00:00:00</td>\n",
       "      <td>TMAX</td>\n",
       "      <td>GHCND:USW00094728</td>\n",
       "      <td>,,W,2400</td>\n",
       "      <td>25.0</td>\n",
       "    </tr>\n",
       "    <tr>\n",
       "      <th>3</th>\n",
       "      <td>2018-10-02T00:00:00</td>\n",
       "      <td>TMIN</td>\n",
       "      <td>GHCND:USW00094728</td>\n",
       "      <td>,,W,2400</td>\n",
       "      <td>18.3</td>\n",
       "    </tr>\n",
       "    <tr>\n",
       "      <th>4</th>\n",
       "      <td>2018-10-03T00:00:00</td>\n",
       "      <td>TMAX</td>\n",
       "      <td>GHCND:USW00094728</td>\n",
       "      <td>,,W,2400</td>\n",
       "      <td>23.3</td>\n",
       "    </tr>\n",
       "  </tbody>\n",
       "</table>\n",
       "</div>\n",
       "    <div class=\"colab-df-buttons\">\n",
       "\n",
       "  <div class=\"colab-df-container\">\n",
       "    <button class=\"colab-df-convert\" onclick=\"convertToInteractive('df-88c27c66-a41d-4c52-982f-eea9771febea')\"\n",
       "            title=\"Convert this dataframe to an interactive table.\"\n",
       "            style=\"display:none;\">\n",
       "\n",
       "  <svg xmlns=\"http://www.w3.org/2000/svg\" height=\"24px\" viewBox=\"0 -960 960 960\">\n",
       "    <path d=\"M120-120v-720h720v720H120Zm60-500h600v-160H180v160Zm220 220h160v-160H400v160Zm0 220h160v-160H400v160ZM180-400h160v-160H180v160Zm440 0h160v-160H620v160ZM180-180h160v-160H180v160Zm440 0h160v-160H620v160Z\"/>\n",
       "  </svg>\n",
       "    </button>\n",
       "\n",
       "  <style>\n",
       "    .colab-df-container {\n",
       "      display:flex;\n",
       "      gap: 12px;\n",
       "    }\n",
       "\n",
       "    .colab-df-convert {\n",
       "      background-color: #E8F0FE;\n",
       "      border: none;\n",
       "      border-radius: 50%;\n",
       "      cursor: pointer;\n",
       "      display: none;\n",
       "      fill: #1967D2;\n",
       "      height: 32px;\n",
       "      padding: 0 0 0 0;\n",
       "      width: 32px;\n",
       "    }\n",
       "\n",
       "    .colab-df-convert:hover {\n",
       "      background-color: #E2EBFA;\n",
       "      box-shadow: 0px 1px 2px rgba(60, 64, 67, 0.3), 0px 1px 3px 1px rgba(60, 64, 67, 0.15);\n",
       "      fill: #174EA6;\n",
       "    }\n",
       "\n",
       "    .colab-df-buttons div {\n",
       "      margin-bottom: 4px;\n",
       "    }\n",
       "\n",
       "    [theme=dark] .colab-df-convert {\n",
       "      background-color: #3B4455;\n",
       "      fill: #D2E3FC;\n",
       "    }\n",
       "\n",
       "    [theme=dark] .colab-df-convert:hover {\n",
       "      background-color: #434B5C;\n",
       "      box-shadow: 0px 1px 3px 1px rgba(0, 0, 0, 0.15);\n",
       "      filter: drop-shadow(0px 1px 2px rgba(0, 0, 0, 0.3));\n",
       "      fill: #FFFFFF;\n",
       "    }\n",
       "  </style>\n",
       "\n",
       "    <script>\n",
       "      const buttonEl =\n",
       "        document.querySelector('#df-88c27c66-a41d-4c52-982f-eea9771febea button.colab-df-convert');\n",
       "      buttonEl.style.display =\n",
       "        google.colab.kernel.accessAllowed ? 'block' : 'none';\n",
       "\n",
       "      async function convertToInteractive(key) {\n",
       "        const element = document.querySelector('#df-88c27c66-a41d-4c52-982f-eea9771febea');\n",
       "        const dataTable =\n",
       "          await google.colab.kernel.invokeFunction('convertToInteractive',\n",
       "                                                    [key], {});\n",
       "        if (!dataTable) return;\n",
       "\n",
       "        const docLinkHtml = 'Like what you see? Visit the ' +\n",
       "          '<a target=\"_blank\" href=https://colab.research.google.com/notebooks/data_table.ipynb>data table notebook</a>'\n",
       "          + ' to learn more about interactive tables.';\n",
       "        element.innerHTML = '';\n",
       "        dataTable['output_type'] = 'display_data';\n",
       "        await google.colab.output.renderOutput(dataTable, element);\n",
       "        const docLink = document.createElement('div');\n",
       "        docLink.innerHTML = docLinkHtml;\n",
       "        element.appendChild(docLink);\n",
       "      }\n",
       "    </script>\n",
       "  </div>\n",
       "\n",
       "\n",
       "<div id=\"df-d612e83a-4335-4fc3-915e-0178eaf49cdb\">\n",
       "  <button class=\"colab-df-quickchart\" onclick=\"quickchart('df-d612e83a-4335-4fc3-915e-0178eaf49cdb')\"\n",
       "            title=\"Suggest charts\"\n",
       "            style=\"display:none;\">\n",
       "\n",
       "<svg xmlns=\"http://www.w3.org/2000/svg\" height=\"24px\"viewBox=\"0 0 24 24\"\n",
       "     width=\"24px\">\n",
       "    <g>\n",
       "        <path d=\"M19 3H5c-1.1 0-2 .9-2 2v14c0 1.1.9 2 2 2h14c1.1 0 2-.9 2-2V5c0-1.1-.9-2-2-2zM9 17H7v-7h2v7zm4 0h-2V7h2v10zm4 0h-2v-4h2v4z\"/>\n",
       "    </g>\n",
       "</svg>\n",
       "  </button>\n",
       "\n",
       "<style>\n",
       "  .colab-df-quickchart {\n",
       "      --bg-color: #E8F0FE;\n",
       "      --fill-color: #1967D2;\n",
       "      --hover-bg-color: #E2EBFA;\n",
       "      --hover-fill-color: #174EA6;\n",
       "      --disabled-fill-color: #AAA;\n",
       "      --disabled-bg-color: #DDD;\n",
       "  }\n",
       "\n",
       "  [theme=dark] .colab-df-quickchart {\n",
       "      --bg-color: #3B4455;\n",
       "      --fill-color: #D2E3FC;\n",
       "      --hover-bg-color: #434B5C;\n",
       "      --hover-fill-color: #FFFFFF;\n",
       "      --disabled-bg-color: #3B4455;\n",
       "      --disabled-fill-color: #666;\n",
       "  }\n",
       "\n",
       "  .colab-df-quickchart {\n",
       "    background-color: var(--bg-color);\n",
       "    border: none;\n",
       "    border-radius: 50%;\n",
       "    cursor: pointer;\n",
       "    display: none;\n",
       "    fill: var(--fill-color);\n",
       "    height: 32px;\n",
       "    padding: 0;\n",
       "    width: 32px;\n",
       "  }\n",
       "\n",
       "  .colab-df-quickchart:hover {\n",
       "    background-color: var(--hover-bg-color);\n",
       "    box-shadow: 0 1px 2px rgba(60, 64, 67, 0.3), 0 1px 3px 1px rgba(60, 64, 67, 0.15);\n",
       "    fill: var(--button-hover-fill-color);\n",
       "  }\n",
       "\n",
       "  .colab-df-quickchart-complete:disabled,\n",
       "  .colab-df-quickchart-complete:disabled:hover {\n",
       "    background-color: var(--disabled-bg-color);\n",
       "    fill: var(--disabled-fill-color);\n",
       "    box-shadow: none;\n",
       "  }\n",
       "\n",
       "  .colab-df-spinner {\n",
       "    border: 2px solid var(--fill-color);\n",
       "    border-color: transparent;\n",
       "    border-bottom-color: var(--fill-color);\n",
       "    animation:\n",
       "      spin 1s steps(1) infinite;\n",
       "  }\n",
       "\n",
       "  @keyframes spin {\n",
       "    0% {\n",
       "      border-color: transparent;\n",
       "      border-bottom-color: var(--fill-color);\n",
       "      border-left-color: var(--fill-color);\n",
       "    }\n",
       "    20% {\n",
       "      border-color: transparent;\n",
       "      border-left-color: var(--fill-color);\n",
       "      border-top-color: var(--fill-color);\n",
       "    }\n",
       "    30% {\n",
       "      border-color: transparent;\n",
       "      border-left-color: var(--fill-color);\n",
       "      border-top-color: var(--fill-color);\n",
       "      border-right-color: var(--fill-color);\n",
       "    }\n",
       "    40% {\n",
       "      border-color: transparent;\n",
       "      border-right-color: var(--fill-color);\n",
       "      border-top-color: var(--fill-color);\n",
       "    }\n",
       "    60% {\n",
       "      border-color: transparent;\n",
       "      border-right-color: var(--fill-color);\n",
       "    }\n",
       "    80% {\n",
       "      border-color: transparent;\n",
       "      border-right-color: var(--fill-color);\n",
       "      border-bottom-color: var(--fill-color);\n",
       "    }\n",
       "    90% {\n",
       "      border-color: transparent;\n",
       "      border-bottom-color: var(--fill-color);\n",
       "    }\n",
       "  }\n",
       "</style>\n",
       "\n",
       "  <script>\n",
       "    async function quickchart(key) {\n",
       "      const quickchartButtonEl =\n",
       "        document.querySelector('#' + key + ' button');\n",
       "      quickchartButtonEl.disabled = true;  // To prevent multiple clicks.\n",
       "      quickchartButtonEl.classList.add('colab-df-spinner');\n",
       "      try {\n",
       "        const charts = await google.colab.kernel.invokeFunction(\n",
       "            'suggestCharts', [key], {});\n",
       "      } catch (error) {\n",
       "        console.error('Error during call to suggestCharts:', error);\n",
       "      }\n",
       "      quickchartButtonEl.classList.remove('colab-df-spinner');\n",
       "      quickchartButtonEl.classList.add('colab-df-quickchart-complete');\n",
       "    }\n",
       "    (() => {\n",
       "      let quickchartButtonEl =\n",
       "        document.querySelector('#df-d612e83a-4335-4fc3-915e-0178eaf49cdb button');\n",
       "      quickchartButtonEl.style.display =\n",
       "        google.colab.kernel.accessAllowed ? 'block' : 'none';\n",
       "    })();\n",
       "  </script>\n",
       "</div>\n",
       "    </div>\n",
       "  </div>\n"
      ],
      "text/plain": [
       "                  date datatype            station attributes  value\n",
       "0  2018-10-01T00:00:00     TMAX  GHCND:USW00094728   ,,W,2400   24.4\n",
       "1  2018-10-01T00:00:00     TMIN  GHCND:USW00094728   ,,W,2400   17.2\n",
       "2  2018-10-02T00:00:00     TMAX  GHCND:USW00094728   ,,W,2400   25.0\n",
       "3  2018-10-02T00:00:00     TMIN  GHCND:USW00094728   ,,W,2400   18.3\n",
       "4  2018-10-03T00:00:00     TMAX  GHCND:USW00094728   ,,W,2400   23.3"
      ]
     },
     "execution_count": 21,
     "metadata": {},
     "output_type": "execute_result"
    }
   ],
   "source": [
    "import pandas as pd\n",
    "\n",
    "df = pd.DataFrame(response.json()['results'])\n",
    "df.head()"
   ]
  },
  {
   "cell_type": "markdown",
   "metadata": {
    "id": "FquWCy0DVo_i"
   },
   "source": [
    "#Using a different station"
   ]
  },
  {
   "cell_type": "code",
   "execution_count": 22,
   "metadata": {
    "colab": {
     "base_uri": "https://localhost:8080/"
    },
    "id": "Xkli-M6uVqcZ",
    "outputId": "1bf01f5e-73f6-4e7c-aa16-e55135d65159"
   },
   "outputs": [
    {
     "data": {
      "text/plain": [
       "{'elevation': 3,\n",
       " 'mindate': '1939-10-07',\n",
       " 'maxdate': '2024-03-11',\n",
       " 'latitude': 40.77945,\n",
       " 'name': 'LAGUARDIA AIRPORT, NY US',\n",
       " 'datacoverage': 1,\n",
       " 'id': 'GHCND:USW00014732',\n",
       " 'elevationUnit': 'METERS',\n",
       " 'longitude': -73.88027}"
      ]
     },
     "execution_count": 22,
     "metadata": {},
     "output_type": "execute_result"
    }
   ],
   "source": [
    "laguardia = get_item(\n",
    "    'LaGuardia', {'locationid' : nyc['id']}, 'stations'\n",
    ")\n",
    "laguardia"
   ]
  },
  {
   "cell_type": "code",
   "execution_count": 23,
   "metadata": {
    "colab": {
     "base_uri": "https://localhost:8080/"
    },
    "id": "-WOAX1FKVv58",
    "outputId": "4a8f6236-3178-4a04-edd2-e196316e92a8"
   },
   "outputs": [
    {
     "data": {
      "text/plain": [
       "200"
      ]
     },
     "execution_count": 23,
     "metadata": {},
     "output_type": "execute_result"
    }
   ],
   "source": [
    "# get NYC daily summaries data\n",
    "response = make_request(\n",
    "    'data',\n",
    "     {\n",
    "         'datasetid' : 'GHCND',\n",
    "         'stationid' : laguardia['id'],\n",
    "         'locationid' : nyc['id'],\n",
    "         'startdate' : '2018-10-01',\n",
    "         'enddate' : '2018-10-31',\n",
    "         'datatypeid' : ['TMIN', 'TMAX', 'TAVG'], # temperature at time of observation, min, and max\n",
    "         'units' : 'metric',\n",
    "         'limit' : 1000\n",
    "    }\n",
    ")\n",
    "response.status_code"
   ]
  },
  {
   "cell_type": "code",
   "execution_count": 24,
   "metadata": {
    "colab": {
     "base_uri": "https://localhost:8080/",
     "height": 206
    },
    "id": "K6xFYLq-V8YZ",
    "outputId": "43ec843c-f5c5-4bb7-9482-0dc52b6e6475"
   },
   "outputs": [
    {
     "data": {
      "application/vnd.google.colaboratory.intrinsic+json": {
       "summary": "{\n  \"name\": \"df\",\n  \"rows\": 93,\n  \"fields\": [\n    {\n      \"column\": \"date\",\n      \"properties\": {\n        \"dtype\": \"object\",\n        \"num_unique_values\": 31,\n        \"samples\": [\n          \"2018-10-28T00:00:00\",\n          \"2018-10-16T00:00:00\",\n          \"2018-10-24T00:00:00\"\n        ],\n        \"semantic_type\": \"\",\n        \"description\": \"\"\n      }\n    },\n    {\n      \"column\": \"datatype\",\n      \"properties\": {\n        \"dtype\": \"category\",\n        \"num_unique_values\": 3,\n        \"samples\": [\n          \"TAVG\",\n          \"TMAX\",\n          \"TMIN\"\n        ],\n        \"semantic_type\": \"\",\n        \"description\": \"\"\n      }\n    },\n    {\n      \"column\": \"station\",\n      \"properties\": {\n        \"dtype\": \"category\",\n        \"num_unique_values\": 1,\n        \"samples\": [\n          \"GHCND:USW00014732\"\n        ],\n        \"semantic_type\": \"\",\n        \"description\": \"\"\n      }\n    },\n    {\n      \"column\": \"attributes\",\n      \"properties\": {\n        \"dtype\": \"category\",\n        \"num_unique_values\": 2,\n        \"samples\": [\n          \",,W,2400\"\n        ],\n        \"semantic_type\": \"\",\n        \"description\": \"\"\n      }\n    },\n    {\n      \"column\": \"value\",\n      \"properties\": {\n        \"dtype\": \"number\",\n        \"std\": 6.133703326950107,\n        \"min\": 5.6,\n        \"max\": 27.8,\n        \"num_unique_values\": 57,\n        \"samples\": [\n          21.2\n        ],\n        \"semantic_type\": \"\",\n        \"description\": \"\"\n      }\n    }\n  ]\n}",
       "type": "dataframe",
       "variable_name": "df"
      },
      "text/html": [
       "\n",
       "  <div id=\"df-89a437b0-cf69-402a-8ada-a3f10c2488e6\" class=\"colab-df-container\">\n",
       "    <div>\n",
       "<style scoped>\n",
       "    .dataframe tbody tr th:only-of-type {\n",
       "        vertical-align: middle;\n",
       "    }\n",
       "\n",
       "    .dataframe tbody tr th {\n",
       "        vertical-align: top;\n",
       "    }\n",
       "\n",
       "    .dataframe thead th {\n",
       "        text-align: right;\n",
       "    }\n",
       "</style>\n",
       "<table border=\"1\" class=\"dataframe\">\n",
       "  <thead>\n",
       "    <tr style=\"text-align: right;\">\n",
       "      <th></th>\n",
       "      <th>date</th>\n",
       "      <th>datatype</th>\n",
       "      <th>station</th>\n",
       "      <th>attributes</th>\n",
       "      <th>value</th>\n",
       "    </tr>\n",
       "  </thead>\n",
       "  <tbody>\n",
       "    <tr>\n",
       "      <th>0</th>\n",
       "      <td>2018-10-01T00:00:00</td>\n",
       "      <td>TAVG</td>\n",
       "      <td>GHCND:USW00014732</td>\n",
       "      <td>H,,S,</td>\n",
       "      <td>21.2</td>\n",
       "    </tr>\n",
       "    <tr>\n",
       "      <th>1</th>\n",
       "      <td>2018-10-01T00:00:00</td>\n",
       "      <td>TMAX</td>\n",
       "      <td>GHCND:USW00014732</td>\n",
       "      <td>,,W,2400</td>\n",
       "      <td>25.6</td>\n",
       "    </tr>\n",
       "    <tr>\n",
       "      <th>2</th>\n",
       "      <td>2018-10-01T00:00:00</td>\n",
       "      <td>TMIN</td>\n",
       "      <td>GHCND:USW00014732</td>\n",
       "      <td>,,W,2400</td>\n",
       "      <td>18.3</td>\n",
       "    </tr>\n",
       "    <tr>\n",
       "      <th>3</th>\n",
       "      <td>2018-10-02T00:00:00</td>\n",
       "      <td>TAVG</td>\n",
       "      <td>GHCND:USW00014732</td>\n",
       "      <td>H,,S,</td>\n",
       "      <td>22.7</td>\n",
       "    </tr>\n",
       "    <tr>\n",
       "      <th>4</th>\n",
       "      <td>2018-10-02T00:00:00</td>\n",
       "      <td>TMAX</td>\n",
       "      <td>GHCND:USW00014732</td>\n",
       "      <td>,,W,2400</td>\n",
       "      <td>26.1</td>\n",
       "    </tr>\n",
       "  </tbody>\n",
       "</table>\n",
       "</div>\n",
       "    <div class=\"colab-df-buttons\">\n",
       "\n",
       "  <div class=\"colab-df-container\">\n",
       "    <button class=\"colab-df-convert\" onclick=\"convertToInteractive('df-89a437b0-cf69-402a-8ada-a3f10c2488e6')\"\n",
       "            title=\"Convert this dataframe to an interactive table.\"\n",
       "            style=\"display:none;\">\n",
       "\n",
       "  <svg xmlns=\"http://www.w3.org/2000/svg\" height=\"24px\" viewBox=\"0 -960 960 960\">\n",
       "    <path d=\"M120-120v-720h720v720H120Zm60-500h600v-160H180v160Zm220 220h160v-160H400v160Zm0 220h160v-160H400v160ZM180-400h160v-160H180v160Zm440 0h160v-160H620v160ZM180-180h160v-160H180v160Zm440 0h160v-160H620v160Z\"/>\n",
       "  </svg>\n",
       "    </button>\n",
       "\n",
       "  <style>\n",
       "    .colab-df-container {\n",
       "      display:flex;\n",
       "      gap: 12px;\n",
       "    }\n",
       "\n",
       "    .colab-df-convert {\n",
       "      background-color: #E8F0FE;\n",
       "      border: none;\n",
       "      border-radius: 50%;\n",
       "      cursor: pointer;\n",
       "      display: none;\n",
       "      fill: #1967D2;\n",
       "      height: 32px;\n",
       "      padding: 0 0 0 0;\n",
       "      width: 32px;\n",
       "    }\n",
       "\n",
       "    .colab-df-convert:hover {\n",
       "      background-color: #E2EBFA;\n",
       "      box-shadow: 0px 1px 2px rgba(60, 64, 67, 0.3), 0px 1px 3px 1px rgba(60, 64, 67, 0.15);\n",
       "      fill: #174EA6;\n",
       "    }\n",
       "\n",
       "    .colab-df-buttons div {\n",
       "      margin-bottom: 4px;\n",
       "    }\n",
       "\n",
       "    [theme=dark] .colab-df-convert {\n",
       "      background-color: #3B4455;\n",
       "      fill: #D2E3FC;\n",
       "    }\n",
       "\n",
       "    [theme=dark] .colab-df-convert:hover {\n",
       "      background-color: #434B5C;\n",
       "      box-shadow: 0px 1px 3px 1px rgba(0, 0, 0, 0.15);\n",
       "      filter: drop-shadow(0px 1px 2px rgba(0, 0, 0, 0.3));\n",
       "      fill: #FFFFFF;\n",
       "    }\n",
       "  </style>\n",
       "\n",
       "    <script>\n",
       "      const buttonEl =\n",
       "        document.querySelector('#df-89a437b0-cf69-402a-8ada-a3f10c2488e6 button.colab-df-convert');\n",
       "      buttonEl.style.display =\n",
       "        google.colab.kernel.accessAllowed ? 'block' : 'none';\n",
       "\n",
       "      async function convertToInteractive(key) {\n",
       "        const element = document.querySelector('#df-89a437b0-cf69-402a-8ada-a3f10c2488e6');\n",
       "        const dataTable =\n",
       "          await google.colab.kernel.invokeFunction('convertToInteractive',\n",
       "                                                    [key], {});\n",
       "        if (!dataTable) return;\n",
       "\n",
       "        const docLinkHtml = 'Like what you see? Visit the ' +\n",
       "          '<a target=\"_blank\" href=https://colab.research.google.com/notebooks/data_table.ipynb>data table notebook</a>'\n",
       "          + ' to learn more about interactive tables.';\n",
       "        element.innerHTML = '';\n",
       "        dataTable['output_type'] = 'display_data';\n",
       "        await google.colab.output.renderOutput(dataTable, element);\n",
       "        const docLink = document.createElement('div');\n",
       "        docLink.innerHTML = docLinkHtml;\n",
       "        element.appendChild(docLink);\n",
       "      }\n",
       "    </script>\n",
       "  </div>\n",
       "\n",
       "\n",
       "<div id=\"df-04bc5f47-50de-40fc-a0c5-d498a8d17eb4\">\n",
       "  <button class=\"colab-df-quickchart\" onclick=\"quickchart('df-04bc5f47-50de-40fc-a0c5-d498a8d17eb4')\"\n",
       "            title=\"Suggest charts\"\n",
       "            style=\"display:none;\">\n",
       "\n",
       "<svg xmlns=\"http://www.w3.org/2000/svg\" height=\"24px\"viewBox=\"0 0 24 24\"\n",
       "     width=\"24px\">\n",
       "    <g>\n",
       "        <path d=\"M19 3H5c-1.1 0-2 .9-2 2v14c0 1.1.9 2 2 2h14c1.1 0 2-.9 2-2V5c0-1.1-.9-2-2-2zM9 17H7v-7h2v7zm4 0h-2V7h2v10zm4 0h-2v-4h2v4z\"/>\n",
       "    </g>\n",
       "</svg>\n",
       "  </button>\n",
       "\n",
       "<style>\n",
       "  .colab-df-quickchart {\n",
       "      --bg-color: #E8F0FE;\n",
       "      --fill-color: #1967D2;\n",
       "      --hover-bg-color: #E2EBFA;\n",
       "      --hover-fill-color: #174EA6;\n",
       "      --disabled-fill-color: #AAA;\n",
       "      --disabled-bg-color: #DDD;\n",
       "  }\n",
       "\n",
       "  [theme=dark] .colab-df-quickchart {\n",
       "      --bg-color: #3B4455;\n",
       "      --fill-color: #D2E3FC;\n",
       "      --hover-bg-color: #434B5C;\n",
       "      --hover-fill-color: #FFFFFF;\n",
       "      --disabled-bg-color: #3B4455;\n",
       "      --disabled-fill-color: #666;\n",
       "  }\n",
       "\n",
       "  .colab-df-quickchart {\n",
       "    background-color: var(--bg-color);\n",
       "    border: none;\n",
       "    border-radius: 50%;\n",
       "    cursor: pointer;\n",
       "    display: none;\n",
       "    fill: var(--fill-color);\n",
       "    height: 32px;\n",
       "    padding: 0;\n",
       "    width: 32px;\n",
       "  }\n",
       "\n",
       "  .colab-df-quickchart:hover {\n",
       "    background-color: var(--hover-bg-color);\n",
       "    box-shadow: 0 1px 2px rgba(60, 64, 67, 0.3), 0 1px 3px 1px rgba(60, 64, 67, 0.15);\n",
       "    fill: var(--button-hover-fill-color);\n",
       "  }\n",
       "\n",
       "  .colab-df-quickchart-complete:disabled,\n",
       "  .colab-df-quickchart-complete:disabled:hover {\n",
       "    background-color: var(--disabled-bg-color);\n",
       "    fill: var(--disabled-fill-color);\n",
       "    box-shadow: none;\n",
       "  }\n",
       "\n",
       "  .colab-df-spinner {\n",
       "    border: 2px solid var(--fill-color);\n",
       "    border-color: transparent;\n",
       "    border-bottom-color: var(--fill-color);\n",
       "    animation:\n",
       "      spin 1s steps(1) infinite;\n",
       "  }\n",
       "\n",
       "  @keyframes spin {\n",
       "    0% {\n",
       "      border-color: transparent;\n",
       "      border-bottom-color: var(--fill-color);\n",
       "      border-left-color: var(--fill-color);\n",
       "    }\n",
       "    20% {\n",
       "      border-color: transparent;\n",
       "      border-left-color: var(--fill-color);\n",
       "      border-top-color: var(--fill-color);\n",
       "    }\n",
       "    30% {\n",
       "      border-color: transparent;\n",
       "      border-left-color: var(--fill-color);\n",
       "      border-top-color: var(--fill-color);\n",
       "      border-right-color: var(--fill-color);\n",
       "    }\n",
       "    40% {\n",
       "      border-color: transparent;\n",
       "      border-right-color: var(--fill-color);\n",
       "      border-top-color: var(--fill-color);\n",
       "    }\n",
       "    60% {\n",
       "      border-color: transparent;\n",
       "      border-right-color: var(--fill-color);\n",
       "    }\n",
       "    80% {\n",
       "      border-color: transparent;\n",
       "      border-right-color: var(--fill-color);\n",
       "      border-bottom-color: var(--fill-color);\n",
       "    }\n",
       "    90% {\n",
       "      border-color: transparent;\n",
       "      border-bottom-color: var(--fill-color);\n",
       "    }\n",
       "  }\n",
       "</style>\n",
       "\n",
       "  <script>\n",
       "    async function quickchart(key) {\n",
       "      const quickchartButtonEl =\n",
       "        document.querySelector('#' + key + ' button');\n",
       "      quickchartButtonEl.disabled = true;  // To prevent multiple clicks.\n",
       "      quickchartButtonEl.classList.add('colab-df-spinner');\n",
       "      try {\n",
       "        const charts = await google.colab.kernel.invokeFunction(\n",
       "            'suggestCharts', [key], {});\n",
       "      } catch (error) {\n",
       "        console.error('Error during call to suggestCharts:', error);\n",
       "      }\n",
       "      quickchartButtonEl.classList.remove('colab-df-spinner');\n",
       "      quickchartButtonEl.classList.add('colab-df-quickchart-complete');\n",
       "    }\n",
       "    (() => {\n",
       "      let quickchartButtonEl =\n",
       "        document.querySelector('#df-04bc5f47-50de-40fc-a0c5-d498a8d17eb4 button');\n",
       "      quickchartButtonEl.style.display =\n",
       "        google.colab.kernel.accessAllowed ? 'block' : 'none';\n",
       "    })();\n",
       "  </script>\n",
       "</div>\n",
       "    </div>\n",
       "  </div>\n"
      ],
      "text/plain": [
       "                  date datatype            station attributes  value\n",
       "0  2018-10-01T00:00:00     TAVG  GHCND:USW00014732      H,,S,   21.2\n",
       "1  2018-10-01T00:00:00     TMAX  GHCND:USW00014732   ,,W,2400   25.6\n",
       "2  2018-10-01T00:00:00     TMIN  GHCND:USW00014732   ,,W,2400   18.3\n",
       "3  2018-10-02T00:00:00     TAVG  GHCND:USW00014732      H,,S,   22.7\n",
       "4  2018-10-02T00:00:00     TMAX  GHCND:USW00014732   ,,W,2400   26.1"
      ]
     },
     "execution_count": 24,
     "metadata": {},
     "output_type": "execute_result"
    }
   ],
   "source": [
    "df = pd.DataFrame(response.json()['results'])\n",
    "df.head()"
   ]
  },
  {
   "cell_type": "code",
   "execution_count": 25,
   "metadata": {
    "colab": {
     "base_uri": "https://localhost:8080/"
    },
    "id": "53KSQUGdWHGL",
    "outputId": "1eb15264-a598-4e05-ac7a-d6b499bec716"
   },
   "outputs": [
    {
     "data": {
      "text/plain": [
       "TAVG    31\n",
       "TMAX    31\n",
       "TMIN    31\n",
       "Name: datatype, dtype: int64"
      ]
     },
     "execution_count": 25,
     "metadata": {},
     "output_type": "execute_result"
    }
   ],
   "source": [
    "df.datatype.value_counts()"
   ]
  },
  {
   "cell_type": "code",
   "execution_count": 26,
   "metadata": {
    "id": "BCuixCBlWJaI"
   },
   "outputs": [],
   "source": [
    "df.to_csv('data.nyc_temperatures.csv', index=False)"
   ]
  }
 ],
 "metadata": {
  "colab": {
   "provenance": []
  },
  "kernelspec": {
   "display_name": "Python 3 (ipykernel)",
   "language": "python",
   "name": "python3"
  },
  "language_info": {
   "codemirror_mode": {
    "name": "ipython",
    "version": 3
   },
   "file_extension": ".py",
   "mimetype": "text/x-python",
   "name": "python",
   "nbconvert_exporter": "python",
   "pygments_lexer": "ipython3",
   "version": "3.10.9"
  }
 },
 "nbformat": 4,
 "nbformat_minor": 1
}
